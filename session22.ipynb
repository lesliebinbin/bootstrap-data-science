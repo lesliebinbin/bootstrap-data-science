{
 "cells": [
  {
   "cell_type": "code",
   "execution_count": 1,
   "metadata": {},
   "outputs": [],
   "source": [
    "%matplotlib inline\n",
    "import numpy as np\n",
    "import pandas as pd\n",
    "import matplotlib.pyplot as plt\n",
    "import seaborn as sns"
   ]
  },
  {
   "cell_type": "code",
   "execution_count": 2,
   "metadata": {},
   "outputs": [],
   "source": [
    "X = np.array([[0, 0], [1, 0], [0, 1], [1, 1]])\n",
    "y = (X[:,0] + X[:,1] == 1).astype(int)"
   ]
  },
  {
   "cell_type": "code",
   "execution_count": 3,
   "metadata": {},
   "outputs": [
    {
     "data": {
      "image/png": "[encoded data removed]",
      "text/plain": [
       "<Figure size 640x480 with 1 Axes>"
      ]
     },
     "metadata": {},
     "output_type": "display_data"
    }
   ],
   "source": [
    "for i in [0, 1]:\n",
    "    plt.scatter(X[y == i][:,0], X[y == i][:,1], marker=['o', 'x'][i], color=['b', 'k'][i],\n",
    "    s=1000)\n",
    "    plt.xlabel('Switch 0')\n",
    "    plt.ylabel('Switch 1')"
   ]
  },
  {
   "cell_type": "code",
   "execution_count": 4,
   "metadata": {},
   "outputs": [],
   "source": [
    "np.random.seed(0)\n",
    "y_simple = np.random.binomial(1, .5, size=10)\n",
    "X_simple = np.array([[e] for e in y_simple])"
   ]
  },
  {
   "cell_type": "code",
   "execution_count": 5,
   "metadata": {},
   "outputs": [
    {
     "name": "stdout",
     "output_type": "stream",
     "text": [
      "In 3 instances, both the switch and the light are off\n"
     ]
    }
   ],
   "source": [
    "count = (X_simple[:,0][y_simple == 0] == 0).sum()\n",
    "print(f\"In {count} instances, both the switch and the light are off\")"
   ]
  },
  {
   "cell_type": "code",
   "execution_count": 6,
   "metadata": {},
   "outputs": [
    {
     "name": "stdout",
     "output_type": "stream",
     "text": [
      "In 7 instances, both the switch and the light are on\n"
     ]
    }
   ],
   "source": [
    "count = (X_simple[:,0][y_simple == 1] == 1).sum()\n",
    "print(f\"In {count} instances, both the switch and the light are on\")"
   ]
  },
  {
   "cell_type": "code",
   "execution_count": 7,
   "metadata": {},
   "outputs": [
    {
     "name": "stdout",
     "output_type": "stream",
     "text": [
      "[[3 0]\n",
      " [0 7]]\n"
     ]
    }
   ],
   "source": [
    "def get_co_occurrence(X, y, col=0):\n",
    "    co_occurrence = []\n",
    "    for i in [0, 1]:\n",
    "        counts = [(X[:,col][y == i] == j).sum() for j in [0, 1]]\n",
    "        co_occurrence.append(counts)\n",
    "    return np.array(co_occurrence)\n",
    "M = get_co_occurrence(X_simple, y_simple)\n",
    "assert M[0][0] == 3\n",
    "assert M[1][1] == 7\n",
    "print(M)"
   ]
  },
  {
   "cell_type": "code",
   "execution_count": 8,
   "metadata": {},
   "outputs": [
    {
     "data": {
      "text/plain": [
       "array([[1],\n",
       "       [1],\n",
       "       [1],\n",
       "       [1],\n",
       "       [0],\n",
       "       [1],\n",
       "       [0],\n",
       "       [1],\n",
       "       [1],\n",
       "       [0]])"
      ]
     },
     "execution_count": 8,
     "metadata": {},
     "output_type": "execute_result"
    }
   ],
   "source": [
    "X_simple"
   ]
  },
  {
   "cell_type": "code",
   "execution_count": 9,
   "metadata": {},
   "outputs": [],
   "source": [
    "X_simple = np.vstack([X_simple, [1]])"
   ]
  },
  {
   "cell_type": "code",
   "execution_count": 10,
   "metadata": {},
   "outputs": [
    {
     "data": {
      "text/plain": [
       "array([1, 1, 1, 1, 0, 1, 0, 1, 1, 0])"
      ]
     },
     "execution_count": 10,
     "metadata": {},
     "output_type": "execute_result"
    }
   ],
   "source": [
    "y_simple"
   ]
  },
  {
   "cell_type": "code",
   "execution_count": 11,
   "metadata": {},
   "outputs": [],
   "source": [
    "y_simple = np.hstack([y_simple, [0]])"
   ]
  },
  {
   "cell_type": "code",
   "execution_count": 12,
   "metadata": {},
   "outputs": [],
   "source": [
    "M = get_co_occurrence(X_simple, y_simple)"
   ]
  },
  {
   "cell_type": "code",
   "execution_count": 13,
   "metadata": {},
   "outputs": [
    {
     "data": {
      "text/plain": [
       "array([[3, 1],\n",
       "       [0, 7]])"
      ]
     },
     "execution_count": 13,
     "metadata": {},
     "output_type": "execute_result"
    }
   ],
   "source": [
    "M"
   ]
  },
  {
   "cell_type": "code",
   "execution_count": 14,
   "metadata": {},
   "outputs": [
    {
     "name": "stdout",
     "output_type": "stream",
     "text": [
      "When the switch is set to 0, the bulb state probabilities are:\n",
      "[0.75 0.25]\n"
     ]
    }
   ],
   "source": [
    "bulb_probs = M[0] / M[0].sum()\n",
    "print(\"When the switch is set to 0, the bulb state probabilities are:\")\n",
    "print(bulb_probs)"
   ]
  },
  {
   "cell_type": "code",
   "execution_count": 15,
   "metadata": {},
   "outputs": [
    {
     "name": "stdout",
     "output_type": "stream",
     "text": [
      "When the switch is set to 1, the bulb state probabilities are:\n",
      "[0. 1.]\n",
      "\n",
      "We assume the bulb is on with 100% accuracy\n"
     ]
    }
   ],
   "source": [
    "bulb_probs = M[1] / M[1].sum()\n",
    "print(\"When the switch is set to 1, the bulb state probabilities are:\")\n",
    "print(bulb_probs)\n",
    "prediction = ['off', 'on'][bulb_probs.argmax()]\n",
    "accuracy = bulb_probs.max()\n",
    "print(f\"\\nWe assume the bulb is {prediction} with \"\n",
    "f\"{100 * accuracy:.0f}% accuracy\")"
   ]
  },
  {
   "cell_type": "code",
   "execution_count": 16,
   "metadata": {},
   "outputs": [
    {
     "data": {
      "text/plain": [
       "array([4, 7])"
      ]
     },
     "execution_count": 16,
     "metadata": {},
     "output_type": "execute_result"
    }
   ],
   "source": [
    "M.sum(axis=1)"
   ]
  },
  {
   "cell_type": "code",
   "execution_count": 17,
   "metadata": {},
   "outputs": [],
   "source": [
    "accuracies = [.75, 1.]\n",
    "total_accuracy = np.average(accuracies, weights=M.sum(axis=1))"
   ]
  },
  {
   "cell_type": "code",
   "execution_count": 18,
   "metadata": {},
   "outputs": [
    {
     "data": {
      "text/plain": [
       "0.9090909090909091"
      ]
     },
     "execution_count": 18,
     "metadata": {},
     "output_type": "execute_result"
    }
   ],
   "source": [
    "total_accuracy"
   ]
  },
  {
   "cell_type": "code",
   "execution_count": 19,
   "metadata": {},
   "outputs": [],
   "source": [
    "def train_if_else(X, y, feature_col=0, feature_name='feature'):\n",
    "    M = get_co_occurrence(X, y, col=feature_col)\n",
    "    probs0, probs1 = [M[i]/M[i].sum() for i in [0, 1]]\n",
    "    if_else = f\"\"\"\n",
    "    if {feature_name} == 0:\n",
    "        prediction = {probs0.argmax()}\n",
    "    else:\n",
    "        prediction = {probs1.argmax()}\n",
    "    \"\"\".strip()\n",
    "    if probs0.argmax() == probs1.argmax():\n",
    "        if_else = f\"prediction = {probs0.argmax()}\"\n",
    "    accuracies = [probs0.max(), probs1.max()]\n",
    "    total_accuracy = np.average(accuracies, weights=M.sum(axis=1))\n",
    "    return if_else, total_accuracy"
   ]
  },
  {
   "cell_type": "code",
   "execution_count": 20,
   "metadata": {},
   "outputs": [
    {
     "name": "stdout",
     "output_type": "stream",
     "text": [
      "if switch == 0:\n",
      "        prediction = 0\n",
      "    else:\n",
      "        prediction = 1\n",
      "\n",
      "This statement is 91% accurate.\n"
     ]
    }
   ],
   "source": [
    "if_else, accuracy = train_if_else(X_simple, y_simple, feature_name='switch')\n",
    "print(if_else)\n",
    "print(f\"\\nThis statement is {100 * accuracy:.0f}% accurate.\")"
   ]
  },
  {
   "cell_type": "code",
   "execution_count": 21,
   "metadata": {},
   "outputs": [],
   "source": [
    "feature_names = [f\"switch{i}\" for i in range(2)]"
   ]
  },
  {
   "cell_type": "code",
   "execution_count": 22,
   "metadata": {},
   "outputs": [
    {
     "name": "stdout",
     "output_type": "stream",
     "text": [
      "The model trained on switch0 is 50% accurate.\n",
      "The model trained on switch1 is 50% accurate.\n"
     ]
    }
   ],
   "source": [
    "for i, name in enumerate(feature_names):\n",
    "    _, accuracy = train_if_else(X, y, feature_col=i, feature_name=name)\n",
    "    print(f\"The model trained on {name} is {100 * accuracy:.0f}% \" \"accurate.\")"
   ]
  },
  {
   "cell_type": "code",
   "execution_count": 23,
   "metadata": {},
   "outputs": [],
   "source": [
    "is_off = X[:, 0] == 0"
   ]
  },
  {
   "cell_type": "code",
   "execution_count": 24,
   "metadata": {},
   "outputs": [
    {
     "data": {
      "text/plain": [
       "array([ True, False,  True, False])"
      ]
     },
     "execution_count": 24,
     "metadata": {},
     "output_type": "execute_result"
    }
   ],
   "source": [
    "is_off"
   ]
  },
  {
   "cell_type": "code",
   "execution_count": 25,
   "metadata": {},
   "outputs": [],
   "source": [
    "X_switch0_off = X[is_off]\n",
    "y_switch0_off = y[is_off]"
   ]
  },
  {
   "cell_type": "code",
   "execution_count": 26,
   "metadata": {},
   "outputs": [
    {
     "data": {
      "text/plain": [
       "array([[0, 0],\n",
       "       [0, 1]])"
      ]
     },
     "execution_count": 26,
     "metadata": {},
     "output_type": "execute_result"
    }
   ],
   "source": [
    "X_switch0_off"
   ]
  },
  {
   "cell_type": "code",
   "execution_count": 27,
   "metadata": {},
   "outputs": [
    {
     "data": {
      "text/plain": [
       "array([0, 1])"
      ]
     },
     "execution_count": 27,
     "metadata": {},
     "output_type": "execute_result"
    }
   ],
   "source": [
    "y_switch0_off"
   ]
  },
  {
   "cell_type": "code",
   "execution_count": 28,
   "metadata": {},
   "outputs": [],
   "source": [
    "X_switch0_off = np.delete(X_switch0_off, 0, axis=1)"
   ]
  },
  {
   "cell_type": "code",
   "execution_count": 29,
   "metadata": {},
   "outputs": [
    {
     "data": {
      "text/plain": [
       "array([[0],\n",
       "       [1]])"
      ]
     },
     "execution_count": 29,
     "metadata": {},
     "output_type": "execute_result"
    }
   ],
   "source": [
    "\n",
    "X_switch0_off"
   ]
  },
  {
   "cell_type": "code",
   "execution_count": 30,
   "metadata": {},
   "outputs": [],
   "source": [
    "results = train_if_else(X_switch0_off, y_switch0_off, feature_name='switch1')"
   ]
  },
  {
   "cell_type": "code",
   "execution_count": 31,
   "metadata": {},
   "outputs": [
    {
     "data": {
      "text/plain": [
       "('if switch1 == 0:\\n        prediction = 0\\n    else:\\n        prediction = 1',\n",
       " 1.0)"
      ]
     },
     "execution_count": 31,
     "metadata": {},
     "output_type": "execute_result"
    }
   ],
   "source": [
    "results"
   ]
  },
  {
   "cell_type": "code",
   "execution_count": 32,
   "metadata": {},
   "outputs": [],
   "source": [
    "switch0_off_model, off_accuracy = results"
   ]
  },
  {
   "cell_type": "code",
   "execution_count": 33,
   "metadata": {},
   "outputs": [
    {
     "data": {
      "text/plain": [
       "1.0"
      ]
     },
     "execution_count": 33,
     "metadata": {},
     "output_type": "execute_result"
    }
   ],
   "source": [
    "off_accuracy"
   ]
  },
  {
   "cell_type": "code",
   "execution_count": 34,
   "metadata": {},
   "outputs": [],
   "source": [
    "def filter_X_y(X, y, filter_col=0, condition=0):\n",
    "    inclusion_criteria = X[:, filter_col] == condition\n",
    "    y_filtered = y[inclusion_criteria]\n",
    "    X_filtered = np.delete(X[inclusion_criteria], filter_col, axis=1)\n",
    "    return X_filtered, y_filtered"
   ]
  },
  {
   "cell_type": "code",
   "execution_count": 35,
   "metadata": {},
   "outputs": [],
   "source": [
    "X_switch0_on, y_switch0_on = filter_X_y(X, y, filter_col=0, condition=1)"
   ]
  },
  {
   "cell_type": "code",
   "execution_count": 36,
   "metadata": {},
   "outputs": [],
   "source": [
    "results = train_if_else(X_switch0_on, y_switch0_on, feature_name='switch1')"
   ]
  },
  {
   "cell_type": "code",
   "execution_count": 37,
   "metadata": {},
   "outputs": [],
   "source": [
    "switch0_on_model, on_accuracy = results"
   ]
  },
  {
   "cell_type": "code",
   "execution_count": 38,
   "metadata": {},
   "outputs": [
    {
     "data": {
      "text/plain": [
       "1.0"
      ]
     },
     "execution_count": 38,
     "metadata": {},
     "output_type": "execute_result"
    }
   ],
   "source": [
    "on_accuracy"
   ]
  },
  {
   "cell_type": "code",
   "execution_count": 39,
   "metadata": {},
   "outputs": [
    {
     "data": {
      "text/plain": [
       "'if switch1 == 0:\\n        prediction = 1\\n    else:\\n        prediction = 0'"
      ]
     },
     "execution_count": 39,
     "metadata": {},
     "output_type": "execute_result"
    }
   ],
   "source": [
    "switch0_on_model"
   ]
  },
  {
   "cell_type": "code",
   "execution_count": 40,
   "metadata": {},
   "outputs": [],
   "source": [
    "def combine_if_else(if_else_a, if_else_b, feature_name='feature'):\n",
    "    return f\"\"\"\n",
    "    if {feature_name} == 0:\n",
    "        {add_indent(if_else_a)}\n",
    "    else:\n",
    "        {add_indent(if_else_b)}\n",
    "    \"\"\".strip()\n",
    "def add_indent(if_else):\n",
    "    return '\\n'.join([4 * ' ' + line for line in if_else.split('\\n')])"
   ]
  },
  {
   "cell_type": "code",
   "execution_count": 41,
   "metadata": {},
   "outputs": [],
   "source": [
    "nested_model = combine_if_else(switch0_off_model, switch0_on_model, feature_name='switch0')"
   ]
  },
  {
   "cell_type": "code",
   "execution_count": 42,
   "metadata": {},
   "outputs": [
    {
     "data": {
      "text/plain": [
       "'if switch0 == 0:\\n            if switch1 == 0:\\n            prediction = 0\\n        else:\\n            prediction = 1\\n    else:\\n            if switch1 == 0:\\n            prediction = 1\\n        else:\\n            prediction = 0'"
      ]
     },
     "execution_count": 42,
     "metadata": {},
     "output_type": "execute_result"
    }
   ],
   "source": [
    "nested_model"
   ]
  },
  {
   "cell_type": "code",
   "execution_count": 43,
   "metadata": {},
   "outputs": [
    {
     "name": "stdout",
     "output_type": "stream",
     "text": [
      "Our total accuracy is 100%\n"
     ]
    }
   ],
   "source": [
    "accuracies = [off_accuracy, on_accuracy]\n",
    "weights = [y_switch0_off.size, y_switch0_on.size]\n",
    "total_accuracy = np.average(accuracies, weights=weights)\n",
    "print(f\"Our total accuracy is {100 * total_accuracy:.0f}%\")"
   ]
  },
  {
   "cell_type": "code",
   "execution_count": 44,
   "metadata": {},
   "outputs": [
    {
     "data": {
      "text/plain": [
       "(array([[0, 0],\n",
       "        [1, 0],\n",
       "        [0, 1],\n",
       "        [1, 1]]),\n",
       " array([0, 1, 1, 0]))"
      ]
     },
     "execution_count": 44,
     "metadata": {},
     "output_type": "execute_result"
    }
   ],
   "source": [
    "X, y"
   ]
  },
  {
   "cell_type": "code",
   "execution_count": 45,
   "metadata": {},
   "outputs": [],
   "source": [
    "def split(X, y, feature_col=0, condition=0):\n",
    "    has_condition = X[:, feature_col] == condition\n",
    "    X_a, y_a = [e[has_condition] for e in [X, y]]\n",
    "    X_b, y_b = [e[~has_condition] for e in [X, y]]\n",
    "    X_a, X_b = [np.delete(e, feature_col, axis=1) for e in [X_a, X_b]]\n",
    "    return [X_a, X_b, y_a, y_b]"
   ]
  },
  {
   "cell_type": "code",
   "execution_count": 46,
   "metadata": {},
   "outputs": [],
   "source": [
    "X_a, X_b, y_a, y_b = split(X, y)"
   ]
  },
  {
   "cell_type": "code",
   "execution_count": 47,
   "metadata": {},
   "outputs": [],
   "source": [
    "assert np.array_equal(X_a, X_switch0_off)\n",
    "assert np.array_equal(X_b, X_switch0_on)"
   ]
  },
  {
   "cell_type": "code",
   "execution_count": 48,
   "metadata": {},
   "outputs": [],
   "source": [
    "def train_nested_if_else(X, y, split_col=0,\n",
    "    feature_names=['feature1', 'feature1']):\n",
    "    split_name = feature_names[split_col]\n",
    "    simple_model, simple_accuracy = train_if_else(X, y, split_col, split_name)\n",
    "    if simple_accuracy == 1.0:\n",
    "        return (simple_model, simple_accuracy)\n",
    "    X_a, X_b, y_a, y_b = split(X, y, feature_col=split_col)\n",
    "    in_name = feature_names[1 - split_col]\n",
    "    if_else_a, accuracy_a = train_if_else(X_a, y_a, feature_name=in_name)\n",
    "    if_else_b, accuracy_b = train_if_else(X_b, y_b, feature_name=in_name)\n",
    "    nested_model = combine_if_else(if_else_a, if_else_b, split_name)\n",
    "    accuracies = [accuracy_a, accuracy_b]\n",
    "    nested_accuracy = np.average(accuracies, weights=[y_a.size, y_b.size])\n",
    "    if nested_accuracy > simple_accuracy:\n",
    "        return (nested_model, nested_accuracy)\n",
    "    return (simple_model, simple_accuracy)"
   ]
  },
  {
   "cell_type": "code",
   "execution_count": 49,
   "metadata": {},
   "outputs": [
    {
     "name": "stdout",
     "output_type": "stream",
     "text": [
      "if switch0 == 0:\n",
      "            if switch1 == 0:\n",
      "            prediction = 0\n",
      "        else:\n",
      "            prediction = 1\n",
      "    else:\n",
      "            if switch1 == 0:\n",
      "            prediction = 1\n",
      "        else:\n",
      "            prediction = 0\n",
      "\n",
      "This statement is 100% accurate.\n"
     ]
    }
   ],
   "source": [
    "feature_names = ['switch0', 'switch1']\n",
    "model, accuracy = train_nested_if_else(X, y, feature_names=feature_names)\n",
    "print(model)\n",
    "print(f\"\\nThis statement is {100 * accuracy:.0f}% accurate.\")"
   ]
  },
  {
   "cell_type": "code",
   "execution_count": 50,
   "metadata": {},
   "outputs": [],
   "source": [
    "np.random.seed(1)\n",
    "y_rain = np.random.binomial(1, .6, size=100)\n",
    "is_wet = [e if np.random.binomial(1, 0.95) else 1 - e for e in y_rain]\n",
    "is_fall = [e if np.random.binomial(1, 0.6) else 1 - e for e in y_rain]"
   ]
  },
  {
   "cell_type": "code",
   "execution_count": 51,
   "metadata": {},
   "outputs": [],
   "source": [
    "X_rain = np.array([is_fall, is_wet]).T"
   ]
  },
  {
   "cell_type": "code",
   "execution_count": 52,
   "metadata": {},
   "outputs": [
    {
     "data": {
      "text/plain": [
       "array([[0, 1],\n",
       "       [0, 0],\n",
       "       [0, 1],\n",
       "       [0, 1],\n",
       "       [1, 1],\n",
       "       [1, 1],\n",
       "       [0, 1],\n",
       "       [1, 1],\n",
       "       [0, 1],\n",
       "       [0, 0],\n",
       "       [1, 1],\n",
       "       [1, 0],\n",
       "       [1, 1],\n",
       "       [0, 0],\n",
       "       [1, 1],\n",
       "       [0, 0],\n",
       "       [1, 1],\n",
       "       [0, 1],\n",
       "       [0, 1],\n",
       "       [1, 1],\n",
       "       [0, 0],\n",
       "       [0, 0],\n",
       "       [1, 1],\n",
       "       [1, 0],\n",
       "       [0, 0],\n",
       "       [1, 0],\n",
       "       [1, 1],\n",
       "       [0, 1],\n",
       "       [0, 1],\n",
       "       [1, 0],\n",
       "       [1, 1],\n",
       "       [1, 0],\n",
       "       [1, 0],\n",
       "       [1, 1],\n",
       "       [0, 0],\n",
       "       [1, 1],\n",
       "       [0, 0],\n",
       "       [0, 0],\n",
       "       [1, 1],\n",
       "       [1, 0],\n",
       "       [0, 0],\n",
       "       [1, 0],\n",
       "       [1, 1],\n",
       "       [0, 0],\n",
       "       [0, 1],\n",
       "       [0, 1],\n",
       "       [0, 0],\n",
       "       [1, 1],\n",
       "       [0, 1],\n",
       "       [0, 1],\n",
       "       [1, 1],\n",
       "       [1, 1],\n",
       "       [1, 1],\n",
       "       [0, 1],\n",
       "       [0, 1],\n",
       "       [0, 1],\n",
       "       [1, 1],\n",
       "       [0, 1],\n",
       "       [1, 0],\n",
       "       [0, 0],\n",
       "       [0, 1],\n",
       "       [0, 1],\n",
       "       [1, 0],\n",
       "       [0, 1],\n",
       "       [0, 1],\n",
       "       [1, 1],\n",
       "       [1, 0],\n",
       "       [1, 1],\n",
       "       [0, 0],\n",
       "       [1, 1],\n",
       "       [0, 0],\n",
       "       [1, 0],\n",
       "       [0, 1],\n",
       "       [0, 0],\n",
       "       [0, 1],\n",
       "       [0, 1],\n",
       "       [0, 0],\n",
       "       [1, 1],\n",
       "       [0, 0],\n",
       "       [1, 0],\n",
       "       [1, 0],\n",
       "       [1, 0],\n",
       "       [1, 0],\n",
       "       [1, 1],\n",
       "       [1, 1],\n",
       "       [1, 0],\n",
       "       [1, 1],\n",
       "       [1, 0],\n",
       "       [0, 0],\n",
       "       [1, 0],\n",
       "       [1, 1],\n",
       "       [1, 0],\n",
       "       [1, 1],\n",
       "       [1, 1],\n",
       "       [1, 1],\n",
       "       [1, 1],\n",
       "       [0, 0],\n",
       "       [1, 1],\n",
       "       [0, 1],\n",
       "       [0, 0]])"
      ]
     },
     "execution_count": 52,
     "metadata": {},
     "output_type": "execute_result"
    }
   ],
   "source": [
    "X_rain"
   ]
  },
  {
   "cell_type": "code",
   "execution_count": 53,
   "metadata": {},
   "outputs": [
    {
     "name": "stdout",
     "output_type": "stream",
     "text": [
      "if is_autumn == 0:\n",
      "            if is_wet == 0:\n",
      "            prediction = 0\n",
      "        else:\n",
      "            prediction = 1\n",
      "    else:\n",
      "            if is_wet == 0:\n",
      "            prediction = 0\n",
      "        else:\n",
      "            prediction = 1\n",
      "\n",
      "This statement is 95% accurate.\n"
     ]
    }
   ],
   "source": [
    "feature_names = ['is_autumn', 'is_wet']\n",
    "model, accuracy = train_nested_if_else(X_rain, y_rain,\n",
    "feature_names=feature_names)\n",
    "print(model)\n",
    "print(f\"\\nThis statement is {100 * accuracy:.0f}% accurate.\")"
   ]
  },
  {
   "cell_type": "code",
   "execution_count": 54,
   "metadata": {},
   "outputs": [],
   "source": [
    "model, accuracy = train_nested_if_else(X_rain, y_rain, split_col=1,\n",
    "feature_names=feature_names)"
   ]
  },
  {
   "cell_type": "code",
   "execution_count": 55,
   "metadata": {},
   "outputs": [
    {
     "name": "stdout",
     "output_type": "stream",
     "text": [
      "if is_wet == 0:\n",
      "        prediction = 0\n",
      "    else:\n",
      "        prediction = 1\n",
      "\n",
      "This statement is 95% accurate.\n"
     ]
    }
   ],
   "source": [
    "print(model)\n",
    "print(f\"\\nThis statement is {100 * accuracy:.0f}% accurate.\")"
   ]
  },
  {
   "cell_type": "code",
   "execution_count": 56,
   "metadata": {},
   "outputs": [],
   "source": [
    "prob_rain = y_rain.sum()/y_rain.size"
   ]
  },
  {
   "cell_type": "code",
   "execution_count": 57,
   "metadata": {},
   "outputs": [
    {
     "name": "stdout",
     "output_type": "stream",
     "text": [
      "It rains in 61% of our observations.\n"
     ]
    }
   ],
   "source": [
    "print(f\"It rains in {100 * prob_rain:.0f}% of our observations.\")"
   ]
  },
  {
   "cell_type": "code",
   "execution_count": 58,
   "metadata": {},
   "outputs": [
    {
     "name": "stdout",
     "output_type": "stream",
     "text": [
      "It rains 55% of the time when it is not autumn\n",
      "It rains 66% of the time when it is autumn\n"
     ]
    }
   ],
   "source": [
    "y_fall_a, y_fall_b = split(X_rain, y_rain, feature_col=0)[-2:]\n",
    "for i, y_fall in enumerate([y_fall_a, y_fall_b]):\n",
    "    prob_rain = y_fall.sum() / y_fall.size\n",
    "    state = ['not autumn', 'autumn'][i]\n",
    "    print(f\"It rains {100 * prob_rain:.0f}% of the time when it is \"\n",
    "    f\"{state}\")"
   ]
  },
  {
   "cell_type": "code",
   "execution_count": 59,
   "metadata": {},
   "outputs": [
    {
     "name": "stdout",
     "output_type": "stream",
     "text": [
      "It rains 10% of the time when it is not wet\n",
      "It rains 98% of the time when it is wet\n"
     ]
    }
   ],
   "source": [
    "y_wet_a, y_wet_b = split(X_rain, y_rain, feature_col=1)[-2:]\n",
    "for i, y_wet in enumerate([y_wet_a, y_wet_b]):\n",
    "    prob_rain = y_wet.sum() / y_wet.size\n",
    "    state = ['not wet', 'wet'][i]\n",
    "    print(f\"It rains {100 * prob_rain:.0f}% of the time when it is \"\n",
    "    f\"{state}\")"
   ]
  },
  {
   "cell_type": "code",
   "execution_count": 60,
   "metadata": {},
   "outputs": [
    {
     "data": {
      "text/plain": [
       "array([[0, 1],\n",
       "       [0, 0],\n",
       "       [0, 1],\n",
       "       [0, 1],\n",
       "       [1, 1],\n",
       "       [1, 1],\n",
       "       [0, 1],\n",
       "       [1, 1],\n",
       "       [0, 1],\n",
       "       [0, 0],\n",
       "       [1, 1],\n",
       "       [1, 0],\n",
       "       [1, 1],\n",
       "       [0, 0],\n",
       "       [1, 1],\n",
       "       [0, 0],\n",
       "       [1, 1],\n",
       "       [0, 1],\n",
       "       [0, 1],\n",
       "       [1, 1],\n",
       "       [0, 0],\n",
       "       [0, 0],\n",
       "       [1, 1],\n",
       "       [1, 0],\n",
       "       [0, 0],\n",
       "       [1, 0],\n",
       "       [1, 1],\n",
       "       [0, 1],\n",
       "       [0, 1],\n",
       "       [1, 0],\n",
       "       [1, 1],\n",
       "       [1, 0],\n",
       "       [1, 0],\n",
       "       [1, 1],\n",
       "       [0, 0],\n",
       "       [1, 1],\n",
       "       [0, 0],\n",
       "       [0, 0],\n",
       "       [1, 1],\n",
       "       [1, 0],\n",
       "       [0, 0],\n",
       "       [1, 0],\n",
       "       [1, 1],\n",
       "       [0, 0],\n",
       "       [0, 1],\n",
       "       [0, 1],\n",
       "       [0, 0],\n",
       "       [1, 1],\n",
       "       [0, 1],\n",
       "       [0, 1],\n",
       "       [1, 1],\n",
       "       [1, 1],\n",
       "       [1, 1],\n",
       "       [0, 1],\n",
       "       [0, 1],\n",
       "       [0, 1],\n",
       "       [1, 1],\n",
       "       [0, 1],\n",
       "       [1, 0],\n",
       "       [0, 0],\n",
       "       [0, 1],\n",
       "       [0, 1],\n",
       "       [1, 0],\n",
       "       [0, 1],\n",
       "       [0, 1],\n",
       "       [1, 1],\n",
       "       [1, 0],\n",
       "       [1, 1],\n",
       "       [0, 0],\n",
       "       [1, 1],\n",
       "       [0, 0],\n",
       "       [1, 0],\n",
       "       [0, 1],\n",
       "       [0, 0],\n",
       "       [0, 1],\n",
       "       [0, 1],\n",
       "       [0, 0],\n",
       "       [1, 1],\n",
       "       [0, 0],\n",
       "       [1, 0],\n",
       "       [1, 0],\n",
       "       [1, 0],\n",
       "       [1, 0],\n",
       "       [1, 1],\n",
       "       [1, 1],\n",
       "       [1, 0],\n",
       "       [1, 1],\n",
       "       [1, 0],\n",
       "       [0, 0],\n",
       "       [1, 0],\n",
       "       [1, 1],\n",
       "       [1, 0],\n",
       "       [1, 1],\n",
       "       [1, 1],\n",
       "       [1, 1],\n",
       "       [1, 1],\n",
       "       [0, 0],\n",
       "       [1, 1],\n",
       "       [0, 1],\n",
       "       [0, 0]])"
      ]
     },
     "execution_count": 60,
     "metadata": {},
     "output_type": "execute_result"
    }
   ],
   "source": [
    "X_rain"
   ]
  },
  {
   "cell_type": "code",
   "execution_count": 61,
   "metadata": {},
   "outputs": [],
   "source": [
    "def get_class_distribution(y):\n",
    "    prob_rain = y.sum()/y.size\n",
    "    return np.array([1 - prob_rain, prob_rain])"
   ]
  },
  {
   "cell_type": "code",
   "execution_count": 62,
   "metadata": {},
   "outputs": [],
   "source": [
    "def plot_vector(v, label, linestyle='-', color='b'):\n",
    "    plt.plot([0, v[0]], [0, v[1]], label=label, linestyle=linestyle, c=color)"
   ]
  },
  {
   "cell_type": "code",
   "execution_count": 63,
   "metadata": {},
   "outputs": [],
   "source": [
    "classes = [y_fall_a, y_fall_b, y_wet_a, y_wet_b]"
   ]
  },
  {
   "cell_type": "code",
   "execution_count": 64,
   "metadata": {},
   "outputs": [
    {
     "data": {
      "text/plain": [
       "(-0.045238095238095244, 0.95, -0.04913793103448276, 1.0318965517241379)"
      ]
     },
     "execution_count": 64,
     "metadata": {},
     "output_type": "execute_result"
    },
    {
     "data": {
      "image/png": "[encoded data removed]",
      "text/plain": [
       "<Figure size 640x480 with 1 Axes>"
      ]
     },
     "metadata": {},
     "output_type": "display_data"
    }
   ],
   "source": [
    "distributions = [get_class_distribution(y) for y in classes]\n",
    "labels = ['Not Autumn', 'Autumn', 'Not Wet', 'Wet']\n",
    "colors = ['y', 'g', 'k', 'b']\n",
    "linestyles = ['-.', ':', '-', '--']\n",
    "for tup in zip(distributions, labels, colors, linestyles):\n",
    "    vector, label, color, linestyle = tup\n",
    "    plot_vector(vector, label, linestyle=linestyle, color=color)\n",
    "plt.legend()\n",
    "plt.xlabel('Probability Not Rain')\n",
    "plt.ylabel('Probability Rain')\n",
    "plt.axis('equal')"
   ]
  },
  {
   "cell_type": "code",
   "execution_count": 65,
   "metadata": {},
   "outputs": [],
   "source": [
    "prob_rain = np.arange(0, 1.001, 0.01)"
   ]
  },
  {
   "cell_type": "code",
   "execution_count": 66,
   "metadata": {},
   "outputs": [],
   "source": [
    "vectors = [np.array([1 - p, p]) for p in prob_rain]\n",
    "magnitudes = [np.linalg.norm(v) for v in vectors]"
   ]
  },
  {
   "cell_type": "code",
   "execution_count": 67,
   "metadata": {},
   "outputs": [
    {
     "data": {
      "text/plain": [
       "[1.0,\n",
       " 0.9900505037623081,\n",
       " 0.9802040603874276,\n",
       " 0.9704638066409277,\n",
       " 0.9608329719571451,\n",
       " 0.9513148795220223,\n",
       " 0.9419129471453294,\n",
       " 0.9326306878931231,\n",
       " 0.9234717104492156,\n",
       " 0.9144397191723466,\n",
       " 0.9055385138137417,\n",
       " 0.8967719888578144,\n",
       " 0.8881441324469806,\n",
       " 0.8796590248499699,\n",
       " 0.8713208364316786,\n",
       " 0.8631338250816034,\n",
       " 0.8551023330572779,\n",
       " 0.8472307831990054,\n",
       " 0.8395236744726143,\n",
       " 0.8319855767980597,\n",
       " 0.8246211251235323,\n",
       " 0.8174350127074324,\n",
       " 0.8104319835741924,\n",
       " 0.8036168241145777,\n",
       " 0.796994353806851,\n",
       " 0.7905694150420949,\n",
       " 0.7843468620451031,\n",
       " 0.7783315488916018,\n",
       " 0.7725283166331186,\n",
       " 0.7669419795525604,\n",
       " 0.7615773105863908,\n",
       " 0.7564390259630976,\n",
       " 0.7515317691222374,\n",
       " 0.7468600939935136,\n",
       " 0.7424284477308234,\n",
       " 0.7382411530116699,\n",
       " 0.7343023900274328,\n",
       " 0.7306161783043132,\n",
       " 0.7271863585079137,\n",
       " 0.724016574395918,\n",
       " 0.7211102550927979,\n",
       " 0.7184705978674423,\n",
       " 0.7161005515987263,\n",
       " 0.7140028011149536,\n",
       " 0.7121797525905943,\n",
       " 0.7106335201775947,\n",
       " 0.7093659140387281,\n",
       " 0.7083784299369935,\n",
       " 0.7076722405181654,\n",
       " 0.7072481884034769,\n",
       " 0.7071067811865476,\n",
       " 0.7072481884034769,\n",
       " 0.7076722405181654,\n",
       " 0.7083784299369935,\n",
       " 0.709365914038728,\n",
       " 0.7106335201775947,\n",
       " 0.7121797525905942,\n",
       " 0.7140028011149536,\n",
       " 0.7161005515987263,\n",
       " 0.7184705978674423,\n",
       " 0.7211102550927979,\n",
       " 0.724016574395918,\n",
       " 0.7271863585079137,\n",
       " 0.7306161783043132,\n",
       " 0.7343023900274328,\n",
       " 0.73824115301167,\n",
       " 0.7424284477308234,\n",
       " 0.7468600939935137,\n",
       " 0.7515317691222375,\n",
       " 0.7564390259630978,\n",
       " 0.7615773105863909,\n",
       " 0.7669419795525604,\n",
       " 0.7725283166331186,\n",
       " 0.7783315488916018,\n",
       " 0.7843468620451031,\n",
       " 0.7905694150420949,\n",
       " 0.796994353806851,\n",
       " 0.8036168241145777,\n",
       " 0.8104319835741924,\n",
       " 0.8174350127074324,\n",
       " 0.8246211251235321,\n",
       " 0.8319855767980596,\n",
       " 0.8395236744726143,\n",
       " 0.8472307831990054,\n",
       " 0.855102333057278,\n",
       " 0.8631338250816034,\n",
       " 0.8713208364316786,\n",
       " 0.8796590248499699,\n",
       " 0.8881441324469808,\n",
       " 0.8967719888578144,\n",
       " 0.9055385138137417,\n",
       " 0.9144397191723466,\n",
       " 0.9234717104492157,\n",
       " 0.9326306878931232,\n",
       " 0.9419129471453294,\n",
       " 0.9513148795220224,\n",
       " 0.960832971957145,\n",
       " 0.9704638066409277,\n",
       " 0.9802040603874277,\n",
       " 0.9900505037623081,\n",
       " 1.0]"
      ]
     },
     "execution_count": 67,
     "metadata": {},
     "output_type": "execute_result"
    }
   ],
   "source": [
    "magnitudes"
   ]
  },
  {
   "cell_type": "code",
   "execution_count": 68,
   "metadata": {},
   "outputs": [
    {
     "data": {
      "text/plain": [
       "<matplotlib.legend.Legend at 0x7f482ecc95b0>"
      ]
     },
     "execution_count": 68,
     "metadata": {},
     "output_type": "execute_result"
    },
    {
     "data": {
      "image/png": "[encoded data removed]",
      "text/plain": [
       "<Figure size 640x480 with 1 Axes>"
      ]
     },
     "metadata": {},
     "output_type": "display_data"
    }
   ],
   "source": [
    "square_magnitudes = [v @ v for v in vectors]\n",
    "plt.plot(prob_rain, magnitudes, label='Magnitude')\n",
    "plt.plot(prob_rain, square_magnitudes, label='Squared Magnitude',\n",
    "linestyle='--')\n",
    "plt.xlabel('Probability of Rain')\n",
    "plt.axvline(0.5, color='k', label='Perfect Balance', linestyle=':')\n",
    "plt.legend()"
   ]
  },
  {
   "cell_type": "code",
   "execution_count": 69,
   "metadata": {},
   "outputs": [
    {
     "data": {
      "text/plain": [
       "Text(0, 0.5, 'Gini Impurity')"
      ]
     },
     "execution_count": 69,
     "metadata": {},
     "output_type": "execute_result"
    },
    {
     "data": {
      "image/png": "[encoded data removed]",
      "text/plain": [
       "<Figure size 640x480 with 1 Axes>"
      ]
     },
     "metadata": {},
     "output_type": "display_data"
    }
   ],
   "source": [
    "gini_impurities = [1 - (v @ v) for v in vectors]\n",
    "plt.plot(prob_rain, gini_impurities)\n",
    "plt.xlabel('Probability of Rain')\n",
    "plt.ylabel('Gini Impurity')"
   ]
  },
  {
   "cell_type": "code",
   "execution_count": 70,
   "metadata": {},
   "outputs": [
    {
     "name": "stdout",
     "output_type": "stream",
     "text": [
      "When we split on Autumn, the Impurity is 0.45.\n",
      "When we split on Wetness, the Impurity is 0.04.\n"
     ]
    }
   ],
   "source": [
    "def compute_impurity(y_a, y_b):\n",
    "    v_a = get_class_distribution(y_a)\n",
    "    v_b = get_class_distribution(y_b)\n",
    "    impurities = [1 - v @ v for v in [v_a, v_b]]\n",
    "    weights = [y.size, y_b.size]\n",
    "    return np.average(impurities, weights=weights)\n",
    "fall_impurity = compute_impurity(y_fall_a, y_fall_b)\n",
    "wet_impurity = compute_impurity(y_wet_a, y_wet_b)\n",
    "print(f\"When we split on Autumn, the Impurity is {fall_impurity:0.2f}.\")\n",
    "print(f\"When we split on Wetness, the Impurity is {wet_impurity:0.2f}.\")"
   ]
  },
  {
   "cell_type": "code",
   "execution_count": 71,
   "metadata": {},
   "outputs": [
    {
     "name": "stdout",
     "output_type": "stream",
     "text": [
      "The feature with the minimal impurity is: 'is_wet'\n"
     ]
    }
   ],
   "source": [
    "def sort_feature_indices(X, y):\n",
    "    feature_indices = range(X.shape[1])\n",
    "    impurities = []\n",
    "    for i in feature_indices:\n",
    "        y_a, y_b = split(X, y, feature_col=i)[-2:]\n",
    "        impurities.append(compute_impurity(y_a, y_b))\n",
    "    return sorted(feature_indices, key=lambda i: impurities[i])\n",
    "indices = sort_feature_indices(X_rain, y_rain)\n",
    "top_feature = feature_names[indices[0]]\n",
    "print(f\"The feature with the minimal impurity is: '{top_feature}'\")"
   ]
  },
  {
   "cell_type": "code",
   "execution_count": 72,
   "metadata": {},
   "outputs": [],
   "source": [
    "def simulate_weather():\n",
    "    is_fall = np.random.binomial(1, .25)\n",
    "    is_cloudy = np.random.binomial(1, [.3, .7][is_fall])\n",
    "    rained_today = np.random.binomial(1, [.05, .4][is_cloudy])\n",
    "    if rained_today:\n",
    "        rains_tomorrow = np.random.binomial(1, .5)\n",
    "    else:\n",
    "        rains_tomorrow = np.random.binomial(1, [.05, .15][is_fall])\n",
    "    features = [rained_today, is_fall, is_cloudy]\n",
    "    return features, rains_tomorrow"
   ]
  },
  {
   "cell_type": "code",
   "execution_count": 73,
   "metadata": {},
   "outputs": [],
   "source": [
    "np.random.seed(0)\n",
    "X_train, y_train = [], []\n",
    "for _ in range(1000):\n",
    "    features, rains_tomorrow = simulate_weather()\n",
    "    X_train.append(features)\n",
    "    y_train.append(rains_tomorrow)"
   ]
  },
  {
   "cell_type": "code",
   "execution_count": 74,
   "metadata": {},
   "outputs": [],
   "source": [
    "X_rain = np.array(X_train)\n",
    "y_rain = np.array(y_train)"
   ]
  },
  {
   "cell_type": "code",
   "execution_count": 75,
   "metadata": {},
   "outputs": [
    {
     "data": {
      "text/plain": [
       "array([[1, 0, 1],\n",
       "       [0, 0, 0],\n",
       "       [1, 1, 1],\n",
       "       ...,\n",
       "       [0, 0, 0],\n",
       "       [0, 0, 0],\n",
       "       [1, 0, 1]])"
      ]
     },
     "execution_count": 75,
     "metadata": {},
     "output_type": "execute_result"
    }
   ],
   "source": [
    "X_rain"
   ]
  },
  {
   "cell_type": "code",
   "execution_count": 76,
   "metadata": {},
   "outputs": [
    {
     "data": {
      "text/plain": [
       "array([1, 0, 1, 0, 1, 0, 0, 0, 0, 0, 0, 0, 0, 0, 0, 0, 0, 0, 0, 0, 0, 0,\n",
       "       0, 0, 0, 1, 0, 0, 0, 1, 1, 0, 0, 0, 0, 1, 1, 0, 0, 0, 0, 0, 0, 0,\n",
       "       0, 0, 0, 0, 0, 0, 0, 0, 0, 0, 0, 0, 0, 0, 0, 0, 0, 0, 0, 0, 0, 0,\n",
       "       0, 1, 0, 1, 0, 0, 0, 0, 1, 0, 0, 0, 0, 0, 0, 0, 0, 0, 0, 0, 0, 0,\n",
       "       0, 1, 0, 0, 0, 0, 0, 1, 0, 0, 1, 0, 0, 0, 0, 0, 0, 0, 0, 0, 0, 0,\n",
       "       0, 1, 1, 0, 0, 0, 0, 1, 1, 0, 0, 0, 0, 0, 0, 0, 0, 0, 0, 0, 0, 0,\n",
       "       0, 0, 0, 0, 1, 0, 0, 0, 1, 0, 0, 0, 0, 0, 0, 1, 1, 1, 0, 0, 0, 0,\n",
       "       1, 1, 0, 0, 1, 0, 0, 0, 0, 0, 1, 0, 0, 0, 0, 0, 0, 0, 0, 0, 0, 0,\n",
       "       0, 0, 0, 0, 1, 1, 0, 0, 0, 0, 0, 0, 1, 0, 0, 0, 0, 0, 0, 0, 0, 0,\n",
       "       1, 0, 0, 0, 0, 0, 0, 0, 0, 0, 0, 0, 0, 0, 0, 0, 0, 0, 0, 0, 0, 0,\n",
       "       0, 1, 0, 0, 0, 0, 0, 0, 1, 0, 0, 0, 0, 0, 0, 0, 0, 1, 0, 0, 0, 0,\n",
       "       0, 0, 0, 0, 1, 0, 0, 0, 0, 0, 0, 0, 0, 0, 0, 0, 0, 0, 0, 0, 0, 0,\n",
       "       1, 0, 1, 1, 0, 1, 1, 0, 0, 0, 1, 0, 0, 0, 0, 0, 0, 1, 0, 0, 0, 0,\n",
       "       0, 0, 1, 0, 1, 0, 0, 1, 0, 0, 0, 1, 0, 0, 1, 0, 0, 1, 0, 0, 0, 0,\n",
       "       0, 0, 0, 0, 1, 0, 1, 0, 0, 0, 1, 1, 0, 0, 0, 0, 0, 0, 0, 0, 0, 1,\n",
       "       0, 0, 0, 0, 0, 0, 0, 0, 0, 0, 0, 0, 0, 0, 0, 0, 0, 0, 1, 1, 0, 0,\n",
       "       0, 0, 0, 0, 1, 0, 0, 1, 0, 0, 0, 0, 0, 0, 0, 0, 0, 0, 1, 0, 0, 0,\n",
       "       0, 0, 1, 0, 0, 1, 0, 0, 1, 0, 0, 0, 0, 1, 0, 1, 0, 0, 0, 0, 1, 1,\n",
       "       0, 1, 0, 0, 1, 0, 0, 0, 0, 0, 1, 1, 0, 0, 0, 0, 0, 0, 1, 0, 0, 0,\n",
       "       0, 0, 0, 0, 0, 0, 0, 0, 0, 0, 0, 0, 0, 0, 0, 0, 0, 0, 0, 0, 0, 0,\n",
       "       0, 1, 0, 0, 0, 0, 0, 1, 1, 0, 0, 0, 1, 0, 1, 0, 1, 0, 0, 0, 0, 0,\n",
       "       0, 0, 0, 0, 0, 1, 0, 0, 0, 1, 0, 0, 0, 0, 1, 0, 0, 0, 0, 0, 0, 0,\n",
       "       0, 0, 0, 1, 0, 0, 0, 0, 0, 0, 0, 0, 0, 0, 0, 0, 0, 0, 0, 0, 0, 0,\n",
       "       0, 1, 0, 0, 0, 0, 0, 0, 0, 0, 0, 0, 0, 0, 0, 0, 0, 0, 0, 0, 1, 0,\n",
       "       0, 0, 0, 1, 0, 0, 0, 0, 0, 1, 0, 0, 0, 0, 0, 0, 1, 0, 0, 1, 0, 0,\n",
       "       0, 0, 0, 0, 0, 1, 0, 0, 0, 0, 0, 1, 1, 0, 0, 0, 1, 0, 0, 0, 0, 0,\n",
       "       0, 1, 0, 0, 0, 1, 0, 0, 1, 0, 0, 1, 0, 0, 0, 0, 0, 0, 0, 0, 0, 0,\n",
       "       0, 0, 0, 0, 0, 0, 0, 0, 0, 0, 0, 0, 0, 0, 1, 0, 0, 1, 0, 0, 0, 1,\n",
       "       0, 0, 0, 0, 0, 0, 0, 0, 0, 1, 0, 1, 1, 0, 0, 0, 0, 1, 0, 1, 0, 1,\n",
       "       0, 0, 0, 0, 1, 0, 0, 1, 0, 0, 0, 0, 0, 0, 1, 0, 0, 1, 0, 0, 1, 0,\n",
       "       0, 0, 1, 0, 0, 0, 0, 0, 1, 0, 0, 0, 0, 0, 0, 0, 0, 0, 0, 0, 0, 0,\n",
       "       0, 0, 0, 0, 0, 0, 0, 0, 0, 0, 0, 0, 0, 0, 0, 1, 0, 0, 0, 1, 0, 0,\n",
       "       0, 0, 0, 0, 0, 0, 1, 0, 1, 0, 1, 0, 0, 0, 0, 0, 0, 1, 0, 0, 0, 0,\n",
       "       0, 0, 0, 0, 0, 0, 1, 0, 0, 0, 0, 0, 0, 0, 0, 0, 0, 0, 1, 0, 0, 0,\n",
       "       0, 0, 0, 0, 0, 0, 0, 1, 0, 0, 0, 0, 0, 0, 0, 0, 0, 0, 0, 0, 0, 0,\n",
       "       0, 0, 1, 0, 0, 1, 0, 0, 0, 0, 0, 0, 0, 0, 0, 0, 0, 0, 0, 1, 0, 0,\n",
       "       0, 0, 0, 0, 0, 0, 1, 0, 1, 0, 0, 0, 0, 0, 0, 0, 0, 0, 1, 0, 0, 0,\n",
       "       0, 1, 0, 0, 1, 0, 0, 0, 0, 0, 0, 0, 0, 0, 0, 0, 0, 0, 0, 0, 0, 0,\n",
       "       0, 0, 0, 0, 1, 1, 0, 0, 0, 1, 0, 0, 0, 0, 0, 0, 0, 0, 0, 1, 0, 0,\n",
       "       0, 0, 0, 0, 0, 0, 0, 0, 0, 0, 0, 0, 1, 0, 0, 0, 0, 0, 0, 1, 0, 0,\n",
       "       0, 0, 0, 0, 0, 0, 0, 0, 0, 0, 0, 0, 0, 0, 0, 0, 0, 0, 0, 0, 1, 0,\n",
       "       0, 0, 1, 0, 0, 0, 0, 0, 0, 0, 1, 0, 0, 0, 0, 1, 0, 0, 0, 0, 0, 0,\n",
       "       0, 0, 0, 0, 0, 0, 0, 0, 0, 0, 0, 0, 0, 0, 1, 1, 1, 0, 0, 0, 0, 0,\n",
       "       0, 0, 0, 0, 0, 0, 1, 0, 0, 0, 0, 1, 0, 0, 0, 0, 0, 0, 0, 0, 0, 1,\n",
       "       0, 0, 0, 0, 0, 0, 0, 0, 0, 0, 0, 0, 0, 0, 0, 0, 0, 0, 0, 0, 0, 0,\n",
       "       0, 0, 1, 1, 0, 0, 0, 0, 0, 0])"
      ]
     },
     "execution_count": 76,
     "metadata": {},
     "output_type": "execute_result"
    }
   ],
   "source": [
    "y_rain"
   ]
  },
  {
   "cell_type": "code",
   "execution_count": 77,
   "metadata": {},
   "outputs": [],
   "source": [
    "feature_names = ['rained_today', 'is_fall', 'is_cloudy']"
   ]
  },
  {
   "cell_type": "code",
   "execution_count": 78,
   "metadata": {},
   "outputs": [],
   "source": [
    "indices = sort_feature_indices(X_rain, y_rain)"
   ]
  },
  {
   "cell_type": "code",
   "execution_count": 79,
   "metadata": {},
   "outputs": [
    {
     "data": {
      "text/plain": [
       "[1, 2, 0]"
      ]
     },
     "execution_count": 79,
     "metadata": {},
     "output_type": "execute_result"
    }
   ],
   "source": [
    "indices"
   ]
  },
  {
   "cell_type": "code",
   "execution_count": 80,
   "metadata": {},
   "outputs": [
    {
     "name": "stdout",
     "output_type": "stream",
     "text": [
      "Features sorted by Gini Impurity:\n",
      "['is_fall', 'is_cloudy', 'rained_today']\n"
     ]
    }
   ],
   "source": [
    "print(f\"Features sorted by Gini Impurity:\")\n",
    "print([feature_names[i] for i in indices])"
   ]
  },
  {
   "cell_type": "code",
   "execution_count": 81,
   "metadata": {},
   "outputs": [],
   "source": [
    "skip_index = indices[-1]"
   ]
  },
  {
   "cell_type": "code",
   "execution_count": 82,
   "metadata": {},
   "outputs": [],
   "source": [
    "X_subset = np.delete(X_rain, skip_index, axis=1)"
   ]
  },
  {
   "cell_type": "code",
   "execution_count": 83,
   "metadata": {},
   "outputs": [],
   "source": [
    "name_subset = np.delete(feature_names, skip_index)"
   ]
  },
  {
   "cell_type": "code",
   "execution_count": 84,
   "metadata": {},
   "outputs": [
    {
     "data": {
      "text/plain": [
       "array(['is_fall', 'is_cloudy'], dtype='<U12')"
      ]
     },
     "execution_count": 84,
     "metadata": {},
     "output_type": "execute_result"
    }
   ],
   "source": [
    "name_subset"
   ]
  },
  {
   "cell_type": "code",
   "execution_count": 85,
   "metadata": {},
   "outputs": [
    {
     "data": {
      "text/plain": [
       "1"
      ]
     },
     "execution_count": 85,
     "metadata": {},
     "output_type": "execute_result"
    }
   ],
   "source": [
    "indices[0]"
   ]
  },
  {
   "cell_type": "code",
   "execution_count": 86,
   "metadata": {},
   "outputs": [
    {
     "data": {
      "text/plain": [
       "0"
      ]
     },
     "execution_count": 86,
     "metadata": {},
     "output_type": "execute_result"
    }
   ],
   "source": [
    "skip_index"
   ]
  },
  {
   "cell_type": "code",
   "execution_count": 87,
   "metadata": {},
   "outputs": [],
   "source": [
    "split_col = indices[0] if indices[0] < skip_index else indices[0] - 1"
   ]
  },
  {
   "cell_type": "code",
   "execution_count": 88,
   "metadata": {},
   "outputs": [],
   "source": [
    "model, accuracy = train_nested_if_else(X_subset, y_rain, split_col=split_col, feature_names=name_subset)"
   ]
  },
  {
   "cell_type": "code",
   "execution_count": 89,
   "metadata": {},
   "outputs": [
    {
     "data": {
      "text/plain": [
       "'prediction = 0'"
      ]
     },
     "execution_count": 89,
     "metadata": {},
     "output_type": "execute_result"
    }
   ],
   "source": [
    "model"
   ]
  },
  {
   "cell_type": "code",
   "execution_count": 90,
   "metadata": {},
   "outputs": [
    {
     "name": "stdout",
     "output_type": "stream",
     "text": [
      "\n",
      "This statement is 74% accurate.\n"
     ]
    }
   ],
   "source": [
    "print(f\"\\nThis statement is {100 * accuracy:.0f}% accurate.\")"
   ]
  },
  {
   "cell_type": "code",
   "execution_count": 91,
   "metadata": {},
   "outputs": [],
   "source": [
    "X_a, X_b, y_a, y_b = split(X_rain, y_rain, feature_col=indices[0])"
   ]
  },
  {
   "cell_type": "code",
   "execution_count": 92,
   "metadata": {},
   "outputs": [],
   "source": [
    "name_subset = np.delete(feature_names, indices[0])"
   ]
  },
  {
   "cell_type": "code",
   "execution_count": 93,
   "metadata": {},
   "outputs": [
    {
     "data": {
      "text/plain": [
       "array([[1, 1],\n",
       "       [0, 0],\n",
       "       [0, 1],\n",
       "       ...,\n",
       "       [0, 0],\n",
       "       [0, 0],\n",
       "       [1, 1]])"
      ]
     },
     "execution_count": 93,
     "metadata": {},
     "output_type": "execute_result"
    }
   ],
   "source": [
    "X_a"
   ]
  },
  {
   "cell_type": "code",
   "execution_count": 94,
   "metadata": {},
   "outputs": [],
   "source": [
    "split_col = sort_feature_indices(X_a, y_a)[0]\n",
    "model_a, accuracy_a = train_nested_if_else(X_a, y_a, split_col=split_col, feature_names=name_subset)"
   ]
  },
  {
   "cell_type": "code",
   "execution_count": 95,
   "metadata": {},
   "outputs": [
    {
     "name": "stdout",
     "output_type": "stream",
     "text": [
      "If it is not autumn, then the following nested model is 88% accurate.\n",
      "\n",
      "if is_cloudy == 0:\n",
      "            prediction = 0\n",
      "    else:\n",
      "            if rained_today == 0:\n",
      "            prediction = 0\n",
      "        else:\n",
      "            prediction = 1\n"
     ]
    }
   ],
   "source": [
    "print(\"If it is not autumn, then the following nested model is \" f\"{100 * accuracy_a:.0f}% accurate.\\n\\n{model_a}\")"
   ]
  },
  {
   "cell_type": "code",
   "execution_count": 96,
   "metadata": {},
   "outputs": [
    {
     "name": "stdout",
     "output_type": "stream",
     "text": [
      "If it is autumn, then the following nested model is 79% accurate.\n",
      "\n",
      "if is_cloudy == 0:\n",
      "            prediction = 0\n",
      "    else:\n",
      "            if rained_today == 0:\n",
      "            prediction = 0\n",
      "        else:\n",
      "            prediction = 1\n"
     ]
    }
   ],
   "source": [
    "split_col = sort_feature_indices(X_b, y_b)[0]\n",
    "model_b, accuracy_b = train_nested_if_else(X_b, y_b, split_col=split_col, feature_names=name_subset)\n",
    "print(\"If it is autumn, then the following nested model is \"\n",
    "f\"{100 * accuracy_b:.0f}% accurate.\\n\\n{model_b}\")"
   ]
  },
  {
   "cell_type": "code",
   "execution_count": 97,
   "metadata": {},
   "outputs": [
    {
     "name": "stdout",
     "output_type": "stream",
     "text": [
      "if is_fall == 0:\n",
      "            if is_cloudy == 0:\n",
      "                prediction = 0\n",
      "        else:\n",
      "                if rained_today == 0:\n",
      "                prediction = 0\n",
      "            else:\n",
      "                prediction = 1\n",
      "    else:\n",
      "            if is_cloudy == 0:\n",
      "                prediction = 0\n",
      "        else:\n",
      "                if rained_today == 0:\n",
      "                prediction = 0\n",
      "            else:\n",
      "                prediction = 1\n",
      "\n",
      "This statement is 85% accurate.\n"
     ]
    }
   ],
   "source": [
    "nested_model = combine_if_else(model_a, model_b, feature_names[indices[0]])\n",
    "print(nested_model)\n",
    "accuracies = [accuracy_a, accuracy_b]\n",
    "accuracy = np.average(accuracies, weights=[y_a.size, y_b.size])\n",
    "print(f\"\\nThis statement is {100 * accuracy:.0f}% accurate.\")"
   ]
  },
  {
   "cell_type": "code",
   "execution_count": 98,
   "metadata": {},
   "outputs": [],
   "source": [
    "def train(X, y, feature_names):\n",
    "    if X.shape[1] == 1:\n",
    "        return train_if_else(X, y, feature_name=feature_names[0])\n",
    "    indices = sort_feature_indices(X, y)\n",
    "    X_subset = np.delete(X, indices[-1], axis=1)\n",
    "    name_subset = np.delete(feature_names, indices[-1])\n",
    "    simple_model, simple_accuracy = train(X_subset, y, name_subset)\n",
    "    if simple_accuracy == 1.0:\n",
    "        return (simple_model, simple_accuracy)\n",
    "    split_col = indices[0]\n",
    "    name_subset = np.delete(feature_names, split_col)\n",
    "    X_a, X_b, y_a, y_b = split(X, y, feature_col=split_col)\n",
    "    model_a, accuracy_a = train(X_a, y_a, name_subset)\n",
    "    model_b, accuracy_b = train(X_b, y_b, name_subset)\n",
    "    accuracies = [accuracy_a, accuracy_b]\n",
    "    total_accuracy = np.average(accuracies, weights=[y_a.size, y_b.size])\n",
    "    nested_model = combine_if_else(model_a, model_b, feature_names[split_col])\n",
    "    if total_accuracy > simple_accuracy:\n",
    "        return (nested_model, total_accuracy)\n",
    "    return (simple_model, simple_accuracy)"
   ]
  },
  {
   "cell_type": "code",
   "execution_count": 99,
   "metadata": {},
   "outputs": [
    {
     "name": "stdout",
     "output_type": "stream",
     "text": [
      "if rained_today == 0:\n",
      "        prediction = 0\n",
      "    else:\n",
      "        prediction = 1\n",
      "\n",
      "This statement is 83% accurate.\n"
     ]
    }
   ],
   "source": [
    "model, accuracy = train(X_rain, y_rain, feature_names)\n",
    "print(model)\n",
    "print(f\"\\nThis statement is {100 * accuracy:.0f}% accurate.\")"
   ]
  },
  {
   "cell_type": "code",
   "execution_count": null,
   "metadata": {},
   "outputs": [],
   "source": []
  }
 ],
 "metadata": {
  "kernelspec": {
   "display_name": "Python 3",
   "language": "python",
   "name": "python3"
  },
  "language_info": {
   "codemirror_mode": {
    "name": "ipython",
    "version": 3
   },
   "file_extension": ".py",
   "mimetype": "text/x-python",
   "name": "python",
   "nbconvert_exporter": "python",
   "pygments_lexer": "ipython3",
   "version": "3.12.4"
  }
 },
 "nbformat": 4,
 "nbformat_minor": 2
}
