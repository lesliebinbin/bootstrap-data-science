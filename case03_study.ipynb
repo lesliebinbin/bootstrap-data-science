{
 "cells": [
  {
   "cell_type": "code",
   "execution_count": null,
   "metadata": {},
   "outputs": [],
   "source": [
    "%matplotlib inline"
   ]
  },
  {
   "cell_type": "code",
   "execution_count": null,
   "metadata": {},
   "outputs": [],
   "source": [
    "import numpy as np\n",
    "import pandas as pd\n",
    "import matplotlib.pyplot as plt"
   ]
  },
  {
   "cell_type": "code",
   "execution_count": null,
   "metadata": {},
   "outputs": [],
   "source": [
    "np.random.seed(0)\n",
    "mean = 0\n",
    "variance = 2\n",
    "x = np.random.normal(mean, variance ** 0.5)\n",
    "y = np.random.normal(mean, variance ** 0.5)\n",
    "print(f\"The x coordinate of a randomly thrown dart is {x:.2f}\")\n",
    "print(f\"The y coordinate of a randomly thrown dart is {y:.2f}\")"
   ]
  },
  {
   "cell_type": "code",
   "execution_count": null,
   "metadata": {},
   "outputs": [],
   "source": [
    "np.random.seed(1)\n",
    "bulls_eye1 = [0, 0]\n",
    "bulls_eye2 = [6, 0]\n",
    "bulls_eyes = [bulls_eye1, bulls_eye2]\n",
    "x_coordinates, y_coordinates = [], []\n",
    "for bulls_eye in bulls_eyes:\n",
    "    for _ in range(5000):\n",
    "        x = np.random.normal(bulls_eye[0], variance ** 0.5)\n",
    "        y = np.random.normal(bulls_eye[1], variance ** 0.5)\n",
    "        x_coordinates.append(x)\n",
    "        y_coordinates.append(y)\n",
    "        \n",
    "plt.scatter(x_coordinates, y_coordinates)"
   ]
  },
  {
   "cell_type": "code",
   "execution_count": null,
   "metadata": {},
   "outputs": [],
   "source": [
    "from scipy.spatial.distance import euclidean\n",
    "def nearest_bulls_eye(dart):\n",
    "    distances = [euclidean(dart, bulls_e) for bulls_e in bulls_eyes]\n",
    "    return np.argmin(distances)\n",
    "\n",
    "darts = [[0,1], [6, 1]]\n",
    "for dart in darts:\n",
    "    index = nearest_bulls_eye(dart)\n",
    "    print(f\"The dart at position {dart} is closest to bulls-eye {index}\")"
   ]
  },
  {
   "cell_type": "code",
   "execution_count": null,
   "metadata": {},
   "outputs": [],
   "source": [
    "def color_by_cluster(darts):\n",
    "    nearest_bulls_eyes = [nearest_bulls_eye(dart) for dart in darts]\n",
    "    for bs_index in range(len(bulls_eyes)):\n",
    "        selected_darts = [darts[i] for i in range(len(darts))\n",
    "                          if bs_index == nearest_bulls_eyes[i]]\n",
    "        x_coordinates, y_coordinates = np.array(selected_darts).T\n",
    "        plt.scatter(x_coordinates, y_coordinates, \n",
    "                    color=['g', 'k'][bs_index])\n",
    "\n",
    "darts = [[x_coordinates[i], y_coordinates[i]]  \n",
    "         for i in range(len(x_coordinates))]\n",
    "color_by_cluster(darts)"
   ]
  },
  {
   "cell_type": "code",
   "execution_count": null,
   "metadata": {},
   "outputs": [],
   "source": [
    "bulls_eyes = np.array(darts[:2])\n",
    "color_by_cluster(darts)"
   ]
  },
  {
   "cell_type": "code",
   "execution_count": null,
   "metadata": {},
   "outputs": [],
   "source": [
    "def update_bulls_eyes(darts):\n",
    "    updated_bulls_eyes = []\n",
    "    nearest_bulls_eyes = [nearest_bulls_eye(dart) for dart in darts]\n",
    "    for bs_index in range(len(bulls_eyes)):\n",
    "        selected_darts = [darts[i] for i in range(len(darts))\n",
    "                          if bs_index == nearest_bulls_eyes[i]]\n",
    "        x_coordinates, y_coordinates = np.array(selected_darts).T\n",
    "        mean_center = [np.mean(x_coordinates), np.mean(y_coordinates)]\n",
    "        updated_bulls_eyes.append(mean_center)\n",
    "        \n",
    "    return updated_bulls_eyes\n",
    "\n",
    "bulls_eyes = update_bulls_eyes(darts)\n",
    "color_by_cluster(darts)"
   ]
  },
  {
   "cell_type": "code",
   "execution_count": null,
   "metadata": {},
   "outputs": [],
   "source": [
    "for i in range(10):\n",
    "    bulls_eyes = update_bulls_eyes(darts)\n",
    "    \n",
    "color_by_cluster(darts)"
   ]
  },
  {
   "cell_type": "code",
   "execution_count": null,
   "metadata": {},
   "outputs": [],
   "source": [
    "from sklearn.cluster import KMeans"
   ]
  },
  {
   "cell_type": "code",
   "execution_count": null,
   "metadata": {},
   "outputs": [],
   "source": [
    "cluster_model = KMeans(n_clusters=2)\n",
    "assigned_bulls_eyes = cluster_model.fit_predict(darts)\n",
    "\n",
    "print(\"Bull's-eye assignments:\")\n",
    "print(assigned_bulls_eyes)"
   ]
  },
  {
   "cell_type": "code",
   "execution_count": null,
   "metadata": {},
   "outputs": [],
   "source": [
    "for bs_index in range(len(bulls_eyes)):\n",
    "    selected_darts = [darts[i] for i in range(len(darts))\n",
    "                      if bs_index == assigned_bulls_eyes[i]]\n",
    "    x_coordinates, y_coordinates = np.array(selected_darts).T\n",
    "    plt.scatter(x_coordinates, y_coordinates, \n",
    "                color=['g', 'k'][bs_index])"
   ]
  },
  {
   "cell_type": "code",
   "execution_count": null,
   "metadata": {},
   "outputs": [],
   "source": [
    "new_darts = [[500, 500], [-500, -500]]\n",
    "new_bulls_eye_assignments = cluster_model.predict(new_darts)\n",
    "for i, dart in enumerate(new_darts):\n",
    "    bulls_eye_index = new_bulls_eye_assignments[i]\n",
    "    print(f\"Dart at {dart} is closest to bull's-eye {bulls_eye_index}\")"
   ]
  },
  {
   "cell_type": "code",
   "execution_count": null,
   "metadata": {},
   "outputs": [],
   "source": [
    "k_values = range(1, 10)\n",
    "inertia_values = [KMeans(k).fit(darts).inertia_\n",
    "                  for k in k_values]\n",
    "\n",
    "plt.plot(k_values, inertia_values)\n",
    "plt.xlabel('K')\n",
    "plt.ylabel('Inertia')\n",
    "plt.show()"
   ]
  },
  {
   "cell_type": "code",
   "execution_count": null,
   "metadata": {},
   "outputs": [],
   "source": [
    "new_bulls_eye = [12, 0]\n",
    "for _ in range(5000):\n",
    "    x = np.random.normal(new_bulls_eye[0], variance ** 0.5)\n",
    "    y = np.random.normal(new_bulls_eye[1], variance ** 0.5)\n",
    "    darts.append([x, y])\n",
    "\n",
    "inertia_values = [KMeans(k).fit(darts).inertia_\n",
    "                  for k in k_values]\n",
    "\n",
    "plt.plot(k_values, inertia_values)\n",
    "plt.xlabel('K')\n",
    "plt.ylabel('Inertia')"
   ]
  },
  {
   "cell_type": "code",
   "execution_count": null,
   "metadata": {},
   "outputs": [],
   "source": [
    "from sklearn.datasets import make_circles"
   ]
  },
  {
   "cell_type": "code",
   "execution_count": null,
   "metadata": {},
   "outputs": [],
   "source": [
    "x_coordinates = []\n",
    "y_coordinates = []\n",
    "for factor in [.3, .6, .99]:\n",
    "    rock_ring, _ = make_circles(n_samples=800, factor=factor, noise=.03, random_state=1)\n",
    "    for rock in rock_ring:\n",
    "        x_coordinates.append(rock[0])\n",
    "        y_coordinates.append(rock[1])\n",
    "plt.scatter(x_coordinates, y_coordinates)"
   ]
  },
  {
   "cell_type": "code",
   "execution_count": null,
   "metadata": {},
   "outputs": [],
   "source": [
    "rocks = [[x, y] for x, y in zip(x_coordinates, y_coordinates)]"
   ]
  },
  {
   "cell_type": "code",
   "execution_count": null,
   "metadata": {},
   "outputs": [],
   "source": [
    "rock_clusters = KMeans(n_clusters=3).fit_predict(rocks)"
   ]
  },
  {
   "cell_type": "code",
   "execution_count": null,
   "metadata": {},
   "outputs": [],
   "source": [
    "len(rock_clusters)"
   ]
  },
  {
   "cell_type": "code",
   "execution_count": null,
   "metadata": {},
   "outputs": [],
   "source": [
    "colors = [['g', 'y', 'k'][cluster] for cluster in rock_clusters]"
   ]
  },
  {
   "cell_type": "code",
   "execution_count": null,
   "metadata": {},
   "outputs": [],
   "source": [
    "plt.scatter(x_coordinates, y_coordinates, color=colors)"
   ]
  },
  {
   "cell_type": "code",
   "execution_count": null,
   "metadata": {},
   "outputs": [],
   "source": [
    "epsilon = .1\n",
    "min_points = 10"
   ]
  },
  {
   "cell_type": "code",
   "execution_count": null,
   "metadata": {},
   "outputs": [],
   "source": [
    "neighbor_indices = [i for i, rock in enumerate(rocks[1:]) if euclidean(rocks[0], rock) <= epsilon]"
   ]
  },
  {
   "cell_type": "code",
   "execution_count": null,
   "metadata": {},
   "outputs": [],
   "source": [
    "len(neighbor_indices)"
   ]
  },
  {
   "cell_type": "code",
   "execution_count": null,
   "metadata": {},
   "outputs": [],
   "source": [
    "num_neighbors = len(neighbor_indices)\n",
    "print(f\"The rock at index 0 has {num_neighbors} neighbors.\")\n",
    "if num_neighbors >= min_points:\n",
    "    print(\"It lies in a dense region.\")\n",
    "else:\n",
    "    print(\"It does not lie in a dense region.\")"
   ]
  },
  {
   "cell_type": "code",
   "execution_count": null,
   "metadata": {},
   "outputs": [],
   "source": [
    "dense_region_indices = [0] + neighbor_indices"
   ]
  },
  {
   "cell_type": "code",
   "execution_count": null,
   "metadata": {},
   "outputs": [],
   "source": [
    "dense_region_cluster = [rocks[i] for i in dense_region_indices]"
   ]
  },
  {
   "cell_type": "code",
   "execution_count": null,
   "metadata": {},
   "outputs": [],
   "source": [
    "dense_cluster_size = len(dense_region_cluster)"
   ]
  },
  {
   "cell_type": "code",
   "execution_count": null,
   "metadata": {},
   "outputs": [],
   "source": [
    "f\"We found a dense cluster containing {dense_cluster_size} rocks\""
   ]
  },
  {
   "cell_type": "code",
   "execution_count": null,
   "metadata": {},
   "outputs": [],
   "source": [
    "dense_region_indices = set(dense_region_indices)"
   ]
  },
  {
   "cell_type": "code",
   "execution_count": null,
   "metadata": {},
   "outputs": [],
   "source": [
    "for index in neighbor_indices:\n",
    "    point = rocks[index]\n",
    "    neighbors_of_neighbors = [i for i, rock in enumerate(rocks) if euclidean(point, rock) <= epsilon]\n",
    "    if len(neighbors_of_neighbors) >= min_points:\n",
    "        dense_region_indices.update(neighbors_of_neighbors)"
   ]
  },
  {
   "cell_type": "code",
   "execution_count": null,
   "metadata": {},
   "outputs": [],
   "source": [
    "from sklearn.cluster import DBSCAN"
   ]
  },
  {
   "cell_type": "code",
   "execution_count": null,
   "metadata": {},
   "outputs": [],
   "source": [
    "cluster_model = DBSCAN(eps=epsilon, min_samples=min_points)"
   ]
  },
  {
   "cell_type": "code",
   "execution_count": null,
   "metadata": {},
   "outputs": [],
   "source": [
    "cluster_model = DBSCAN(eps=epsilon, min_samples=min_points)\n",
    "rock_clusters = cluster_model.fit_predict(rocks)\n",
    "colors = [['g', 'y', 'k'][cluster] for cluster in rock_clusters]\n",
    "plt.scatter(x_coordinates, y_coordinates, color=colors)"
   ]
  },
  {
   "cell_type": "code",
   "execution_count": null,
   "metadata": {},
   "outputs": [],
   "source": [
    "len(rock_clusters)"
   ]
  },
  {
   "cell_type": "code",
   "execution_count": null,
   "metadata": {},
   "outputs": [],
   "source": [
    "def manhattan_distance(point_a, point_b):\n",
    "    num_blocks = np.sum(np.absolute(point_a - point_b))\n",
    "    return .17 * num_blocks"
   ]
  },
  {
   "cell_type": "code",
   "execution_count": null,
   "metadata": {},
   "outputs": [],
   "source": [
    "x = np.array([34, 5])\n",
    "y = np.array([57, 8])"
   ]
  },
  {
   "cell_type": "code",
   "execution_count": null,
   "metadata": {},
   "outputs": [],
   "source": [
    "distance = manhattan_distance(x, y)"
   ]
  },
  {
   "cell_type": "code",
   "execution_count": null,
   "metadata": {},
   "outputs": [],
   "source": [
    "f\"Manhatten distance is {distance} miles\""
   ]
  },
  {
   "cell_type": "code",
   "execution_count": null,
   "metadata": {},
   "outputs": [],
   "source": [
    "points = [[35, 5], [33, 6], [37, 4], [40, 7], [45, 5]]"
   ]
  },
  {
   "cell_type": "code",
   "execution_count": null,
   "metadata": {},
   "outputs": [],
   "source": [
    "clusters = DBSCAN(eps=1, min_samples=3, metric=manhattan_distance).fit_predict(points)"
   ]
  },
  {
   "cell_type": "code",
   "execution_count": null,
   "metadata": {},
   "outputs": [],
   "source": [
    "for i, cluster in enumerate(clusters):\n",
    "    point = points[i]\n",
    "    if cluster == -1:\n",
    "        print(f\"Point at index {i} is an outlier\")\n",
    "        plt.scatter(point[0], point[1], marker='x', color='k')\n",
    "    else:\n",
    "        print(f\"Point at index {i} is in cluster {cluster}\")\n",
    "        plt.scatter(point[0], point[1], color='g')\n",
    "plt.grid(visible=True, which='both', alpha=.5)\n",
    "plt.minorticks_on()"
   ]
  },
  {
   "cell_type": "code",
   "execution_count": null,
   "metadata": {},
   "outputs": [],
   "source": [
    "x_coordinates, y_coordinates = np.array(rocks).T"
   ]
  },
  {
   "cell_type": "code",
   "execution_count": null,
   "metadata": {},
   "outputs": [],
   "source": [
    "df = pd.DataFrame({'X': x_coordinates, 'Y': y_coordinates, 'Cluster': rock_clusters})"
   ]
  },
  {
   "cell_type": "code",
   "execution_count": null,
   "metadata": {},
   "outputs": [],
   "source": [
    "df"
   ]
  },
  {
   "cell_type": "code",
   "execution_count": null,
   "metadata": {},
   "outputs": [],
   "source": [
    "df_cluster = df[df.Cluster == 0]"
   ]
  },
  {
   "cell_type": "code",
   "execution_count": null,
   "metadata": {},
   "outputs": [],
   "source": [
    "plt.scatter(df_cluster['X'], df_cluster['Y'])"
   ]
  },
  {
   "cell_type": "code",
   "execution_count": null,
   "metadata": {},
   "outputs": [],
   "source": [
    "for cluster_id, df_cluster in df.groupby('Cluster'):\n",
    "    if cluster_id == 0:\n",
    "        print(f\"Skipping over cluster {cluster_id}\")\n",
    "        continue\n",
    "    print(f\"Plotting cluster {cluster_id}\")\n",
    "    plt.scatter(df_cluster.X, df_cluster.Y)"
   ]
  },
  {
   "cell_type": "code",
   "execution_count": null,
   "metadata": {},
   "outputs": [],
   "source": []
  }
 ],
 "metadata": {
  "kernelspec": {
   "display_name": "Python 3",
   "language": "python",
   "name": "python3"
  },
  "language_info": {
   "codemirror_mode": {
    "name": "ipython",
    "version": 3
   },
   "file_extension": ".py",
   "mimetype": "text/x-python",
   "name": "python",
   "nbconvert_exporter": "python",
   "pygments_lexer": "ipython3",
   "version": "3.12.4"
  }
 },
 "nbformat": 4,
 "nbformat_minor": 2
}
