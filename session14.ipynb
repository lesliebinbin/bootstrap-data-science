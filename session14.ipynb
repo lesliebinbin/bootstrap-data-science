{
 "cells": [
  {
   "cell_type": "code",
   "execution_count": null,
   "metadata": {},
   "outputs": [],
   "source": [
    "import numpy as np\n",
    "import pandas as pd\n",
    "import matplotlib.pyplot as plt\n",
    "import seaborn as sns\n",
    "%matplotlib inline"
   ]
  },
  {
   "cell_type": "code",
   "execution_count": null,
   "metadata": {},
   "outputs": [],
   "source": [
    "heights = np.arange(60, 78, .1)"
   ]
  },
  {
   "cell_type": "code",
   "execution_count": null,
   "metadata": {},
   "outputs": [],
   "source": [
    "heights"
   ]
  },
  {
   "cell_type": "code",
   "execution_count": null,
   "metadata": {},
   "outputs": [],
   "source": [
    "heights.size"
   ]
  },
  {
   "cell_type": "code",
   "execution_count": null,
   "metadata": {},
   "outputs": [],
   "source": [
    "np.random.seed(0)\n",
    "random_fluctuation = np.random.normal(scale=10, size=heights.size)\n",
    "weights = 4 * heights - 130 + random_fluctuation"
   ]
  },
  {
   "cell_type": "code",
   "execution_count": null,
   "metadata": {},
   "outputs": [],
   "source": [
    "measurements = np.array([heights, weights]).T"
   ]
  },
  {
   "cell_type": "code",
   "execution_count": null,
   "metadata": {},
   "outputs": [],
   "source": [
    "measurements"
   ]
  },
  {
   "cell_type": "code",
   "execution_count": null,
   "metadata": {},
   "outputs": [],
   "source": [
    "plt.scatter(measurements[:, 0], measurements[:, 1])\n",
    "plt.xlabel('Height (in)')\n",
    "plt.ylabel('Weight (lb)')"
   ]
  },
  {
   "cell_type": "code",
   "execution_count": null,
   "metadata": {},
   "outputs": [],
   "source": [
    "plt.scatter(measurements[:, 0], measurements[:, 1])\n",
    "plt.xlabel('Height (in)')\n",
    "plt.ylabel('Weight (lb)')\n",
    "plt.axis('equal')"
   ]
  },
  {
   "cell_type": "code",
   "execution_count": null,
   "metadata": {},
   "outputs": [],
   "source": [
    "centered_data = np.array([heights - heights.mean(), weights - weights.mean()])"
   ]
  },
  {
   "cell_type": "code",
   "execution_count": null,
   "metadata": {},
   "outputs": [],
   "source": [
    "centered_data.shape"
   ]
  },
  {
   "cell_type": "code",
   "execution_count": null,
   "metadata": {},
   "outputs": [],
   "source": [
    "plt.scatter(centered_data[0], centered_data[1])\n",
    "plt.axhline(0, c='black')\n",
    "plt.axvline(0, c='black')\n",
    "plt.xlabel('Centered Height (in)')\n",
    "plt.ylabel('Centered Weight (lb)')\n",
    "plt.axis('equal')"
   ]
  },
  {
   "cell_type": "code",
   "execution_count": null,
   "metadata": {},
   "outputs": [],
   "source": [
    "from math import sin, cos\n",
    "angle = np.radians(-90)"
   ]
  },
  {
   "cell_type": "code",
   "execution_count": null,
   "metadata": {},
   "outputs": [],
   "source": [
    "rotation_matrix = np.array([[cos(angle), -sin(angle)], [sin(angle), cos(angle)]])"
   ]
  },
  {
   "cell_type": "code",
   "execution_count": null,
   "metadata": {},
   "outputs": [],
   "source": [
    "rotated_data = rotation_matrix @ centered_data"
   ]
  },
  {
   "cell_type": "code",
   "execution_count": null,
   "metadata": {},
   "outputs": [],
   "source": [
    "plt.scatter(centered_data[0], centered_data[1], label='Original Data')\n",
    "plt.scatter(rotated_data[0], rotated_data[1], c='y', label='Rotated Data')\n",
    "plt.axhline(0, c='black')\n",
    "plt.axvline(0, c='black')\n",
    "plt.legend()\n",
    "plt.axis('equal')"
   ]
  },
  {
   "cell_type": "code",
   "execution_count": null,
   "metadata": {},
   "outputs": [],
   "source": [
    "data_labels = ['unrotated', 'rotated']\n",
    "data_list = [centered_data, rotated_data]\n",
    "for data_label, data in zip(data_labels, data_list):\n",
    "    y_values = data[1]\n",
    "    penalty = y_values @ y_values / y_values.size\n",
    "    print(f\"The penalty score for the {data_label} data is {penalty:.2f}\")"
   ]
  },
  {
   "cell_type": "code",
   "execution_count": null,
   "metadata": {},
   "outputs": [],
   "source": [
    "for data_label, data in zip(data_labels, data_list):\n",
    "    y_var = data[1].var()\n",
    "    penalty = data[1] @ data[1] / data[0].size\n",
    "    assert round(y_var, 14) == round(penalty, 14)\n",
    "    print(f\"The y-axis variance for the {data_label} data is {y_var:.2f}\")"
   ]
  },
  {
   "cell_type": "code",
   "execution_count": null,
   "metadata": {},
   "outputs": [],
   "source": [
    "for data_label, data in zip(data_labels, data_list):\n",
    "    x_var = data[0].var()\n",
    "    print(f\"The x-axis variance for the {data_label} data is {x_var:.2f}\")"
   ]
  },
  {
   "cell_type": "code",
   "execution_count": null,
   "metadata": {},
   "outputs": [],
   "source": [
    "total_variance = centered_data[0].var() + centered_data[1].var()\n",
    "assert total_variance == rotated_data[0].var() + rotated_data[1].var()"
   ]
  },
  {
   "cell_type": "code",
   "execution_count": null,
   "metadata": {},
   "outputs": [],
   "source": [
    "for data_label, data in zip(data_labels, data_list):\n",
    "    percent_x_axis_var = 100 * data[0].var() / total_variance\n",
    "    percent_y_axis_var = 100 * data[1].var() / total_variance\n",
    "    print(f\"In the {data_label} data, {percent_x_axis_var:.2f}% of the total variance is distributed across the x-axis\")\n",
    "    print(f\"The remaining {percent_y_axis_var:.2f}% of the total variance is distributed across the y-axis\\n\")"
   ]
  },
  {
   "cell_type": "code",
   "execution_count": null,
   "metadata": {},
   "outputs": [],
   "source": [
    "def rotate(angle, data=centered_data):\n",
    "    angle = np.radians(-angle)\n",
    "    rotation_matrix = np.array([[cos(angle), -sin(angle)], [sin(angle), cos(angle)]])\n",
    "    return rotation_matrix @ data\n",
    "angles = np.arange(1, 180, .1)\n",
    "x_variances = [rotate(angle)[0].var() for angle in angles]\n",
    "percent_x_variances = 100 * np.array(x_variances) / total_variance\n",
    "optimal_index = np.argmax(percent_x_variances)\n",
    "optimal_angle = angles[optimal_index]\n",
    "plt.plot(angles, percent_x_variances)\n",
    "plt.axvline(optimal_angle, c='k')\n",
    "plt.xlabel('Angle (degrees)')\n",
    "plt.ylabel('% x-axis coverage')\n",
    "plt.show()\n",
    "max_coverage = percent_x_variances[optimal_index]\n",
    "max_x_var = x_variances[optimal_index]\n",
    "print(f\"The horizontal variance is maximized to approximately {int(max_x_var)} after a {optimal_angle:.1f} degree rotation.\")\n",
    "print(f\"That rotation distributes {max_coverage:.2f}% of the total variance onto the x-axis.\")"
   ]
  },
  {
   "cell_type": "code",
   "execution_count": null,
   "metadata": {},
   "outputs": [],
   "source": [
    "best_rotated_data = rotate(optimal_angle)\n",
    "plt.scatter(best_rotated_data[0], best_rotated_data[1])\n",
    "plt.axhline(0, c='black')\n",
    "plt.axvline(0, c='black')\n",
    "plt.axis('equal')"
   ]
  },
  {
   "cell_type": "code",
   "execution_count": null,
   "metadata": {},
   "outputs": [],
   "source": [
    "optimal_angle"
   ]
  },
  {
   "cell_type": "code",
   "execution_count": null,
   "metadata": {},
   "outputs": [],
   "source": [
    "x_values = best_rotated_data[0]\n",
    "sorted_x_values = sorted(x_values)\n",
    "cluster_size = int(x_values.size / 3)\n",
    "small_cutoff = max(sorted_x_values[:cluster_size])\n",
    "large_cutoff = min(sorted_x_values[-cluster_size:])\n",
    "print(f\"A 1D threshold of {small_cutoff:.2f} separates the small-sized \"\n",
    "\"and medium-sized customers.\")\n",
    "print(f\"A 1D threshold of {large_cutoff:.2f} separates the medium-sized \"\n",
    "\"and large-sized customers.\")"
   ]
  },
  {
   "cell_type": "code",
   "execution_count": null,
   "metadata": {},
   "outputs": [],
   "source": [
    "def plot_customer_segments(horizontal_2d_data):\n",
    "    small, medium, large = [], [], []\n",
    "    cluster_labels = ['Small', 'Medium', 'Large']\n",
    "    for x_value, y_value in horizontal_2d_data.T:\n",
    "        if x_value <= small_cutoff:\n",
    "            small.append([x_value, y_value])\n",
    "        elif small_cutoff < x_value < large_cutoff:\n",
    "            medium.append([x_value, y_value])\n",
    "        else:\n",
    "            large.append([x_value, y_value])\n",
    "    for i, cluster in enumerate([small, medium, large]):\n",
    "        cluster_x_values, cluster_y_values = np.array(cluster).T\n",
    "        plt.scatter(cluster_x_values, cluster_y_values, color=['g', 'b', 'y'][i], label=cluster_labels[i])\n",
    "    plt.axhline(0, c='black')\n",
    "    plt.axvline(large_cutoff, c='black', linewidth=3, linestyle='--')\n",
    "    plt.axvline(small_cutoff, c='black', linewidth=3, linestyle='--')\n",
    "    plt.axis('equal')\n",
    "    plt.legend()"
   ]
  },
  {
   "cell_type": "code",
   "execution_count": null,
   "metadata": {},
   "outputs": [],
   "source": [
    "plot_customer_segments(best_rotated_data)"
   ]
  },
  {
   "cell_type": "code",
   "execution_count": null,
   "metadata": {},
   "outputs": [],
   "source": [
    "zero_y_values = np.zeros(x_values.size)"
   ]
  },
  {
   "cell_type": "code",
   "execution_count": null,
   "metadata": {},
   "outputs": [],
   "source": [
    "reproduced_data = rotate(-optimal_angle, np.array([x_values, zero_y_values]))"
   ]
  },
  {
   "cell_type": "code",
   "execution_count": null,
   "metadata": {},
   "outputs": [],
   "source": [
    "plt.plot(reproduced_data[0], reproduced_data[1], c='k',\n",
    "label='Reproduced Data')\n",
    "plt.scatter(centered_data[0], centered_data[1], c='y',\n",
    "label='Original Data')\n",
    "plt.axis('equal')\n",
    "plt.legend()"
   ]
  },
  {
   "cell_type": "code",
   "execution_count": null,
   "metadata": {},
   "outputs": [],
   "source": [
    "np.random.seed(1)\n",
    "new_heights = np.arange(60, 78, .11)\n",
    "random_fluctuations = np.random.normal(scale=10, size=new_heights.size)\n",
    "new_weights = 4 * new_heights - 130 + random_fluctuations\n",
    "new_centered_data = np.array([new_heights - heights.mean(),\n",
    "new_weights - weights.mean()])\n",
    "plt.scatter(new_centered_data[0], new_centered_data[1], c='y',\n",
    "label='New Customer Data')\n",
    "plt.plot(reproduced_data[0], reproduced_data[1], c='k',\n",
    "label='First Principal Direction')\n",
    "plt.xlabel('Centralized Height (in)')\n",
    "plt.ylabel('Centralized Weight (lb)')\n",
    "plt.axis('equal')\n",
    "plt.legend()"
   ]
  },
  {
   "cell_type": "code",
   "execution_count": null,
   "metadata": {},
   "outputs": [],
   "source": [
    "new_horizontal_data = rotate(optimal_angle, data=new_centered_data)\n",
    "plot_customer_segments(new_horizontal_data)"
   ]
  },
  {
   "cell_type": "code",
   "execution_count": null,
   "metadata": {},
   "outputs": [],
   "source": [
    "from sklearn.decomposition import PCA"
   ]
  },
  {
   "cell_type": "code",
   "execution_count": null,
   "metadata": {},
   "outputs": [],
   "source": [
    "pca_object = PCA()"
   ]
  },
  {
   "cell_type": "code",
   "execution_count": null,
   "metadata": {},
   "outputs": [],
   "source": [
    "measurements.shape"
   ]
  },
  {
   "cell_type": "code",
   "execution_count": null,
   "metadata": {},
   "outputs": [],
   "source": [
    "pca_transformed_data = pca_object.fit_transform(measurements)"
   ]
  },
  {
   "cell_type": "code",
   "execution_count": null,
   "metadata": {},
   "outputs": [],
   "source": [
    "pca_transformed_data"
   ]
  },
  {
   "cell_type": "code",
   "execution_count": null,
   "metadata": {},
   "outputs": [],
   "source": [
    "plt.scatter(pca_transformed_data[:, 0], pca_transformed_data[:, 1])\n",
    "plt.axhline(0, c='black')\n",
    "plt.axvline(0, c='black')\n",
    "plt.axis('equal')"
   ]
  },
  {
   "cell_type": "code",
   "execution_count": null,
   "metadata": {},
   "outputs": [],
   "source": [
    "pca_transformed_data.shape"
   ]
  },
  {
   "cell_type": "code",
   "execution_count": null,
   "metadata": {},
   "outputs": [],
   "source": [
    "plot_customer_segments( (pca_transformed_data * np.array([1, -1])).T)"
   ]
  },
  {
   "cell_type": "code",
   "execution_count": null,
   "metadata": {},
   "outputs": [],
   "source": []
  },
  {
   "cell_type": "code",
   "execution_count": null,
   "metadata": {},
   "outputs": [],
   "source": [
    "percent_variance_coverage = 100 * pca_object.explained_variance_ratio_"
   ]
  },
  {
   "cell_type": "code",
   "execution_count": null,
   "metadata": {},
   "outputs": [],
   "source": [
    "x_axis_coverage, y_axis_coverage = percent_variance_coverage"
   ]
  },
  {
   "cell_type": "code",
   "execution_count": null,
   "metadata": {},
   "outputs": [],
   "source": [
    "f\"The x-axis of our PCA output covers {x_axis_coverage:.2f}% of the total variance\""
   ]
  },
  {
   "cell_type": "code",
   "execution_count": null,
   "metadata": {},
   "outputs": [],
   "source": [
    "first_pc = pca_object.components_[0]"
   ]
  },
  {
   "cell_type": "code",
   "execution_count": null,
   "metadata": {},
   "outputs": [],
   "source": [
    "first_pc"
   ]
  },
  {
   "cell_type": "code",
   "execution_count": null,
   "metadata": {},
   "outputs": [],
   "source": [
    "np.linalg.norm(first_pc)"
   ]
  },
  {
   "cell_type": "code",
   "execution_count": null,
   "metadata": {},
   "outputs": [],
   "source": [
    "def plot_stretched_vector(v, **kwargs):\n",
    "    plt.plot([-50 * v[0], 50 * v[0]], [-50 * v[1], 50 * v[1]], **kwargs)\n",
    "plt.plot(reproduced_data[0], reproduced_data[1], c='k',\n",
    "label='First Principal Direction')\n",
    "plt.scatter(centered_data[0], centered_data[1], c='y')\n",
    "plt.xlabel('Centralized Height (in)')\n",
    "plt.ylabel('Centralized Weight (lb)')\n",
    "plt.axis('equal')\n",
    "plt.legend()"
   ]
  },
  {
   "cell_type": "code",
   "execution_count": null,
   "metadata": {},
   "outputs": [],
   "source": [
    "measurements.shape"
   ]
  },
  {
   "cell_type": "code",
   "execution_count": null,
   "metadata": {},
   "outputs": [],
   "source": [
    "plt.scatter(measurements[:, 0], measurements[:, 1])"
   ]
  },
  {
   "cell_type": "code",
   "execution_count": null,
   "metadata": {},
   "outputs": [],
   "source": [
    "centered_data.shape"
   ]
  },
  {
   "cell_type": "code",
   "execution_count": null,
   "metadata": {},
   "outputs": [],
   "source": [
    "plt.scatter(centered_data[0], centered_data[1])"
   ]
  },
  {
   "cell_type": "code",
   "execution_count": null,
   "metadata": {},
   "outputs": [],
   "source": [
    "principal_components = pca_object.components_\n",
    "for i, pc in enumerate(principal_components):\n",
    "    plot_stretched_vector(pc, c='k', label='Principal Directions' if i == 0 else None)\n",
    "for i, axis_vector in enumerate([np.array([0, 1]), np.array([1, 0])]):\n",
    "    plot_stretched_vector(axis_vector, c='g', linestyle='-.', label='Axes' if i == 0 else None)\n",
    "plt.scatter(centered_data[0], centered_data[1], c='y')\n",
    "plt.xlabel('Centralized Height (in)')\n",
    "plt.ylabel('Centralized Weight (lb)')\n",
    "plt.legend()\n",
    "plt.axis('equal')"
   ]
  },
  {
   "cell_type": "code",
   "execution_count": null,
   "metadata": {},
   "outputs": [],
   "source": [
    "pca_object.components_"
   ]
  },
  {
   "cell_type": "code",
   "execution_count": null,
   "metadata": {},
   "outputs": [],
   "source": [
    "measurements.shape"
   ]
  },
  {
   "cell_type": "code",
   "execution_count": null,
   "metadata": {},
   "outputs": [],
   "source": [
    "temp=measurements @ pca_object.components_"
   ]
  },
  {
   "cell_type": "code",
   "execution_count": null,
   "metadata": {},
   "outputs": [],
   "source": [
    "projections = pca_object.components_ @ centered_data\n",
    "assert np.allclose(pca_transformed_data.T,projections)"
   ]
  },
  {
   "cell_type": "code",
   "execution_count": null,
   "metadata": {},
   "outputs": [],
   "source": [
    "from sklearn.datasets import load_iris\n",
    "flower_data = load_iris()"
   ]
  },
  {
   "cell_type": "code",
   "execution_count": null,
   "metadata": {},
   "outputs": [],
   "source": [
    "flower_data"
   ]
  },
  {
   "cell_type": "code",
   "execution_count": null,
   "metadata": {},
   "outputs": [],
   "source": [
    "flower_measurements = flower_data['data']"
   ]
  },
  {
   "cell_type": "code",
   "execution_count": null,
   "metadata": {},
   "outputs": [],
   "source": [
    "flower_measurements"
   ]
  },
  {
   "cell_type": "code",
   "execution_count": null,
   "metadata": {},
   "outputs": [],
   "source": [
    "num_flowers, num_measurements = flower_measurements.shape"
   ]
  },
  {
   "cell_type": "code",
   "execution_count": null,
   "metadata": {},
   "outputs": [],
   "source": [
    "num_flowers"
   ]
  },
  {
   "cell_type": "code",
   "execution_count": null,
   "metadata": {},
   "outputs": [],
   "source": [
    "num_measurements"
   ]
  },
  {
   "cell_type": "code",
   "execution_count": null,
   "metadata": {},
   "outputs": [],
   "source": [
    "pca_object_2D = PCA(n_components=2)"
   ]
  },
  {
   "cell_type": "code",
   "execution_count": null,
   "metadata": {},
   "outputs": [],
   "source": [
    "pca_object_2D.fit_transform(flower_measurements)"
   ]
  },
  {
   "cell_type": "code",
   "execution_count": null,
   "metadata": {},
   "outputs": [],
   "source": [
    "transformed_data_2D = _"
   ]
  },
  {
   "cell_type": "code",
   "execution_count": null,
   "metadata": {},
   "outputs": [],
   "source": [
    "row_count, column_count= transformed_data_2D.shape"
   ]
  },
  {
   "cell_type": "code",
   "execution_count": null,
   "metadata": {},
   "outputs": [],
   "source": [
    "def print_2D_variance_coverage(pca_object):\n",
    "    percent_var_coverages = 100 * pca_object.explained_variance_ratio_\n",
    "    x_axis_coverage, y_axis_coverage = percent_var_coverages\n",
    "    total_coverage = x_axis_coverage + y_axis_coverage\n",
    "    print(f\"The x-axis covers {x_axis_coverage:.2f}% \"\n",
    "    \"of the total variance\")\n",
    "    print(f\"The y-axis covers {y_axis_coverage:.2f}% \"\n",
    "    \"of the total variance\")\n",
    "    print(f\"Together, the 2 axes cover {total_coverage:.2f}% \"\n",
    "    \"of the total variance\")"
   ]
  },
  {
   "cell_type": "code",
   "execution_count": null,
   "metadata": {},
   "outputs": [],
   "source": [
    "print_2D_variance_coverage(pca_object_2D)"
   ]
  },
  {
   "cell_type": "code",
   "execution_count": null,
   "metadata": {},
   "outputs": [],
   "source": [
    "plt.scatter(transformed_data_2D[:, 0], transformed_data_2D[:, 1])"
   ]
  },
  {
   "cell_type": "code",
   "execution_count": null,
   "metadata": {},
   "outputs": [],
   "source": [
    "def visualize_flower_data(dim_reduced_data):\n",
    "    species_names = flower_data['target_names']\n",
    "    for i, species in enumerate(species_names):\n",
    "        species_data = np.array([dim_reduced_data[j] for j in range(dim_reduced_data.shape[0]) if flower_data['target'][j]==i]).T\n",
    "        plt.scatter(species_data[0], species_data[1], label=species.title(), color=['g', 'k', 'y'][i])\n",
    "    plt.legend()"
   ]
  },
  {
   "cell_type": "code",
   "execution_count": null,
   "metadata": {},
   "outputs": [],
   "source": [
    "visualize_flower_data(dim_reduced_data=transformed_data_2D)"
   ]
  },
  {
   "cell_type": "code",
   "execution_count": null,
   "metadata": {},
   "outputs": [],
   "source": [
    "pca_object_2D.components_"
   ]
  },
  {
   "cell_type": "code",
   "execution_count": null,
   "metadata": {},
   "outputs": [],
   "source": [
    "def detect_setosa(flower_sample):\n",
    "    centered_sample = flower_sample - pca_object_2D.mean_\n",
    "    projection = pca_object_2D.components_[0] @ centered_sample\n",
    "    if projection < -2:\n",
    "        print(\"The sample could be a Setosa\")\n",
    "    else:\n",
    "        print(\"The sample is not Setosa\")"
   ]
  },
  {
   "cell_type": "code",
   "execution_count": null,
   "metadata": {},
   "outputs": [],
   "source": [
    "new_flower_sample = np.array([4.8, 3.7, 1.2, 0.24])\n",
    "detect_setosa(new_flower_sample)"
   ]
  },
  {
   "cell_type": "code",
   "execution_count": null,
   "metadata": {},
   "outputs": [],
   "source": [
    "for i in range(flower_measurements.shape[1]):\n",
    "    flower_measurements[:,i] /= np.linalg.norm(flower_measurements[:,i])\n",
    "    transformed_data_2D = pca_object_2D.fit_transform(flower_measurements)\n",
    "print_2D_variance_coverage(pca_object_2D)"
   ]
  },
  {
   "cell_type": "code",
   "execution_count": null,
   "metadata": {},
   "outputs": [],
   "source": [
    "visualize_flower_data(transformed_data_2D)"
   ]
  },
  {
   "cell_type": "code",
   "execution_count": null,
   "metadata": {},
   "outputs": [],
   "source": [
    "centered_data.shape"
   ]
  },
  {
   "cell_type": "code",
   "execution_count": null,
   "metadata": {},
   "outputs": [],
   "source": [
    "centered_data @ centered_data.T"
   ]
  },
  {
   "cell_type": "code",
   "execution_count": null,
   "metadata": {},
   "outputs": [],
   "source": [
    "conv_matrix = centered_data @ centered_data.T / centered_data.shape[1]"
   ]
  },
  {
   "cell_type": "code",
   "execution_count": null,
   "metadata": {},
   "outputs": [],
   "source": [
    "conv_matrix"
   ]
  },
  {
   "cell_type": "code",
   "execution_count": null,
   "metadata": {},
   "outputs": [],
   "source": [
    "for i in range(centered_data.shape[0]):\n",
    "    variance = conv_matrix[i, i]\n",
    "    assert round(variance, 10) == round(centered_data[i].var(), 10)"
   ]
  },
  {
   "cell_type": "code",
   "execution_count": null,
   "metadata": {},
   "outputs": [],
   "source": [
    "def plot_vector(vector, **kwargs):\n",
    "    plt.plot([0, vector[0]], [0, vector[1]], **kwargs)"
   ]
  },
  {
   "cell_type": "code",
   "execution_count": null,
   "metadata": {},
   "outputs": [],
   "source": [
    "plot_vector(first_pc, c='y', label='First Principal Component')\n",
    "product_vector = conv_matrix @ first_pc\n",
    "product_vector /= np.linalg.norm(product_vector)\n",
    "plot_vector(first_pc, c='k', linestyle='--', label='First Principal Component')\n",
    "plt.legend()\n",
    "plt.axis('equal')"
   ]
  },
  {
   "cell_type": "code",
   "execution_count": null,
   "metadata": {},
   "outputs": [],
   "source": [
    "product_vector2 = conv_matrix @ product_vector"
   ]
  },
  {
   "cell_type": "code",
   "execution_count": null,
   "metadata": {},
   "outputs": [],
   "source": [
    "product_vector2 /= np.linalg.norm(product_vector2)"
   ]
  },
  {
   "cell_type": "code",
   "execution_count": null,
   "metadata": {},
   "outputs": [],
   "source": [
    "import math\n",
    "cosine_similarity = product_vector @ product_vector2\n",
    "angle = math.acos(cosine_similarity)"
   ]
  },
  {
   "cell_type": "code",
   "execution_count": null,
   "metadata": {},
   "outputs": [],
   "source": [
    "f\"{angle:.2f}\""
   ]
  },
  {
   "cell_type": "code",
   "execution_count": null,
   "metadata": {},
   "outputs": [],
   "source": [
    "new_magnitude = np.linalg.norm(conv_matrix @ first_pc)"
   ]
  },
  {
   "cell_type": "code",
   "execution_count": null,
   "metadata": {},
   "outputs": [],
   "source": [
    "new_magnitude"
   ]
  },
  {
   "cell_type": "code",
   "execution_count": null,
   "metadata": {},
   "outputs": [],
   "source": [
    "variance = (centered_data.T @ first_pc).var()"
   ]
  },
  {
   "cell_type": "code",
   "execution_count": null,
   "metadata": {},
   "outputs": [],
   "source": [
    "direction1_var = projections[0].var()"
   ]
  },
  {
   "cell_type": "code",
   "execution_count": null,
   "metadata": {},
   "outputs": [],
   "source": [
    "assert round(variance, 10) == round(direction1_var, 10)\n",
    "print(f\"The variance along the first principal direction is approximately {variance:.1f}\")"
   ]
  },
  {
   "cell_type": "code",
   "execution_count": null,
   "metadata": {},
   "outputs": [],
   "source": [
    "centered_data.shape"
   ]
  },
  {
   "cell_type": "code",
   "execution_count": null,
   "metadata": {},
   "outputs": [],
   "source": [
    "np.random.seed(0)\n",
    "random_vector = np.random.random(size=2)"
   ]
  },
  {
   "cell_type": "code",
   "execution_count": null,
   "metadata": {},
   "outputs": [],
   "source": [
    "random_vector"
   ]
  },
  {
   "cell_type": "code",
   "execution_count": null,
   "metadata": {},
   "outputs": [],
   "source": [
    "random_vector /= np.linalg.norm(random_vector)"
   ]
  },
  {
   "cell_type": "code",
   "execution_count": null,
   "metadata": {},
   "outputs": [],
   "source": [
    "random_vector"
   ]
  },
  {
   "cell_type": "code",
   "execution_count": null,
   "metadata": {},
   "outputs": [],
   "source": [
    "product_vector = conv_matrix @ random_vector\n",
    "product_vector /= np.linalg.norm(product_vector)"
   ]
  },
  {
   "cell_type": "code",
   "execution_count": null,
   "metadata": {},
   "outputs": [],
   "source": [
    "product_vector = conv_matrix @ random_vector\n",
    "product_vector /= np.linalg.norm(product_vector)\n",
    "plt.plot([0, random_vector[0]], [0, random_vector[1]],\n",
    "label='Random Vector')\n",
    "plt.plot([0, product_vector[0]], [0, product_vector[1]], linestyle='--',\n",
    "c='k', label='Normalized Product Vector')\n",
    "plt.legend()\n",
    "plt.axis('equal')"
   ]
  },
  {
   "cell_type": "code",
   "execution_count": null,
   "metadata": {},
   "outputs": [],
   "source": [
    "product_vector2 = conv_matrix @ product_vector\n",
    "product_vector2 /= np.linalg.norm(product_vector2)\n",
    "plt.plot([0, product_vector[0]], [0, product_vector[1]], linestyle='--',\n",
    "c='k', label='Normalized Product Vector')\n",
    "plt.plot([0, product_vector2[0]], [0, product_vector2[1]], linestyle=':',\n",
    "c='r', label='Normalized Product Vector2')\n",
    "plt.legend()\n",
    "plt.axis('equal')"
   ]
  },
  {
   "cell_type": "code",
   "execution_count": null,
   "metadata": {},
   "outputs": [],
   "source": [
    "np.random.seed(0)\n",
    "def power_iteration(matrix):\n",
    "    random_vector = np.random.random(size=matrix.shape[0])\n",
    "    random_vector /= np.linalg.norm(random_vector)\n",
    "    old_rotated_vector = random_vector\n",
    "    for _ in range(10):\n",
    "        rotated_vector = matrix @ old_rotated_vector\n",
    "        rotated_vector /= np.linalg.norm(rotated_vector)\n",
    "        old_rotated_vector = rotated_vector\n",
    "    eigenvector = rotated_vector\n",
    "    eigenvalue = np.linalg.norm(matrix @ eigenvector)\n",
    "    return eigenvector, eigenvalue"
   ]
  },
  {
   "cell_type": "code",
   "execution_count": null,
   "metadata": {},
   "outputs": [],
   "source": [
    "eigenvector, eigenvalue = power_iteration(conv_matrix)"
   ]
  },
  {
   "cell_type": "code",
   "execution_count": null,
   "metadata": {},
   "outputs": [],
   "source": [
    "eigenvector[1] * eigenvector[0]"
   ]
  },
  {
   "cell_type": "code",
   "execution_count": null,
   "metadata": {},
   "outputs": [],
   "source": [
    "outer_product  = np.outer(eigenvector, eigenvector)"
   ]
  },
  {
   "cell_type": "code",
   "execution_count": null,
   "metadata": {},
   "outputs": [],
   "source": [
    "deflated_matrix =  conv_matrix - eigenvalue * outer_product"
   ]
  },
  {
   "cell_type": "code",
   "execution_count": null,
   "metadata": {},
   "outputs": [],
   "source": [
    "next_eigenvector, next_eigenvalue =power_iteration(deflated_matrix)"
   ]
  },
  {
   "cell_type": "code",
   "execution_count": null,
   "metadata": {},
   "outputs": [],
   "source": [
    "np.random.seed(0)\n",
    "components = np.array([eigenvector, next_eigenvector])\n",
    "projection = components @ centered_data\n",
    "plt.scatter(projections[0], projections[1])\n",
    "plt.axis('equal')\n",
    "plt.axhline(0, c='black')\n",
    "plt.axvline(0, c='black')"
   ]
  },
  {
   "cell_type": "code",
   "execution_count": null,
   "metadata": {},
   "outputs": [],
   "source": [
    "def find_top_eigenvectors(matrix, k=2):\n",
    "    matrix = matrix.copy()\n",
    "    eigenvectors = []\n",
    "    for _ in range(k):\n",
    "        eigenvector, eigenvalue = power_iteration(matrix)\n",
    "        eigenvectors.append(eigenvector)\n",
    "        matrix -= eigenvalue * np.outer(eigenvector, eigenvector)\n",
    "    return np.array(eigenvectors)\n",
    "def find_top_principal_components(centered_matrix, k=2):\n",
    "    cov_matrix = centered_matrix @ centered_matrix.T / centered_matrix.shape[1]\n",
    "    return find_top_eigenvectors(cov_matrix, k=k)"
   ]
  },
  {
   "cell_type": "code",
   "execution_count": null,
   "metadata": {},
   "outputs": [],
   "source": [
    "find_top_principal_components(centered_data)"
   ]
  },
  {
   "cell_type": "code",
   "execution_count": null,
   "metadata": {},
   "outputs": [],
   "source": [
    "conv_matrix"
   ]
  },
  {
   "cell_type": "code",
   "execution_count": null,
   "metadata": {},
   "outputs": [],
   "source": [
    "def reduce_dimensions(data, k=2, centralized_data=True):\n",
    "    data = data.T.copy()\n",
    "    if centralized_data:\n",
    "        for i in range(data.shape[0]):\n",
    "            data[i] -= data[i].mean()\n",
    "    principal_components = find_top_principal_components(data, k)\n",
    "    return (principal_components @ data).T"
   ]
  },
  {
   "cell_type": "code",
   "execution_count": null,
   "metadata": {},
   "outputs": [],
   "source": [
    "np.random.seed(0)\n",
    "dim_reduced_data = reduce_dimensions(flower_measurements)\n",
    "dim_reduced_data"
   ]
  },
  {
   "cell_type": "code",
   "execution_count": null,
   "metadata": {},
   "outputs": [],
   "source": [
    "visualize_flower_data(dim_reduced_data)"
   ]
  },
  {
   "cell_type": "code",
   "execution_count": null,
   "metadata": {},
   "outputs": [],
   "source": [
    "np.random.seed(0)\n",
    "dim_reduced_data2 = reduce_dimensions(flower_measurements, centralized_data=False)"
   ]
  },
  {
   "cell_type": "code",
   "execution_count": null,
   "metadata": {},
   "outputs": [],
   "source": [
    "visualize_flower_data(dim_reduced_data2)"
   ]
  },
  {
   "cell_type": "code",
   "execution_count": null,
   "metadata": {},
   "outputs": [],
   "source": [
    "np.random.seed(3)\n",
    "dim_reduced_data = reduce_dimensions(flower_measurements, centralized_data=False)\n",
    "visualize_flower_data(dim_reduced_data)"
   ]
  },
  {
   "cell_type": "code",
   "execution_count": null,
   "metadata": {},
   "outputs": [],
   "source": [
    "variances = [sum(data[:,i].var() for i in range(data.shape[1]))\n",
    "for data in [dim_reduced_data, flower_measurements]]\n",
    "dim_reduced_var, total_var = variances\n",
    "percent_coverege = 100 * dim_reduced_var / total_var\n",
    "print(f\"Our plot covers {percent_coverege:.2f}% of the total variance\")"
   ]
  },
  {
   "cell_type": "code",
   "execution_count": null,
   "metadata": {},
   "outputs": [],
   "source": [
    "from sklearn.decomposition import TruncatedSVD"
   ]
  },
  {
   "cell_type": "code",
   "execution_count": null,
   "metadata": {},
   "outputs": [],
   "source": [
    "svd_object = TruncatedSVD(n_components=2)"
   ]
  },
  {
   "cell_type": "code",
   "execution_count": null,
   "metadata": {},
   "outputs": [],
   "source": [
    "svd_transformed_data = svd_object.fit_transform(flower_measurements)"
   ]
  },
  {
   "cell_type": "code",
   "execution_count": null,
   "metadata": {},
   "outputs": [],
   "source": [
    "visualize_flower_data(svd_transformed_data)"
   ]
  },
  {
   "cell_type": "code",
   "execution_count": null,
   "metadata": {},
   "outputs": [],
   "source": [
    "percent_variance_coverages = 100 * svd_object.explained_variance_ratio_\n",
    "x_axis_coverage, y_axis_coverage = percent_variance_coverages\n",
    "total_2d_coverage = x_axis_coverage + y_axis_coverage\n",
    "print(f\"Our Scikit-Learn SVD output covers {total_2d_coverage:.2f}% of \"\n",
    "\"the total variance\")"
   ]
  },
  {
   "cell_type": "code",
   "execution_count": null,
   "metadata": {},
   "outputs": [],
   "source": []
  }
 ],
 "metadata": {
  "kernelspec": {
   "display_name": "data-science-bootcamp",
   "language": "python",
   "name": "python3"
  },
  "language_info": {
   "codemirror_mode": {
    "name": "ipython",
    "version": 3
   },
   "file_extension": ".py",
   "mimetype": "text/x-python",
   "name": "python",
   "nbconvert_exporter": "python",
   "pygments_lexer": "ipython3",
   "version": "3.12.0"
  }
 },
 "nbformat": 4,
 "nbformat_minor": 2
}
