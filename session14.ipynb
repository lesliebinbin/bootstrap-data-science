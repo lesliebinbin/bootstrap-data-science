{
 "cells": [
  {
   "cell_type": "code",
   "execution_count": null,
   "metadata": {},
   "outputs": [],
   "source": [
    "import numpy as np\n",
    "import pandas as pd\n",
    "import matplotlib.pyplot as plt\n",
    "import seaborn as sns\n",
    "%matplotlib inline"
   ]
  },
  {
   "cell_type": "code",
   "execution_count": null,
   "metadata": {},
   "outputs": [],
   "source": [
    "heights = np.arange(60, 78, .1)"
   ]
  },
  {
   "cell_type": "code",
   "execution_count": null,
   "metadata": {},
   "outputs": [],
   "source": [
    "heights"
   ]
  },
  {
   "cell_type": "code",
   "execution_count": null,
   "metadata": {},
   "outputs": [],
   "source": [
    "heights.size"
   ]
  },
  {
   "cell_type": "code",
   "execution_count": null,
   "metadata": {},
   "outputs": [],
   "source": [
    "np.random.seed(0)\n",
    "random_fluctuation = np.random.normal(scale=10, size=heights.size)\n",
    "weights = 4 * heights - 130 + random_fluctuation"
   ]
  },
  {
   "cell_type": "code",
   "execution_count": null,
   "metadata": {},
   "outputs": [],
   "source": [
    "measurements = np.array([heights, weights]).T"
   ]
  },
  {
   "cell_type": "code",
   "execution_count": null,
   "metadata": {},
   "outputs": [],
   "source": [
    "measurements"
   ]
  },
  {
   "cell_type": "code",
   "execution_count": null,
   "metadata": {},
   "outputs": [],
   "source": [
    "plt.scatter(measurements[:, 0], measurements[:, 1])\n",
    "plt.xlabel('Height (in)')\n",
    "plt.ylabel('Weight (lb)')"
   ]
  },
  {
   "cell_type": "code",
   "execution_count": null,
   "metadata": {},
   "outputs": [],
   "source": [
    "plt.scatter(measurements[:, 0], measurements[:, 1])\n",
    "plt.xlabel('Height (in)')\n",
    "plt.ylabel('Weight (lb)')\n",
    "plt.axis('equal')"
   ]
  },
  {
   "cell_type": "code",
   "execution_count": null,
   "metadata": {},
   "outputs": [],
   "source": [
    "centered_data = np.array([heights - heights.mean(), weights - weights.mean()])"
   ]
  },
  {
   "cell_type": "code",
   "execution_count": null,
   "metadata": {},
   "outputs": [],
   "source": [
    "centered_data.shape"
   ]
  },
  {
   "cell_type": "code",
   "execution_count": null,
   "metadata": {},
   "outputs": [],
   "source": [
    "plt.scatter(centered_data[0], centered_data[1])\n",
    "plt.axhline(0, c='black')\n",
    "plt.axvline(0, c='black')\n",
    "plt.xlabel('Centered Height (in)')\n",
    "plt.ylabel('Centered Weight (lb)')\n",
    "plt.axis('equal')"
   ]
  },
  {
   "cell_type": "code",
   "execution_count": null,
   "metadata": {},
   "outputs": [],
   "source": [
    "from math import sin, cos\n",
    "angle = np.radians(-90)"
   ]
  },
  {
   "cell_type": "code",
   "execution_count": null,
   "metadata": {},
   "outputs": [],
   "source": [
    "rotation_matrix = np.array([[cos(angle), -sin(angle)], [sin(angle), cos(angle)]])"
   ]
  },
  {
   "cell_type": "code",
   "execution_count": null,
   "metadata": {},
   "outputs": [],
   "source": [
    "rotated_data = rotation_matrix @ centered_data"
   ]
  },
  {
   "cell_type": "code",
   "execution_count": null,
   "metadata": {},
   "outputs": [],
   "source": [
    "plt.scatter(centered_data[0], centered_data[1], label='Original Data')\n",
    "plt.scatter(rotated_data[0], rotated_data[1], c='y', label='Rotated Data')\n",
    "plt.axhline(0, c='black')\n",
    "plt.axvline(0, c='black')\n",
    "plt.legend()\n",
    "plt.axis('equal')"
   ]
  },
  {
   "cell_type": "code",
   "execution_count": null,
   "metadata": {},
   "outputs": [],
   "source": [
    "data_labels = ['unrotated', 'rotated']\n",
    "data_list = [centered_data, rotated_data]\n",
    "for data_label, data in zip(data_labels, data_list):\n",
    "    y_values = data[1]\n",
    "    penalty = y_values @ y_values / y_values.size\n",
    "    print(f\"The penalty score for the {data_label} data is {penalty:.2f}\")"
   ]
  },
  {
   "cell_type": "code",
   "execution_count": null,
   "metadata": {},
   "outputs": [],
   "source": [
    "for data_label, data in zip(data_labels, data_list):\n",
    "    y_var = data[1].var()\n",
    "    penalty = data[1] @ data[1] / data[0].size\n",
    "    assert round(y_var, 14) == round(penalty, 14)\n",
    "    print(f\"The y-axis variance for the {data_label} data is {y_var:.2f}\")"
   ]
  },
  {
   "cell_type": "code",
   "execution_count": null,
   "metadata": {},
   "outputs": [],
   "source": [
    "for data_label, data in zip(data_labels, data_list):\n",
    "    x_var = data[0].var()\n",
    "    print(f\"The x-axis variance for the {data_label} data is {x_var:.2f}\")"
   ]
  },
  {
   "cell_type": "code",
   "execution_count": null,
   "metadata": {},
   "outputs": [],
   "source": [
    "total_variance = centered_data[0].var() + centered_data[1].var()\n",
    "assert total_variance == rotated_data[0].var() + rotated_data[1].var()"
   ]
  },
  {
   "cell_type": "code",
   "execution_count": null,
   "metadata": {},
   "outputs": [],
   "source": [
    "for data_label, data in zip(data_labels, data_list):\n",
    "    percent_x_axis_var = 100 * data[0].var() / total_variance\n",
    "    percent_y_axis_var = 100 * data[1].var() / total_variance\n",
    "    print(f\"In the {data_label} data, {percent_x_axis_var:.2f}% of the total variance is distributed across the x-axis\")\n",
    "    print(f\"The remaining {percent_y_axis_var:.2f}% of the total variance is distributed across the y-axis\\n\")"
   ]
  },
  {
   "cell_type": "code",
   "execution_count": null,
   "metadata": {},
   "outputs": [],
   "source": [
    "def rotate(angle, data=centered_data):\n",
    "    angle = np.radians(-angle)\n",
    "    rotation_matrix = np.array([[cos(angle), -sin(angle)], [sin(angle), cos(angle)]])\n",
    "    return rotation_matrix @ data\n",
    "angles = np.arange(1, 180, .1)\n",
    "x_variances = [rotate(angle)[0].var() for angle in angles]\n",
    "percent_x_variances = 100 * np.array(x_variances) / total_variance\n",
    "optimal_index = np.argmax(percent_x_variances)\n",
    "optimal_angle = angles[optimal_index]\n",
    "plt.plot(angles, percent_x_variances)\n",
    "plt.axvline(optimal_angle, c='k')\n",
    "plt.xlabel('Angle (degrees)')\n",
    "plt.ylabel('% x-axis coverage')\n",
    "plt.show()\n",
    "max_coverage = percent_x_variances[optimal_index]\n",
    "max_x_var = x_variances[optimal_index]\n",
    "print(f\"The horizontal variance is maximized to approximately {int(max_x_var)} after a {optimal_angle:.1f} degree rotation.\")\n",
    "print(f\"That rotation distributes {max_coverage:.2f}% of the total variance onto the x-axis.\")"
   ]
  },
  {
   "cell_type": "code",
   "execution_count": null,
   "metadata": {},
   "outputs": [],
   "source": [
    "best_rotated_data = rotate(optimal_angle)\n",
    "plt.scatter(best_rotated_data[0], best_rotated_data[1])\n",
    "plt.axhline(0, c='black')\n",
    "plt.axvline(0, c='black')\n",
    "plt.axis('equal')"
   ]
  },
  {
   "cell_type": "code",
   "execution_count": null,
   "metadata": {},
   "outputs": [],
   "source": [
    "optimal_angle"
   ]
  },
  {
   "cell_type": "code",
   "execution_count": null,
   "metadata": {},
   "outputs": [],
   "source": [
    "x_values = best_rotated_data[0]\n",
    "sorted_x_values = sorted(x_values)\n",
    "cluster_size = int(x_values.size / 3)\n",
    "small_cutoff = max(sorted_x_values[:cluster_size])\n",
    "large_cutoff = min(sorted_x_values[-cluster_size:])\n",
    "print(f\"A 1D threshold of {small_cutoff:.2f} separates the small-sized \"\n",
    "\"and medium-sized customers.\")\n",
    "print(f\"A 1D threshold of {large_cutoff:.2f} separates the medium-sized \"\n",
    "\"and large-sized customers.\")"
   ]
  },
  {
   "cell_type": "code",
   "execution_count": null,
   "metadata": {},
   "outputs": [],
   "source": [
    "def plot_customer_segments(horizontal_2d_data):\n",
    "    small, medium, large = [], [], []\n",
    "    cluster_labels = ['Small', 'Medium', 'Large']\n",
    "    for x_value, y_value in horizontal_2d_data.T:\n",
    "        if x_value <= small_cutoff:\n",
    "            small.append([x_value, y_value])\n",
    "        elif small_cutoff < x_value < large_cutoff:\n",
    "            medium.append([x_value, y_value])\n",
    "        else:\n",
    "            large.append([x_value, y_value])\n",
    "    for i, cluster in enumerate([small, medium, large]):\n",
    "        cluster_x_values, cluster_y_values = np.array(cluster).T\n",
    "        plt.scatter(cluster_x_values, cluster_y_values, color=['g', 'b', 'y'][i], label=cluster_labels[i])\n",
    "    plt.axhline(0, c='black')\n",
    "    plt.axvline(large_cutoff, c='black', linewidth=3, linestyle='--')\n",
    "    plt.axvline(small_cutoff, c='black', linewidth=3, linestyle='--')\n",
    "    plt.axis('equal')\n",
    "    plt.legend()"
   ]
  },
  {
   "cell_type": "code",
   "execution_count": null,
   "metadata": {},
   "outputs": [],
   "source": [
    "plot_customer_segments(best_rotated_data)"
   ]
  },
  {
   "cell_type": "code",
   "execution_count": null,
   "metadata": {},
   "outputs": [],
   "source": [
    "zero_y_values = np.zeros(x_values.size)"
   ]
  },
  {
   "cell_type": "code",
   "execution_count": null,
   "metadata": {},
   "outputs": [],
   "source": [
    "reproduced_data = rotate(-optimal_angle, np.array([x_values, zero_y_values]))"
   ]
  },
  {
   "cell_type": "code",
   "execution_count": null,
   "metadata": {},
   "outputs": [],
   "source": [
    "plt.plot(reproduced_data[0], reproduced_data[1], c='k',\n",
    "label='Reproduced Data')\n",
    "plt.scatter(centered_data[0], centered_data[1], c='y',\n",
    "label='Original Data')\n",
    "plt.axis('equal')\n",
    "plt.legend()"
   ]
  },
  {
   "cell_type": "code",
   "execution_count": null,
   "metadata": {},
   "outputs": [],
   "source": [
    "np.random.seed(1)\n",
    "new_heights = np.arange(60, 78, .11)\n",
    "random_fluctuations = np.random.normal(scale=10, size=new_heights.size)\n",
    "new_weights = 4 * new_heights - 130 + random_fluctuations\n",
    "new_centered_data = np.array([new_heights - heights.mean(),\n",
    "new_weights - weights.mean()])\n",
    "plt.scatter(new_centered_data[0], new_centered_data[1], c='y',\n",
    "label='New Customer Data')\n",
    "plt.plot(reproduced_data[0], reproduced_data[1], c='k',\n",
    "label='First Principal Direction')\n",
    "plt.xlabel('Centralized Height (in)')\n",
    "plt.ylabel('Centralized Weight (lb)')\n",
    "plt.axis('equal')\n",
    "plt.legend()"
   ]
  },
  {
   "cell_type": "code",
   "execution_count": null,
   "metadata": {},
   "outputs": [],
   "source": [
    "new_horizontal_data = rotate(optimal_angle, data=new_centered_data)\n",
    "plot_customer_segments(new_horizontal_data)"
   ]
  },
  {
   "cell_type": "code",
   "execution_count": null,
   "metadata": {},
   "outputs": [],
   "source": []
  }
 ],
 "metadata": {
  "kernelspec": {
   "display_name": "data-science-bootcamp",
   "language": "python",
   "name": "python3"
  },
  "language_info": {
   "codemirror_mode": {
    "name": "ipython",
    "version": 3
   },
   "file_extension": ".py",
   "mimetype": "text/x-python",
   "name": "python",
   "nbconvert_exporter": "python",
   "pygments_lexer": "ipython3",
   "version": "3.12.4"
  }
 },
 "nbformat": 4,
 "nbformat_minor": 2
}
