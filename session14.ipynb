{
 "cells": [
  {
   "cell_type": "code",
   "execution_count": null,
   "metadata": {},
   "outputs": [],
   "source": [
    "import numpy as np\n",
    "import pandas as pd\n",
    "import matplotlib.pyplot as plt\n",
    "import seaborn as sns\n",
    "%matplotlib inline"
   ]
  },
  {
   "cell_type": "code",
   "execution_count": null,
   "metadata": {},
   "outputs": [],
   "source": [
    "heights = np.arange(60, 78, .1)"
   ]
  },
  {
   "cell_type": "code",
   "execution_count": null,
   "metadata": {},
   "outputs": [],
   "source": [
    "heights"
   ]
  },
  {
   "cell_type": "code",
   "execution_count": null,
   "metadata": {},
   "outputs": [],
   "source": [
    "heights.size"
   ]
  },
  {
   "cell_type": "code",
   "execution_count": null,
   "metadata": {},
   "outputs": [],
   "source": [
    "np.random.seed(0)\n",
    "random_fluctuation = np.random.normal(scale=10, size=heights.size)\n",
    "weights = 4 * heights - 130 + random_fluctuation"
   ]
  },
  {
   "cell_type": "code",
   "execution_count": null,
   "metadata": {},
   "outputs": [],
   "source": [
    "measurements = np.array([heights, weights]).T"
   ]
  },
  {
   "cell_type": "code",
   "execution_count": null,
   "metadata": {},
   "outputs": [],
   "source": [
    "measurements"
   ]
  },
  {
   "cell_type": "code",
   "execution_count": null,
   "metadata": {},
   "outputs": [],
   "source": [
    "plt.scatter(measurements[:, 0], measurements[:, 1])\n",
    "plt.xlabel('Height (in)')\n",
    "plt.ylabel('Weight (lb)')"
   ]
  },
  {
   "cell_type": "code",
   "execution_count": null,
   "metadata": {},
   "outputs": [],
   "source": [
    "plt.scatter(measurements[:, 0], measurements[:, 1])\n",
    "plt.xlabel('Height (in)')\n",
    "plt.ylabel('Weight (lb)')\n",
    "plt.axis('equal')"
   ]
  },
  {
   "cell_type": "code",
   "execution_count": null,
   "metadata": {},
   "outputs": [],
   "source": [
    "centered_data = np.array([heights - heights.mean(), weights - weights.mean()])"
   ]
  },
  {
   "cell_type": "code",
   "execution_count": null,
   "metadata": {},
   "outputs": [],
   "source": [
    "centered_data.shape"
   ]
  },
  {
   "cell_type": "code",
   "execution_count": null,
   "metadata": {},
   "outputs": [],
   "source": [
    "plt.scatter(centered_data[0], centered_data[1])\n",
    "plt.axhline(0, c='black')\n",
    "plt.axvline(0, c='black')\n",
    "plt.xlabel('Centered Height (in)')\n",
    "plt.ylabel('Centered Weight (lb)')\n",
    "plt.axis('equal')"
   ]
  },
  {
   "cell_type": "code",
   "execution_count": null,
   "metadata": {},
   "outputs": [],
   "source": [
    "from math import sin, cos\n",
    "angle = np.radians(-90)"
   ]
  },
  {
   "cell_type": "code",
   "execution_count": null,
   "metadata": {},
   "outputs": [],
   "source": [
    "rotation_matrix = np.array([[cos(angle), -sin(angle)], [sin(angle), cos(angle)]])"
   ]
  },
  {
   "cell_type": "code",
   "execution_count": null,
   "metadata": {},
   "outputs": [],
   "source": [
    "rotated_data = rotation_matrix @ centered_data"
   ]
  },
  {
   "cell_type": "code",
   "execution_count": null,
   "metadata": {},
   "outputs": [],
   "source": [
    "plt.scatter(centered_data[0], centered_data[1], label='Original Data')\n",
    "plt.scatter(rotated_data[0], rotated_data[1], c='y', label='Rotated Data')\n",
    "plt.axhline(0, c='black')\n",
    "plt.axvline(0, c='black')\n",
    "plt.legend()\n",
    "plt.axis('equal')"
   ]
  },
  {
   "cell_type": "code",
   "execution_count": null,
   "metadata": {},
   "outputs": [],
   "source": [
    "data_labels = ['unrotated', 'rotated']\n",
    "data_list = [centered_data, rotated_data]\n",
    "for data_label, data in zip(data_labels, data_list):\n",
    "    y_values = data[1]\n",
    "    penalty = y_values @ y_values / y_values.size\n",
    "    print(f\"The penalty score for the {data_label} data is {penalty:.2f}\")"
   ]
  },
  {
   "cell_type": "code",
   "execution_count": null,
   "metadata": {},
   "outputs": [],
   "source": [
    "for data_label, data in zip(data_labels, data_list):\n",
    "    y_var = data[1].var()\n",
    "    penalty = data[1] @ data[1] / data[0].size\n",
    "    assert round(y_var, 14) == round(penalty, 14)\n",
    "    print(f\"The y-axis variance for the {data_label} data is {y_var:.2f}\")"
   ]
  },
  {
   "cell_type": "code",
   "execution_count": null,
   "metadata": {},
   "outputs": [],
   "source": [
    "for data_label, data in zip(data_labels, data_list):\n",
    "    x_var = data[0].var()\n",
    "    print(f\"The x-axis variance for the {data_label} data is {x_var:.2f}\")"
   ]
  },
  {
   "cell_type": "code",
   "execution_count": null,
   "metadata": {},
   "outputs": [],
   "source": [
    "total_variance = centered_data[0].var() + centered_data[1].var()\n",
    "assert total_variance == rotated_data[0].var() + rotated_data[1].var()"
   ]
  },
  {
   "cell_type": "code",
   "execution_count": null,
   "metadata": {},
   "outputs": [],
   "source": [
    "for data_label, data in zip(data_labels, data_list):\n",
    "    percent_x_axis_var = 100 * data[0].var() / total_variance\n",
    "    percent_y_axis_var = 100 * data[1].var() / total_variance\n",
    "    print(f\"In the {data_label} data, {percent_x_axis_var:.2f}% of the total variance is distributed across the x-axis\")\n",
    "    print(f\"The remaining {percent_y_axis_var:.2f}% of the total variance is distributed across the y-axis\\n\")"
   ]
  },
  {
   "cell_type": "code",
   "execution_count": null,
   "metadata": {},
   "outputs": [],
   "source": []
  }
 ],
 "metadata": {
  "kernelspec": {
   "display_name": "data-science-bootcamp",
   "language": "python",
   "name": "python3"
  },
  "language_info": {
   "codemirror_mode": {
    "name": "ipython",
    "version": 3
   },
   "file_extension": ".py",
   "mimetype": "text/x-python",
   "name": "python",
   "nbconvert_exporter": "python",
   "pygments_lexer": "ipython3",
   "version": "3.12.4"
  }
 },
 "nbformat": 4,
 "nbformat_minor": 2
}
