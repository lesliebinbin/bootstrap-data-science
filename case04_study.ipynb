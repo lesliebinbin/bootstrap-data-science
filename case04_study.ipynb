{
 "cells": [
  {
   "cell_type": "code",
   "execution_count": 1,
   "metadata": {},
   "outputs": [],
   "source": [
    "%matplotlib inline"
   ]
  },
  {
   "cell_type": "code",
   "execution_count": 2,
   "metadata": {},
   "outputs": [],
   "source": [
    "import numpy as np\n",
    "import pandas as pd\n",
    "import matplotlib.pyplot as plt"
   ]
  },
  {
   "cell_type": "code",
   "execution_count": 3,
   "metadata": {},
   "outputs": [],
   "source": [
    "text1 = 'She sells seashells by the seashore.'\n",
    "text2 = '\"Seashells! The seashells are on sale! By the seashore.\"'\n",
    "text3 = 'She sells 3 seashells to John, who lives by the lake.'"
   ]
  },
  {
   "cell_type": "code",
   "execution_count": 4,
   "metadata": {},
   "outputs": [
    {
     "name": "stdout",
     "output_type": "stream",
     "text": [
      "Words in text 1\n",
      "['She', 'sells', 'seashells', 'by', 'the', 'seashore.']\n",
      "\n",
      "Words in text 2\n",
      "['\"Seashells!', 'The', 'seashells', 'are', 'on', 'sale!', 'By', 'the', 'seashore.\"']\n",
      "\n",
      "Words in text 3\n",
      "['She', 'sells', '3', 'seashells', 'to', 'John,', 'who', 'lives', 'by', 'the', 'lake.']\n",
      "\n"
     ]
    }
   ],
   "source": [
    "words_lists = [text.split() for text in [text1, text2, text3]]\n",
    "words1, words2, words3 = words_lists\n",
    "for i, words in enumerate(words_lists, 1):\n",
    "    print(f\"Words in text {i}\")\n",
    "    print(f\"{words}\\n\")"
   ]
  },
  {
   "cell_type": "code",
   "execution_count": 5,
   "metadata": {},
   "outputs": [
    {
     "name": "stdout",
     "output_type": "stream",
     "text": [
      "Words in text 1\n",
      "['she', 'sells', 'seashells', 'by', 'the', 'seashore.']\n",
      "\n",
      "Words in text 1\n",
      "['she', 'sells', 'seashells', 'by', 'the', 'seashore.']\n",
      "\n",
      "Words in text 1\n",
      "['she', 'sells', 'seashells', 'by', 'the', 'seashore.']\n",
      "\n",
      "Words in text 1\n",
      "['she', 'sells', 'seashells', 'by', 'the', 'seashore.']\n",
      "\n",
      "Words in text 1\n",
      "['she', 'sells', 'seashells', 'by', 'the', 'seashore.']\n",
      "\n",
      "Words in text 1\n",
      "['she', 'sells', 'seashells', 'by', 'the', 'seashore']\n",
      "\n",
      "Words in text 2\n",
      "['seashells', 'The', 'seashells', 'are', 'on', 'sale!', 'By', 'the', 'seashore.\"']\n",
      "\n",
      "Words in text 2\n",
      "['seashells', 'the', 'seashells', 'are', 'on', 'sale!', 'By', 'the', 'seashore.\"']\n",
      "\n",
      "Words in text 2\n",
      "['seashells', 'the', 'seashells', 'are', 'on', 'sale!', 'By', 'the', 'seashore.\"']\n",
      "\n",
      "Words in text 2\n",
      "['seashells', 'the', 'seashells', 'are', 'on', 'sale!', 'By', 'the', 'seashore.\"']\n",
      "\n",
      "Words in text 2\n",
      "['seashells', 'the', 'seashells', 'are', 'on', 'sale!', 'By', 'the', 'seashore.\"']\n",
      "\n",
      "Words in text 2\n",
      "['seashells', 'the', 'seashells', 'are', 'on', 'sale', 'By', 'the', 'seashore.\"']\n",
      "\n",
      "Words in text 2\n",
      "['seashells', 'the', 'seashells', 'are', 'on', 'sale', 'by', 'the', 'seashore.\"']\n",
      "\n",
      "Words in text 2\n",
      "['seashells', 'the', 'seashells', 'are', 'on', 'sale', 'by', 'the', 'seashore.\"']\n",
      "\n",
      "Words in text 2\n",
      "['seashells', 'the', 'seashells', 'are', 'on', 'sale', 'by', 'the', 'seashore']\n",
      "\n",
      "Words in text 3\n",
      "['she', 'sells', '3', 'seashells', 'to', 'John,', 'who', 'lives', 'by', 'the', 'lake.']\n",
      "\n",
      "Words in text 3\n",
      "['she', 'sells', '3', 'seashells', 'to', 'John,', 'who', 'lives', 'by', 'the', 'lake.']\n",
      "\n",
      "Words in text 3\n",
      "['she', 'sells', '3', 'seashells', 'to', 'John,', 'who', 'lives', 'by', 'the', 'lake.']\n",
      "\n",
      "Words in text 3\n",
      "['she', 'sells', '3', 'seashells', 'to', 'John,', 'who', 'lives', 'by', 'the', 'lake.']\n",
      "\n",
      "Words in text 3\n",
      "['she', 'sells', '3', 'seashells', 'to', 'John,', 'who', 'lives', 'by', 'the', 'lake.']\n",
      "\n",
      "Words in text 3\n",
      "['she', 'sells', '3', 'seashells', 'to', 'john', 'who', 'lives', 'by', 'the', 'lake.']\n",
      "\n",
      "Words in text 3\n",
      "['she', 'sells', '3', 'seashells', 'to', 'john', 'who', 'lives', 'by', 'the', 'lake.']\n",
      "\n",
      "Words in text 3\n",
      "['she', 'sells', '3', 'seashells', 'to', 'john', 'who', 'lives', 'by', 'the', 'lake.']\n",
      "\n",
      "Words in text 3\n",
      "['she', 'sells', '3', 'seashells', 'to', 'john', 'who', 'lives', 'by', 'the', 'lake.']\n",
      "\n",
      "Words in text 3\n",
      "['she', 'sells', '3', 'seashells', 'to', 'john', 'who', 'lives', 'by', 'the', 'lake.']\n",
      "\n",
      "Words in text 3\n",
      "['she', 'sells', '3', 'seashells', 'to', 'john', 'who', 'lives', 'by', 'the', 'lake']\n",
      "\n"
     ]
    }
   ],
   "source": [
    "def simplify_text(text):\n",
    "    for punctuation in ['.', ',', '!', '?', '\"']:\n",
    "        text = text.replace(punctuation, '')\n",
    "    return text.lower()\n",
    "for i, words in enumerate(words_lists, 1):\n",
    "    for j, word in enumerate(words):\n",
    "        words[j] = simplify_text(word)\n",
    "        print(f\"Words in text {i}\")\n",
    "        print(f\"{words}\\n\")"
   ]
  },
  {
   "cell_type": "code",
   "execution_count": 6,
   "metadata": {},
   "outputs": [
    {
     "name": "stdout",
     "output_type": "stream",
     "text": [
      "Unique Words in text 1\n",
      "{'she', 'sells', 'the', 'by', 'seashells', 'seashore'}\n",
      "\n",
      "Unique Words in text 2\n",
      "{'are', 'on', 'the', 'by', 'sale', 'seashells', 'seashore'}\n",
      "\n",
      "Unique Words in text 3\n",
      "{'3', 'to', 'she', 'sells', 'lives', 'who', 'the', 'lake', 'by', 'seashells', 'john'}\n",
      "\n"
     ]
    }
   ],
   "source": [
    "words_sets = [set(words) for words in words_lists]\n",
    "for i, unique_words in enumerate(words_sets, 1):\n",
    "    print(f\"Unique Words in text {i}\")\n",
    "    print(f\"{unique_words}\\n\")"
   ]
  },
  {
   "cell_type": "code",
   "execution_count": 7,
   "metadata": {},
   "outputs": [
    {
     "name": "stdout",
     "output_type": "stream",
     "text": [
      "Texts 1 and 2 share these 4 words:\n",
      "{'the', 'seashells', 'by', 'seashore'}\n",
      "\n",
      "Texts 1 and 3 share these 5 words:\n",
      "{'she', 'sells', 'the', 'by', 'seashells'}\n",
      "\n"
     ]
    }
   ],
   "source": [
    "words_set1 = words_sets[0]\n",
    "for i, words in enumerate(words_sets[1:], 2):\n",
    "    shared_words = words_set1.intersection(words)\n",
    "    print(f\"Texts 1 and {i} share these {len(shared_words)} words:\")\n",
    "    print(f\"{shared_words}\\n\")"
   ]
  },
  {
   "cell_type": "code",
   "execution_count": 8,
   "metadata": {},
   "outputs": [
    {
     "name": "stdout",
     "output_type": "stream",
     "text": [
      "Texts 1 and 2 don't share these 5 words:\n",
      "{'she', 'sells', 'sale', 'are', 'on'}\n",
      "\n",
      "Texts 1 and 3 don't share these 7 words:\n",
      "{'3', 'to', 'lives', 'who', 'lake', 'john', 'seashore'}\n",
      "\n"
     ]
    }
   ],
   "source": [
    "for i, words_set in enumerate(words_sets[1:], 2):\n",
    "    diverging_words = words_set1 ^ words_set\n",
    "    print(f\"Texts 1 and {i} don't share these {len(diverging_words)} words:\")\n",
    "    print(f\"{diverging_words}\\n\")"
   ]
  },
  {
   "cell_type": "code",
   "execution_count": 9,
   "metadata": {},
   "outputs": [
    {
     "name": "stdout",
     "output_type": "stream",
     "text": [
      "Together, texts 1 and 2 contain 9 nique words. These words are:\n",
      " {'are', 'on', 'she', 'sells', 'the', 'by', 'sale', 'seashells', 'seashore'}\n",
      "\n",
      "Together, texts 1 and 3 contain 12 nique words. These words are:\n",
      " {'she', 'sells', 'lives', 'who', 'the', 'seashells', '3', 'to', 'lake', 'by', 'john', 'seashore'}\n",
      "\n"
     ]
    }
   ],
   "source": [
    "for i, words_set in enumerate(words_sets[1:], 2):\n",
    "    total_words = words_set1 | words_set\n",
    "    print(f\"Together, texts 1 and {i} contain {len(total_words)} nique words. These words are:\\n {total_words}\\n\")"
   ]
  },
  {
   "cell_type": "code",
   "execution_count": 10,
   "metadata": {},
   "outputs": [
    {
     "name": "stdout",
     "output_type": "stream",
     "text": [
      "Together, texts 1 and 2 contain 9 unique words. \n",
      "44.44% of these words are shared. \n",
      "55.56% of these words diverge.\n",
      "\n",
      "Together, texts 1 and 3 contain 12 unique words. \n",
      "41.67% of these words are shared. \n",
      "58.33% of these words diverge.\n",
      "\n"
     ]
    }
   ],
   "source": [
    "for i, words_set in enumerate(words_sets[1:], 2):\n",
    "    shared_words = words_set1 & words_set\n",
    "    diverging_words = words_set1 ^ words_set\n",
    "    total_words = words_set1 | words_set\n",
    "    assert len(total_words) == len(shared_words) + len(diverging_words)\n",
    "    percent_shared = 100 * len(shared_words) / len(total_words)\n",
    "    percent_diverging = 100 * len(diverging_words) / len(total_words)\n",
    "    print(f\"Together, texts 1 and {i} contain {len(total_words)} \"\n",
    "f\"unique words. \\n{percent_shared:.2f}% of these words are \"\n",
    "f\"shared. \\n{percent_diverging:.2f}% of these words diverge.\\n\")"
   ]
  },
  {
   "cell_type": "code",
   "execution_count": 11,
   "metadata": {},
   "outputs": [
    {
     "name": "stdout",
     "output_type": "stream",
     "text": [
      "The Jaccard similarity between 'She sells seashells by the seashore.' and '\"Seashells! The seashells are on sale! By the seashore.\"' equals 0.4444.\n",
      "\n",
      "The Jaccard similarity between 'She sells seashells by the seashore.' and 'She sells 3 seashells to John, who lives by the lake.' equals 0.4167.\n",
      "\n"
     ]
    }
   ],
   "source": [
    "def jaccard_similarity(text_a, text_b):\n",
    "    word_set_a, word_set_b = [set(simplify_text(text).split()) for text in [text_a, text_b]]\n",
    "    num_shared = len(word_set_a & word_set_b)\n",
    "    num_total = len(word_set_a | word_set_b)\n",
    "    return num_shared / num_total\n",
    "for text in [text2, text3]:\n",
    "    similarity = jaccard_similarity(text1, text)\n",
    "    print(f\"The Jaccard similarity between '{text1}' and '{text}' \"\n",
    "    f\"equals {similarity:.4f}.\" \"\\n\")"
   ]
  },
  {
   "cell_type": "code",
   "execution_count": 12,
   "metadata": {},
   "outputs": [],
   "source": [
    "def jaccard_similarity_efficient(text_a, text_b):\n",
    "    word_set_a, word_set_b = [set(simplify_text(text).split()) for text in [text_a, text_b]]\n",
    "    num_shared = len(word_set_a & word_set_b)\n",
    "    num_total = len(word_set_a) + len(word_set_b) - num_shared\n",
    "    return num_shared / num_total\n",
    "for text in [text2, text3]:\n",
    "    similarity = jaccard_similarity_efficient(text1, text)\n",
    "    assert similarity == jaccard_similarity(text1, text)"
   ]
  },
  {
   "cell_type": "code",
   "execution_count": 13,
   "metadata": {},
   "outputs": [
    {
     "name": "stdout",
     "output_type": "stream",
     "text": [
      "Our vocabulary contains 15 words. This vocabulary is:\n",
      "{'she': 0, 'sells': 1, 'lives': 2, 'who': 3, 'the': 4, 'sale': 5, 'seashells': 6, 'are': 7, '3': 8, 'to': 9, 'lake': 10, 'by': 11, 'on': 12, 'john': 13, 'seashore': 14}\n"
     ]
    }
   ],
   "source": [
    "words_set1, words_set2, words_set3 = words_sets\n",
    "total_words = words_set1 | words_set2 | words_set3\n",
    "vocabulary = {word : i for i, word in enumerate(total_words)}\n",
    "value_to_word = {value: word for word, value in vocabulary.items()}\n",
    "print(f\"Our vocabulary contains {len(vocabulary)} words. \"\n",
    "f\"This vocabulary is:\\n{vocabulary}\")"
   ]
  },
  {
   "cell_type": "code",
   "execution_count": 14,
   "metadata": {},
   "outputs": [],
   "source": [
    "import seaborn as sns"
   ]
  },
  {
   "cell_type": "code",
   "execution_count": 15,
   "metadata": {},
   "outputs": [],
   "source": [
    "vectors = []\n",
    "for i, words_set in enumerate(words_sets, 1):\n",
    "    vector = np.array([0] * len(vocabulary))\n",
    "    for word in words_set:\n",
    "        vector[vocabulary[word]] = 1\n",
    "    vectors.append(vector)"
   ]
  },
  {
   "cell_type": "code",
   "execution_count": 16,
   "metadata": {},
   "outputs": [
    {
     "data": {
      "text/plain": [
       "[array([1, 1, 0, 0, 1, 0, 1, 0, 0, 0, 0, 1, 0, 0, 1]),\n",
       " array([0, 0, 0, 0, 1, 1, 1, 1, 0, 0, 0, 1, 1, 0, 1]),\n",
       " array([1, 1, 1, 1, 1, 0, 1, 0, 1, 1, 1, 1, 0, 1, 0])]"
      ]
     },
     "execution_count": 16,
     "metadata": {},
     "output_type": "execute_result"
    }
   ],
   "source": [
    "vectors"
   ]
  },
  {
   "cell_type": "code",
   "execution_count": 17,
   "metadata": {},
   "outputs": [
    {
     "data": {
      "text/plain": [
       "(array([0.5, 1.5, 2.5]),\n",
       " [Text(0, 0.5, 'Text 1'), Text(0, 1.5, 'Text 2'), Text(0, 2.5, 'Text 3')])"
      ]
     },
     "execution_count": 17,
     "metadata": {},
     "output_type": "execute_result"
    },
    {
     "data": {
      "image/png": "[encoded data removed]",
      "text/plain": [
       "<Figure size 640x480 with 2 Axes>"
      ]
     },
     "metadata": {},
     "output_type": "display_data"
    }
   ],
   "source": [
    "sns.heatmap(vectors, annot=True, cmap='YlGnBu', xticklabels=vocabulary.keys(), yticklabels=['Text 1', 'Text 2', 'Text 3'])\n",
    "plt.yticks(rotation=0)"
   ]
  },
  {
   "cell_type": "code",
   "execution_count": 18,
   "metadata": {},
   "outputs": [
    {
     "name": "stdout",
     "output_type": "stream",
     "text": [
      "'the' is present in both texts 1 and 2\n",
      "'seashells' is present in both texts 1 and 2\n",
      "'by' is present in both texts 1 and 2\n",
      "'seashore' is present in both texts 1 and 2\n"
     ]
    }
   ],
   "source": [
    "vector1, vector2 = vectors[:2]\n",
    "for i in range(len(vocabulary)):\n",
    "    if vector1[i] * vector2[i]:\n",
    "        shared_word = value_to_word[i]\n",
    "        print(f\"'{shared_word}' is present in both texts 1 and 2\")"
   ]
  },
  {
   "cell_type": "code",
   "execution_count": 19,
   "metadata": {},
   "outputs": [],
   "source": [
    "shared_word_count = sum(vector1[i] * vector2[i] for i in range(len(vocabulary)))\n",
    "assert shared_word_count == len(words_set1 & words_set2)"
   ]
  },
  {
   "cell_type": "code",
   "execution_count": 20,
   "metadata": {},
   "outputs": [],
   "source": [
    "assert vector1.dot(vector2) == shared_word_count"
   ]
  },
  {
   "cell_type": "code",
   "execution_count": 21,
   "metadata": {},
   "outputs": [],
   "source": [
    "assert vector1 @ vector2 == shared_word_count"
   ]
  },
  {
   "cell_type": "code",
   "execution_count": 22,
   "metadata": {},
   "outputs": [],
   "source": [
    "def tanimoto_similarity(vector_a, vector_b):\n",
    "    num_shared = vector_a @ vector_b\n",
    "    num_total = vector_a @ vector_a + vector_b @ vector_b - num_shared\n",
    "    return num_shared / num_total\n",
    "for i, text in enumerate([text2, text3], 1):\n",
    "    similarity = tanimoto_similarity(vector1, vectors[i])\n",
    "    assert similarity == jaccard_similarity(text1, text)"
   ]
  },
  {
   "cell_type": "code",
   "execution_count": 23,
   "metadata": {},
   "outputs": [],
   "source": [
    "similarity = tanimoto_similarity(np.array([61, 2]), np.array([1, 71]))"
   ]
  },
  {
   "cell_type": "code",
   "execution_count": 24,
   "metadata": {},
   "outputs": [
    {
     "data": {
      "text/plain": [
       "'The similarity between texts is approximately 0.024'"
      ]
     },
     "execution_count": 24,
     "metadata": {},
     "output_type": "execute_result"
    }
   ],
   "source": [
    "f\"The similarity between texts is approximately {similarity:.3f}\""
   ]
  },
  {
   "cell_type": "code",
   "execution_count": 25,
   "metadata": {},
   "outputs": [],
   "source": [
    "tf_vectors = []"
   ]
  },
  {
   "cell_type": "code",
   "execution_count": 26,
   "metadata": {},
   "outputs": [],
   "source": [
    "for i, words_list in enumerate(words_lists, 1):\n",
    "    tf_vector = np.array([0]*len(vocabulary))\n",
    "    for word in words_list:\n",
    "        word_index = vocabulary[word]\n",
    "        tf_vector[word_index]+=1\n",
    "    tf_vectors.append(tf_vector)"
   ]
  },
  {
   "cell_type": "code",
   "execution_count": 27,
   "metadata": {},
   "outputs": [
    {
     "data": {
      "text/plain": [
       "(array([0.5, 1.5, 2.5]),\n",
       " [Text(0, 0.5, 'Text 1'), Text(0, 1.5, 'Text 2'), Text(0, 2.5, 'Text 3')])"
      ]
     },
     "execution_count": 27,
     "metadata": {},
     "output_type": "execute_result"
    },
    {
     "data": {
      "image/png": "[encoded data removed]",
      "text/plain": [
       "<Figure size 640x480 with 2 Axes>"
      ]
     },
     "metadata": {},
     "output_type": "display_data"
    }
   ],
   "source": [
    "sns.heatmap(tf_vectors, annot=True, cmap='YlGnBu', xticklabels=vocabulary.keys(), yticklabels=['Text 1', 'Text 2', 'Text 3'])\n",
    "plt.yticks(rotation=0)"
   ]
  },
  {
   "cell_type": "code",
   "execution_count": 28,
   "metadata": {},
   "outputs": [
    {
     "name": "stdout",
     "output_type": "stream",
     "text": [
      "The recomputed Tanimoto similarity between texts 1 and 2 is 0.4615.\n",
      "Previously, that similarity equaled 0.4444 \n",
      "\n",
      "The recomputed Tanimoto similarity between texts 1 and 3 is 0.4167.\n",
      "Previously, that similarity equaled 0.4167 \n",
      "\n"
     ]
    }
   ],
   "source": [
    "tf_vector1 = tf_vectors[0]\n",
    "binary_vector1 = vectors[0]\n",
    "for i, tf_vector in enumerate(tf_vectors[1:], 2):\n",
    "    similarity = tanimoto_similarity(tf_vector1, tf_vector)\n",
    "    old_similarity = tanimoto_similarity(binary_vector1, vectors[i - 1])\n",
    "    print(f\"The recomputed Tanimoto similarity between texts 1 and {i} is\"\n",
    "    f\" {similarity:.4f}.\")\n",
    "    print(f\"Previously, that similarity equaled {old_similarity:.4f} \" \"\\n\")"
   ]
  },
  {
   "cell_type": "code",
   "execution_count": 29,
   "metadata": {},
   "outputs": [],
   "source": [
    "query_vector = np.array([1, 1])"
   ]
  },
  {
   "cell_type": "code",
   "execution_count": 30,
   "metadata": {},
   "outputs": [],
   "source": [
    "title_a_vector = np.array([3,3])\n",
    "title_b_vector = np.array([1,0])"
   ]
  },
  {
   "cell_type": "code",
   "execution_count": 31,
   "metadata": {},
   "outputs": [],
   "source": [
    "titles = [\"A: Pepperoni Pizza! Pepperoni Pizza! Pepperoni Pizza!\", \"B: Pepperoni\"]\n",
    "title_vectors = [title_a_vector, title_b_vector]"
   ]
  },
  {
   "cell_type": "code",
   "execution_count": 32,
   "metadata": {},
   "outputs": [],
   "source": [
    "similarities = [tanimoto_similarity(query_vector, title_vector) for title_vector in title_vectors]"
   ]
  },
  {
   "cell_type": "code",
   "execution_count": 33,
   "metadata": {},
   "outputs": [
    {
     "name": "stdout",
     "output_type": "stream",
     "text": [
      "'B: Pepperoni' has a query similarity of 0.5000\n",
      "'A: Pepperoni Pizza! Pepperoni Pizza! Pepperoni Pizza!' has a query similarity of 0.4286\n"
     ]
    }
   ],
   "source": [
    "for index in sorted(range(len(titles)), key=lambda i: similarities[i], reverse=True):\n",
    "    title = titles[index]\n",
    "    similarity = similarities[index]\n",
    "    print(f\"'{title}' has a query similarity of {similarity:.4f}\")"
   ]
  },
  {
   "cell_type": "code",
   "execution_count": 34,
   "metadata": {},
   "outputs": [],
   "source": [
    "assert np.array_equal(query_vector, title_a_vector / 3)\n",
    "assert tanimoto_similarity(query_vector, title_a_vector / 3) == 1"
   ]
  },
  {
   "cell_type": "code",
   "execution_count": 35,
   "metadata": {},
   "outputs": [
    {
     "data": {
      "text/plain": [
       "Text(0, 0.5, 'Pizza')"
      ]
     },
     "execution_count": 35,
     "metadata": {},
     "output_type": "execute_result"
    },
    {
     "data": {
      "image/png": "[encoded data removed]",
      "text/plain": [
       "<Figure size 640x480 with 1 Axes>"
      ]
     },
     "metadata": {},
     "output_type": "display_data"
    }
   ],
   "source": [
    "plt.plot([0, query_vector[0]], [0, query_vector[1]], label='Query Vector', linewidth=3, c='k')\n",
    "plt.plot([0, title_a_vector[0]], [0, title_a_vector[1]], label='Title A Vector', linestyle='--', c='b')\n",
    "plt.plot([0, title_b_vector[0]], [0, title_b_vector[1]], label='Title B Vector', linestyle='-.', c='g')\n",
    "plt.legend()\n",
    "plt.xlabel('Pepperoni')\n",
    "plt.ylabel('Pizza')"
   ]
  },
  {
   "cell_type": "code",
   "execution_count": 36,
   "metadata": {},
   "outputs": [],
   "source": [
    "from scipy.spatial.distance import euclidean\n",
    "from numpy.linalg import norm"
   ]
  },
  {
   "cell_type": "code",
   "execution_count": 37,
   "metadata": {},
   "outputs": [],
   "source": [
    "vector_names = ['Query Vector', 'Title A Vector', 'Title B Vector']\n",
    "tf_search_vectors = [query_vector, title_a_vector, title_b_vector]\n",
    "origin = np.array([0, 0])"
   ]
  },
  {
   "cell_type": "code",
   "execution_count": 38,
   "metadata": {},
   "outputs": [
    {
     "name": "stdout",
     "output_type": "stream",
     "text": [
      "Query Vector's magnitude is approximately 1.4142\n",
      "Title A Vector's magnitude is approximately 4.2426\n",
      "Title B Vector's magnitude is approximately 1.0000\n",
      "\n",
      "Vector A is 3x as long as Query Vector\n"
     ]
    }
   ],
   "source": [
    "for name, tf_vector in zip(vector_names, tf_search_vectors):\n",
    "    magnitude = euclidean(tf_vector, origin)\n",
    "    assert magnitude == norm(tf_vector)\n",
    "    assert magnitude == (tf_vector @ tf_vector) ** .5\n",
    "    print(f\"{name}'s magnitude is approximately {magnitude:.4f}\")\n",
    "magnitude_ratio = norm(title_a_vector) / norm(query_vector)\n",
    "print(f\"\\nVector A is {magnitude_ratio:.0f}x as long as Query Vector\")"
   ]
  },
  {
   "cell_type": "code",
   "execution_count": 39,
   "metadata": {},
   "outputs": [],
   "source": [
    "unit_query_vector = query_vector / norm(query_vector)\n",
    "unit_title_a_vector = title_a_vector / norm(title_a_vector)\n",
    "assert np.allclose(unit_query_vector, unit_title_a_vector)\n",
    "unit_title_b_vector = title_b_vector"
   ]
  },
  {
   "cell_type": "code",
   "execution_count": 40,
   "metadata": {},
   "outputs": [
    {
     "data": {
      "text/plain": [
       "<matplotlib.legend.Legend at 0x7fe5b76dc0e0>"
      ]
     },
     "execution_count": 40,
     "metadata": {},
     "output_type": "execute_result"
    },
    {
     "data": {
      "image/png": "[encoded data removed]",
      "text/plain": [
       "<Figure size 640x480 with 1 Axes>"
      ]
     },
     "metadata": {},
     "output_type": "display_data"
    }
   ],
   "source": [
    "plt.plot([0, unit_query_vector[0]], [0, unit_query_vector[1]], c='k',\n",
    "linewidth=3, label='Normalized Query Vector')\n",
    "plt.plot([0, unit_title_a_vector[0]], [0, unit_title_a_vector[1]], c='b',\n",
    "linestyle='--', label='Normalized Title A Vector')\n",
    "plt.plot([0, unit_title_b_vector[0]], [0, unit_title_b_vector[1]], c='g',\n",
    "linewidth=2, linestyle='-.', label='Title B Vector')\n",
    "plt.axis('equal')\n",
    "plt.legend()"
   ]
  },
  {
   "cell_type": "code",
   "execution_count": 41,
   "metadata": {},
   "outputs": [
    {
     "name": "stdout",
     "output_type": "stream",
     "text": [
      "'A: Pepperoni Pizza! Pepperoni Pizza! Pepperoni Pizza!' has a normalized query similarity of 1.0000\n",
      "'B: Pepperoni' has a normalized query similarity of 0.5469\n"
     ]
    }
   ],
   "source": [
    "unit_title_vectors = [unit_title_a_vector, unit_title_b_vector]\n",
    "similarities = [tanimoto_similarity(unit_query_vector, unit_title_vector) for unit_title_vector in unit_title_vectors]\n",
    "for index in sorted(range(len(titles)), key=lambda i: similarities[i], reverse=True):\n",
    "    title = titles[index]\n",
    "    similarity = similarities[index]\n",
    "    print(f\"'{title}' has a normalized query similarity of {similarity:.4f}\")"
   ]
  },
  {
   "cell_type": "code",
   "execution_count": 42,
   "metadata": {},
   "outputs": [],
   "source": [
    "def normalized_tanimoto(u1, u2):\n",
    "    dot_product = u1 @ u2\n",
    "    return dot_product / (2 - dot_product)\n",
    "for unit_title_vector in unit_title_vectors[1:]:\n",
    "    similarity = normalized_tanimoto(unit_query_vector, unit_title_vector)\n",
    "    assert similarity == tanimoto_similarity(unit_query_vector, unit_title_vector)"
   ]
  },
  {
   "cell_type": "code",
   "execution_count": 43,
   "metadata": {},
   "outputs": [
    {
     "name": "stdout",
     "output_type": "stream",
     "text": [
      "We are comparing Normalized Query Vector and Normalized Title A vector\n",
      "The Tanimoto similarity between vectors is 1.0000\n",
      "The cosine similarity between vectors is 1.0000\n",
      "The Euclidean distance between vectors is 0.0000\n",
      "The angle between vectors is 0.0000 degrees\n",
      "\n",
      "We are comparing Normalized Query Vector and Title B Vector\n",
      "The Tanimoto similarity between vectors is 0.5469\n",
      "The cosine similarity between vectors is 0.7071\n",
      "The Euclidean distance between vectors is 0.7654\n",
      "The angle between vectors is 45.0000 degrees\n",
      "\n"
     ]
    }
   ],
   "source": [
    "unit_vector_names = ['Normalized Title A vector', 'Title B Vector']\n",
    "u1 = unit_query_vector\n",
    "for unit_vector_name, u2 in zip(unit_vector_names, unit_title_vectors):\n",
    "    similarity = normalized_tanimoto(u1, u2)\n",
    "    cosine_similarity = 2 * similarity / (1 + similarity)\n",
    "    assert cosine_similarity == u1 @ u2\n",
    "    angle = np.arccos(cosine_similarity)\n",
    "    euclidean_distance = (2 - 2 * cosine_similarity) ** 0.5\n",
    "    assert round(euclidean_distance, 10) == round(euclidean(u1, u2), 10)\n",
    "    measurements = {'Tanimoto similarity': similarity,\n",
    "    'cosine similarity': cosine_similarity,\n",
    "    'Euclidean distance': euclidean_distance,\n",
    "    'angle': np.degrees(angle)}\n",
    "    print(\"We are comparing Normalized Query Vector and \"\n",
    "    f\"{unit_vector_name}\")\n",
    "    for measurement_type, value in measurements.items():\n",
    "        output = f\"The {measurement_type} between vectors is {value:.4f}\"\n",
    "        if measurement_type == 'angle':\n",
    "            output += ' degrees\\n'\n",
    "        print(output)"
   ]
  },
  {
   "cell_type": "code",
   "execution_count": 44,
   "metadata": {},
   "outputs": [],
   "source": [
    "num_texts = len(tf_vectors)"
   ]
  },
  {
   "cell_type": "code",
   "execution_count": 45,
   "metadata": {},
   "outputs": [
    {
     "data": {
      "text/plain": [
       "3"
      ]
     },
     "execution_count": 45,
     "metadata": {},
     "output_type": "execute_result"
    }
   ],
   "source": [
    "num_texts"
   ]
  },
  {
   "cell_type": "code",
   "execution_count": 46,
   "metadata": {},
   "outputs": [],
   "source": [
    "similarities = np.zeros((num_texts, num_texts))"
   ]
  },
  {
   "cell_type": "code",
   "execution_count": 47,
   "metadata": {},
   "outputs": [],
   "source": [
    "unit_vectors = np.array([vector / norm(vector) for vector in tf_vectors])"
   ]
  },
  {
   "cell_type": "code",
   "execution_count": 48,
   "metadata": {},
   "outputs": [],
   "source": [
    "for i, vector_a in enumerate(unit_vectors):\n",
    "    for j, vector_b in enumerate(unit_vectors):\n",
    "        similarities[i, j] = normalized_tanimoto(vector_a, vector_b)"
   ]
  },
  {
   "cell_type": "code",
   "execution_count": 49,
   "metadata": {},
   "outputs": [
    {
     "data": {
      "text/plain": [
       "(array([0.5, 1.5, 2.5]),\n",
       " [Text(0, 0.5, 'Text 1'), Text(0, 1.5, 'Text 2'), Text(0, 2.5, 'Text 3')])"
      ]
     },
     "execution_count": 49,
     "metadata": {},
     "output_type": "execute_result"
    },
    {
     "data": {
      "image/png": "[encoded data removed]",
      "text/plain": [
       "<Figure size 640x480 with 2 Axes>"
      ]
     },
     "metadata": {},
     "output_type": "display_data"
    }
   ],
   "source": [
    "labels = ['Text 1', 'Text 2', 'Text 3']\n",
    "sns.heatmap(similarities, annot=True, cmap='YlGnBu', xticklabels=labels, yticklabels=labels)\n",
    "plt.yticks(rotation=0)"
   ]
  },
  {
   "cell_type": "code",
   "execution_count": 50,
   "metadata": {},
   "outputs": [],
   "source": [
    "matrices = [unit_vectors, pd.DataFrame(unit_vectors)]"
   ]
  },
  {
   "cell_type": "code",
   "execution_count": 52,
   "metadata": {},
   "outputs": [],
   "source": [
    "matrix_types = ['2D Numpy array', 'Pandas Dataframe']"
   ]
  },
  {
   "cell_type": "code",
   "execution_count": 53,
   "metadata": {},
   "outputs": [
    {
     "name": "stdout",
     "output_type": "stream",
     "text": [
      "Our 2D Numpy array contains 3 rows and 15 columns\n",
      "Our Pandas Dataframe contains 3 rows and 15 columns\n"
     ]
    }
   ],
   "source": [
    "for matrix_type, matrix in zip(matrix_types, matrices):\n",
    "    row_count, column_count = matrix.shape\n",
    "    print(f\"Our {matrix_type} contains {row_count} rows and {column_count} columns\")\n",
    "    assert (column_count, row_count) == matrix.T.shape"
   ]
  },
  {
   "cell_type": "code",
   "execution_count": 54,
   "metadata": {},
   "outputs": [],
   "source": [
    "double_similarities = 2 * similarities"
   ]
  },
  {
   "cell_type": "code",
   "execution_count": 55,
   "metadata": {},
   "outputs": [
    {
     "data": {
      "text/plain": [
       "array([[2.        , 1.02884877, 0.88904087],\n",
       "       [1.02884877, 2.        , 0.52863842],\n",
       "       [0.88904087, 0.52863842, 2.        ]])"
      ]
     },
     "execution_count": 55,
     "metadata": {},
     "output_type": "execute_result"
    }
   ],
   "source": [
    "double_similarities"
   ]
  },
  {
   "cell_type": "code",
   "execution_count": 56,
   "metadata": {},
   "outputs": [],
   "source": [
    "zero_matrix = np.zeros_like(similarities)"
   ]
  },
  {
   "cell_type": "code",
   "execution_count": 57,
   "metadata": {},
   "outputs": [
    {
     "data": {
      "text/plain": [
       "array([[0., 0., 0.],\n",
       "       [0., 0., 0.],\n",
       "       [0., 0., 0.]])"
      ]
     },
     "execution_count": 57,
     "metadata": {},
     "output_type": "execute_result"
    }
   ],
   "source": [
    "zero_matrix"
   ]
  },
  {
   "cell_type": "code",
   "execution_count": 58,
   "metadata": {},
   "outputs": [],
   "source": [
    "negitive_1_matrix = zero_matrix - 1"
   ]
  },
  {
   "cell_type": "code",
   "execution_count": 59,
   "metadata": {},
   "outputs": [
    {
     "data": {
      "text/plain": [
       "array([[-1., -1., -1.],\n",
       "       [-1., -1., -1.],\n",
       "       [-1., -1., -1.]])"
      ]
     },
     "execution_count": 59,
     "metadata": {},
     "output_type": "execute_result"
    }
   ],
   "source": [
    "negitive_1_matrix"
   ]
  },
  {
   "cell_type": "code",
   "execution_count": 60,
   "metadata": {},
   "outputs": [
    {
     "data": {
      "text/plain": [
       "array([[1.        , 0.51442439, 0.44452044],\n",
       "       [0.51442439, 1.        , 0.26431921],\n",
       "       [0.44452044, 0.26431921, 1.        ]])"
      ]
     },
     "execution_count": 60,
     "metadata": {},
     "output_type": "execute_result"
    }
   ],
   "source": [
    "similarities"
   ]
  },
  {
   "cell_type": "code",
   "execution_count": 61,
   "metadata": {},
   "outputs": [],
   "source": [
    "cosine_similarities = 2 * similarities / (1 + similarities)\n",
    "for i in range(similarities.shape[0]):\n",
    "    for j in range(similarities.shape[1]):\n",
    "        cosine_sim = unit_vectors[i] @ unit_vectors[j]\n",
    "        assert round(cosine_similarities[i][j], 15) == round(cosine_sim, 15)"
   ]
  },
  {
   "cell_type": "code",
   "execution_count": 62,
   "metadata": {},
   "outputs": [
    {
     "name": "stdout",
     "output_type": "stream",
     "text": [
      "Accessing rows and columns in the Similarities Matrix.\n",
      "Row at index 0 is:\n",
      "[1.         0.51442439 0.44452044]\n",
      "\n",
      "Column at index 0 is:\n",
      "[1.         0.51442439 0.44452044]\n",
      "\n",
      "Accessing rows and columns in the Unit Vectors Matrix.\n",
      "Row at index 0 is:\n",
      "[0.40824829 0.40824829 0.         0.         0.40824829 0.\n",
      " 0.40824829 0.         0.         0.         0.         0.40824829\n",
      " 0.         0.         0.40824829]\n",
      "\n",
      "Column at index 0 is:\n",
      "[0.40824829 0.         0.30151134]\n",
      "\n"
     ]
    }
   ],
   "source": [
    "for name, matrix in [('Similarities', similarities), ('Unit Vectors', unit_vectors)]:\n",
    "    print(f\"Accessing rows and columns in the {name} Matrix.\")\n",
    "    row, column = matrix[0], matrix[:,0]\n",
    "    print(f\"Row at index 0 is:\\n{row}\")\n",
    "    print(f\"\\nColumn at index 0 is:\\n{column}\\n\")"
   ]
  },
  {
   "cell_type": "code",
   "execution_count": 63,
   "metadata": {},
   "outputs": [
    {
     "data": {
      "text/plain": [
       "array([[0.40824829, 0.40824829, 0.        , 0.        , 0.40824829,\n",
       "        0.        , 0.40824829, 0.        , 0.        , 0.        ,\n",
       "        0.        , 0.40824829, 0.        , 0.        , 0.40824829],\n",
       "       [0.        , 0.        , 0.        , 0.        , 0.5547002 ,\n",
       "        0.2773501 , 0.5547002 , 0.2773501 , 0.        , 0.        ,\n",
       "        0.        , 0.2773501 , 0.2773501 , 0.        , 0.2773501 ],\n",
       "       [0.30151134, 0.30151134, 0.30151134, 0.30151134, 0.30151134,\n",
       "        0.        , 0.30151134, 0.        , 0.30151134, 0.30151134,\n",
       "        0.30151134, 0.30151134, 0.        , 0.30151134, 0.        ]])"
      ]
     },
     "execution_count": 63,
     "metadata": {},
     "output_type": "execute_result"
    }
   ],
   "source": [
    "unit_vectors"
   ]
  },
  {
   "cell_type": "code",
   "execution_count": 64,
   "metadata": {},
   "outputs": [],
   "source": [
    "row = similarities[0]\n",
    "column = unit_vectors[:, 0]"
   ]
  },
  {
   "cell_type": "code",
   "execution_count": 65,
   "metadata": {},
   "outputs": [
    {
     "data": {
      "text/plain": [
       "0.5422762446156452"
      ]
     },
     "execution_count": 65,
     "metadata": {},
     "output_type": "execute_result"
    }
   ],
   "source": [
    "row @ column"
   ]
  },
  {
   "cell_type": "code",
   "execution_count": 66,
   "metadata": {},
   "outputs": [
    {
     "name": "stdout",
     "output_type": "stream",
     "text": [
      "The dot product between row 0 column 0 is: 0.5423\n",
      "The dot product between row 0 column 1 is: 0.5423\n",
      "The dot product between row 0 column 2 is: 0.1340\n",
      "The dot product between row 0 column 3 is: 0.1340\n",
      "The dot product between row 0 column 4 is: 0.8276\n",
      "The dot product between row 0 column 5 is: 0.1427\n",
      "The dot product between row 0 column 6 is: 0.8276\n",
      "The dot product between row 0 column 7 is: 0.1427\n",
      "The dot product between row 0 column 8 is: 0.1340\n",
      "The dot product between row 0 column 9 is: 0.1340\n",
      "The dot product between row 0 column 10 is: 0.1340\n",
      "The dot product between row 0 column 11 is: 0.6850\n",
      "The dot product between row 0 column 12 is: 0.1427\n",
      "The dot product between row 0 column 13 is: 0.1340\n",
      "The dot product between row 0 column 14 is: 0.5509\n",
      "The dot product between row 1 column 0 is: 0.2897\n",
      "The dot product between row 1 column 1 is: 0.2897\n",
      "The dot product between row 1 column 2 is: 0.0797\n",
      "The dot product between row 1 column 3 is: 0.0797\n",
      "The dot product between row 1 column 4 is: 0.8444\n",
      "The dot product between row 1 column 5 is: 0.2774\n",
      "The dot product between row 1 column 6 is: 0.8444\n",
      "The dot product between row 1 column 7 is: 0.2774\n",
      "The dot product between row 1 column 8 is: 0.0797\n",
      "The dot product between row 1 column 9 is: 0.0797\n",
      "The dot product between row 1 column 10 is: 0.0797\n",
      "The dot product between row 1 column 11 is: 0.5671\n",
      "The dot product between row 1 column 12 is: 0.2774\n",
      "The dot product between row 1 column 13 is: 0.0797\n",
      "The dot product between row 1 column 14 is: 0.4874\n",
      "The dot product between row 2 column 0 is: 0.4830\n",
      "The dot product between row 2 column 1 is: 0.4830\n",
      "The dot product between row 2 column 2 is: 0.3015\n",
      "The dot product between row 2 column 3 is: 0.3015\n",
      "The dot product between row 2 column 4 is: 0.6296\n",
      "The dot product between row 2 column 5 is: 0.0733\n",
      "The dot product between row 2 column 6 is: 0.6296\n",
      "The dot product between row 2 column 7 is: 0.0733\n",
      "The dot product between row 2 column 8 is: 0.3015\n",
      "The dot product between row 2 column 9 is: 0.3015\n",
      "The dot product between row 2 column 10 is: 0.3015\n",
      "The dot product between row 2 column 11 is: 0.5563\n",
      "The dot product between row 2 column 12 is: 0.0733\n",
      "The dot product between row 2 column 13 is: 0.3015\n",
      "The dot product between row 2 column 14 is: 0.2548\n"
     ]
    }
   ],
   "source": [
    "num_rows = similarities.shape[0]\n",
    "num_columns = unit_vectors.shape[1]\n",
    "for i in range(num_rows):\n",
    "    for j in range(num_columns):\n",
    "        row = similarities[i]\n",
    "        column = unit_vectors[:,j]\n",
    "        dot_product = row @ column\n",
    "        print(f\"The dot product between row {i} column {j} is: \" f\"{dot_product:.4f}\")"
   ]
  },
  {
   "cell_type": "code",
   "execution_count": 67,
   "metadata": {},
   "outputs": [
    {
     "data": {
      "text/plain": [
       "(3, 15)"
      ]
     },
     "execution_count": 67,
     "metadata": {},
     "output_type": "execute_result"
    }
   ],
   "source": [
    "unit_vectors.shape"
   ]
  },
  {
   "cell_type": "code",
   "execution_count": 68,
   "metadata": {},
   "outputs": [
    {
     "name": "stdout",
     "output_type": "stream",
     "text": [
      "[[0.54227624 0.         0.         0.         0.         0.\n",
      "  0.         0.         0.         0.         0.         0.\n",
      "  0.         0.         0.        ]\n",
      " [0.         0.         0.         0.         0.         0.\n",
      "  0.         0.         0.         0.         0.         0.\n",
      "  0.         0.         0.        ]\n",
      " [0.         0.         0.         0.         0.         0.\n",
      "  0.         0.         0.         0.         0.         0.\n",
      "  0.         0.         0.        ]]\n",
      "[[0.54227624 0.54227624 0.         0.         0.         0.\n",
      "  0.         0.         0.         0.         0.         0.\n",
      "  0.         0.         0.        ]\n",
      " [0.         0.         0.         0.         0.         0.\n",
      "  0.         0.         0.         0.         0.         0.\n",
      "  0.         0.         0.        ]\n",
      " [0.         0.         0.         0.         0.         0.\n",
      "  0.         0.         0.         0.         0.         0.\n",
      "  0.         0.         0.        ]]\n",
      "[[0.54227624 0.54227624 0.13402795 0.         0.         0.\n",
      "  0.         0.         0.         0.         0.         0.\n",
      "  0.         0.         0.        ]\n",
      " [0.         0.         0.         0.         0.         0.\n",
      "  0.         0.         0.         0.         0.         0.\n",
      "  0.         0.         0.        ]\n",
      " [0.         0.         0.         0.         0.         0.\n",
      "  0.         0.         0.         0.         0.         0.\n",
      "  0.         0.         0.        ]]\n",
      "[[0.54227624 0.54227624 0.13402795 0.13402795 0.         0.\n",
      "  0.         0.         0.         0.         0.         0.\n",
      "  0.         0.         0.        ]\n",
      " [0.         0.         0.         0.         0.         0.\n",
      "  0.         0.         0.         0.         0.         0.\n",
      "  0.         0.         0.        ]\n",
      " [0.         0.         0.         0.         0.         0.\n",
      "  0.         0.         0.         0.         0.         0.\n",
      "  0.         0.         0.        ]]\n",
      "[[0.54227624 0.54227624 0.13402795 0.13402795 0.82762755 0.\n",
      "  0.         0.         0.         0.         0.         0.\n",
      "  0.         0.         0.        ]\n",
      " [0.         0.         0.         0.         0.         0.\n",
      "  0.         0.         0.         0.         0.         0.\n",
      "  0.         0.         0.        ]\n",
      " [0.         0.         0.         0.         0.         0.\n",
      "  0.         0.         0.         0.         0.         0.\n",
      "  0.         0.         0.        ]]\n",
      "[[0.54227624 0.54227624 0.13402795 0.13402795 0.82762755 0.14267565\n",
      "  0.         0.         0.         0.         0.         0.\n",
      "  0.         0.         0.        ]\n",
      " [0.         0.         0.         0.         0.         0.\n",
      "  0.         0.         0.         0.         0.         0.\n",
      "  0.         0.         0.        ]\n",
      " [0.         0.         0.         0.         0.         0.\n",
      "  0.         0.         0.         0.         0.         0.\n",
      "  0.         0.         0.        ]]\n",
      "[[0.54227624 0.54227624 0.13402795 0.13402795 0.82762755 0.14267565\n",
      "  0.82762755 0.         0.         0.         0.         0.\n",
      "  0.         0.         0.        ]\n",
      " [0.         0.         0.         0.         0.         0.\n",
      "  0.         0.         0.         0.         0.         0.\n",
      "  0.         0.         0.        ]\n",
      " [0.         0.         0.         0.         0.         0.\n",
      "  0.         0.         0.         0.         0.         0.\n",
      "  0.         0.         0.        ]]\n",
      "[[0.54227624 0.54227624 0.13402795 0.13402795 0.82762755 0.14267565\n",
      "  0.82762755 0.14267565 0.         0.         0.         0.\n",
      "  0.         0.         0.        ]\n",
      " [0.         0.         0.         0.         0.         0.\n",
      "  0.         0.         0.         0.         0.         0.\n",
      "  0.         0.         0.        ]\n",
      " [0.         0.         0.         0.         0.         0.\n",
      "  0.         0.         0.         0.         0.         0.\n",
      "  0.         0.         0.        ]]\n",
      "[[0.54227624 0.54227624 0.13402795 0.13402795 0.82762755 0.14267565\n",
      "  0.82762755 0.14267565 0.13402795 0.         0.         0.\n",
      "  0.         0.         0.        ]\n",
      " [0.         0.         0.         0.         0.         0.\n",
      "  0.         0.         0.         0.         0.         0.\n",
      "  0.         0.         0.        ]\n",
      " [0.         0.         0.         0.         0.         0.\n",
      "  0.         0.         0.         0.         0.         0.\n",
      "  0.         0.         0.        ]]\n",
      "[[0.54227624 0.54227624 0.13402795 0.13402795 0.82762755 0.14267565\n",
      "  0.82762755 0.14267565 0.13402795 0.13402795 0.         0.\n",
      "  0.         0.         0.        ]\n",
      " [0.         0.         0.         0.         0.         0.\n",
      "  0.         0.         0.         0.         0.         0.\n",
      "  0.         0.         0.        ]\n",
      " [0.         0.         0.         0.         0.         0.\n",
      "  0.         0.         0.         0.         0.         0.\n",
      "  0.         0.         0.        ]]\n",
      "[[0.54227624 0.54227624 0.13402795 0.13402795 0.82762755 0.14267565\n",
      "  0.82762755 0.14267565 0.13402795 0.13402795 0.13402795 0.\n",
      "  0.         0.         0.        ]\n",
      " [0.         0.         0.         0.         0.         0.\n",
      "  0.         0.         0.         0.         0.         0.\n",
      "  0.         0.         0.        ]\n",
      " [0.         0.         0.         0.         0.         0.\n",
      "  0.         0.         0.         0.         0.         0.\n",
      "  0.         0.         0.        ]]\n",
      "[[0.54227624 0.54227624 0.13402795 0.13402795 0.82762755 0.14267565\n",
      "  0.82762755 0.14267565 0.13402795 0.13402795 0.13402795 0.6849519\n",
      "  0.         0.         0.        ]\n",
      " [0.         0.         0.         0.         0.         0.\n",
      "  0.         0.         0.         0.         0.         0.\n",
      "  0.         0.         0.        ]\n",
      " [0.         0.         0.         0.         0.         0.\n",
      "  0.         0.         0.         0.         0.         0.\n",
      "  0.         0.         0.        ]]\n",
      "[[0.54227624 0.54227624 0.13402795 0.13402795 0.82762755 0.14267565\n",
      "  0.82762755 0.14267565 0.13402795 0.13402795 0.13402795 0.6849519\n",
      "  0.14267565 0.         0.        ]\n",
      " [0.         0.         0.         0.         0.         0.\n",
      "  0.         0.         0.         0.         0.         0.\n",
      "  0.         0.         0.        ]\n",
      " [0.         0.         0.         0.         0.         0.\n",
      "  0.         0.         0.         0.         0.         0.\n",
      "  0.         0.         0.        ]]\n",
      "[[0.54227624 0.54227624 0.13402795 0.13402795 0.82762755 0.14267565\n",
      "  0.82762755 0.14267565 0.13402795 0.13402795 0.13402795 0.6849519\n",
      "  0.14267565 0.13402795 0.        ]\n",
      " [0.         0.         0.         0.         0.         0.\n",
      "  0.         0.         0.         0.         0.         0.\n",
      "  0.         0.         0.        ]\n",
      " [0.         0.         0.         0.         0.         0.\n",
      "  0.         0.         0.         0.         0.         0.\n",
      "  0.         0.         0.        ]]\n",
      "[[0.54227624 0.54227624 0.13402795 0.13402795 0.82762755 0.14267565\n",
      "  0.82762755 0.14267565 0.13402795 0.13402795 0.13402795 0.6849519\n",
      "  0.14267565 0.13402795 0.55092394]\n",
      " [0.         0.         0.         0.         0.         0.\n",
      "  0.         0.         0.         0.         0.         0.\n",
      "  0.         0.         0.        ]\n",
      " [0.         0.         0.         0.         0.         0.\n",
      "  0.         0.         0.         0.         0.         0.\n",
      "  0.         0.         0.        ]]\n",
      "[[0.54227624 0.54227624 0.13402795 0.13402795 0.82762755 0.14267565\n",
      "  0.82762755 0.14267565 0.13402795 0.13402795 0.13402795 0.6849519\n",
      "  0.14267565 0.13402795 0.55092394]\n",
      " [0.28970812 0.         0.         0.         0.         0.\n",
      "  0.         0.         0.         0.         0.         0.\n",
      "  0.         0.         0.        ]\n",
      " [0.         0.         0.         0.         0.         0.\n",
      "  0.         0.         0.         0.         0.         0.\n",
      "  0.         0.         0.        ]]\n",
      "[[0.54227624 0.54227624 0.13402795 0.13402795 0.82762755 0.14267565\n",
      "  0.82762755 0.14267565 0.13402795 0.13402795 0.13402795 0.6849519\n",
      "  0.14267565 0.13402795 0.55092394]\n",
      " [0.28970812 0.28970812 0.         0.         0.         0.\n",
      "  0.         0.         0.         0.         0.         0.\n",
      "  0.         0.         0.        ]\n",
      " [0.         0.         0.         0.         0.         0.\n",
      "  0.         0.         0.         0.         0.         0.\n",
      "  0.         0.         0.        ]]\n",
      "[[0.54227624 0.54227624 0.13402795 0.13402795 0.82762755 0.14267565\n",
      "  0.82762755 0.14267565 0.13402795 0.13402795 0.13402795 0.6849519\n",
      "  0.14267565 0.13402795 0.55092394]\n",
      " [0.28970812 0.28970812 0.07969524 0.         0.         0.\n",
      "  0.         0.         0.         0.         0.         0.\n",
      "  0.         0.         0.        ]\n",
      " [0.         0.         0.         0.         0.         0.\n",
      "  0.         0.         0.         0.         0.         0.\n",
      "  0.         0.         0.        ]]\n",
      "[[0.54227624 0.54227624 0.13402795 0.13402795 0.82762755 0.14267565\n",
      "  0.82762755 0.14267565 0.13402795 0.13402795 0.13402795 0.6849519\n",
      "  0.14267565 0.13402795 0.55092394]\n",
      " [0.28970812 0.28970812 0.07969524 0.07969524 0.         0.\n",
      "  0.         0.         0.         0.         0.         0.\n",
      "  0.         0.         0.        ]\n",
      " [0.         0.         0.         0.         0.         0.\n",
      "  0.         0.         0.         0.         0.         0.\n",
      "  0.         0.         0.        ]]\n",
      "[[0.54227624 0.54227624 0.13402795 0.13402795 0.82762755 0.14267565\n",
      "  0.82762755 0.14267565 0.13402795 0.13402795 0.13402795 0.6849519\n",
      "  0.14267565 0.13402795 0.55092394]\n",
      " [0.28970812 0.28970812 0.07969524 0.07969524 0.84440831 0.\n",
      "  0.         0.         0.         0.         0.         0.\n",
      "  0.         0.         0.        ]\n",
      " [0.         0.         0.         0.         0.         0.\n",
      "  0.         0.         0.         0.         0.         0.\n",
      "  0.         0.         0.        ]]\n",
      "[[0.54227624 0.54227624 0.13402795 0.13402795 0.82762755 0.14267565\n",
      "  0.82762755 0.14267565 0.13402795 0.13402795 0.13402795 0.6849519\n",
      "  0.14267565 0.13402795 0.55092394]\n",
      " [0.28970812 0.28970812 0.07969524 0.07969524 0.84440831 0.2773501\n",
      "  0.         0.         0.         0.         0.         0.\n",
      "  0.         0.         0.        ]\n",
      " [0.         0.         0.         0.         0.         0.\n",
      "  0.         0.         0.         0.         0.         0.\n",
      "  0.         0.         0.        ]]\n",
      "[[0.54227624 0.54227624 0.13402795 0.13402795 0.82762755 0.14267565\n",
      "  0.82762755 0.14267565 0.13402795 0.13402795 0.13402795 0.6849519\n",
      "  0.14267565 0.13402795 0.55092394]\n",
      " [0.28970812 0.28970812 0.07969524 0.07969524 0.84440831 0.2773501\n",
      "  0.84440831 0.         0.         0.         0.         0.\n",
      "  0.         0.         0.        ]\n",
      " [0.         0.         0.         0.         0.         0.\n",
      "  0.         0.         0.         0.         0.         0.\n",
      "  0.         0.         0.        ]]\n",
      "[[0.54227624 0.54227624 0.13402795 0.13402795 0.82762755 0.14267565\n",
      "  0.82762755 0.14267565 0.13402795 0.13402795 0.13402795 0.6849519\n",
      "  0.14267565 0.13402795 0.55092394]\n",
      " [0.28970812 0.28970812 0.07969524 0.07969524 0.84440831 0.2773501\n",
      "  0.84440831 0.2773501  0.         0.         0.         0.\n",
      "  0.         0.         0.        ]\n",
      " [0.         0.         0.         0.         0.         0.\n",
      "  0.         0.         0.         0.         0.         0.\n",
      "  0.         0.         0.        ]]\n",
      "[[0.54227624 0.54227624 0.13402795 0.13402795 0.82762755 0.14267565\n",
      "  0.82762755 0.14267565 0.13402795 0.13402795 0.13402795 0.6849519\n",
      "  0.14267565 0.13402795 0.55092394]\n",
      " [0.28970812 0.28970812 0.07969524 0.07969524 0.84440831 0.2773501\n",
      "  0.84440831 0.2773501  0.07969524 0.         0.         0.\n",
      "  0.         0.         0.        ]\n",
      " [0.         0.         0.         0.         0.         0.\n",
      "  0.         0.         0.         0.         0.         0.\n",
      "  0.         0.         0.        ]]\n",
      "[[0.54227624 0.54227624 0.13402795 0.13402795 0.82762755 0.14267565\n",
      "  0.82762755 0.14267565 0.13402795 0.13402795 0.13402795 0.6849519\n",
      "  0.14267565 0.13402795 0.55092394]\n",
      " [0.28970812 0.28970812 0.07969524 0.07969524 0.84440831 0.2773501\n",
      "  0.84440831 0.2773501  0.07969524 0.07969524 0.         0.\n",
      "  0.         0.         0.        ]\n",
      " [0.         0.         0.         0.         0.         0.\n",
      "  0.         0.         0.         0.         0.         0.\n",
      "  0.         0.         0.        ]]\n",
      "[[0.54227624 0.54227624 0.13402795 0.13402795 0.82762755 0.14267565\n",
      "  0.82762755 0.14267565 0.13402795 0.13402795 0.13402795 0.6849519\n",
      "  0.14267565 0.13402795 0.55092394]\n",
      " [0.28970812 0.28970812 0.07969524 0.07969524 0.84440831 0.2773501\n",
      "  0.84440831 0.2773501  0.07969524 0.07969524 0.07969524 0.\n",
      "  0.         0.         0.        ]\n",
      " [0.         0.         0.         0.         0.         0.\n",
      "  0.         0.         0.         0.         0.         0.\n",
      "  0.         0.         0.        ]]\n",
      "[[0.54227624 0.54227624 0.13402795 0.13402795 0.82762755 0.14267565\n",
      "  0.82762755 0.14267565 0.13402795 0.13402795 0.13402795 0.6849519\n",
      "  0.14267565 0.13402795 0.55092394]\n",
      " [0.28970812 0.28970812 0.07969524 0.07969524 0.84440831 0.2773501\n",
      "  0.84440831 0.2773501  0.07969524 0.07969524 0.07969524 0.56705821\n",
      "  0.         0.         0.        ]\n",
      " [0.         0.         0.         0.         0.         0.\n",
      "  0.         0.         0.         0.         0.         0.\n",
      "  0.         0.         0.        ]]\n",
      "[[0.54227624 0.54227624 0.13402795 0.13402795 0.82762755 0.14267565\n",
      "  0.82762755 0.14267565 0.13402795 0.13402795 0.13402795 0.6849519\n",
      "  0.14267565 0.13402795 0.55092394]\n",
      " [0.28970812 0.28970812 0.07969524 0.07969524 0.84440831 0.2773501\n",
      "  0.84440831 0.2773501  0.07969524 0.07969524 0.07969524 0.56705821\n",
      "  0.2773501  0.         0.        ]\n",
      " [0.         0.         0.         0.         0.         0.\n",
      "  0.         0.         0.         0.         0.         0.\n",
      "  0.         0.         0.        ]]\n",
      "[[0.54227624 0.54227624 0.13402795 0.13402795 0.82762755 0.14267565\n",
      "  0.82762755 0.14267565 0.13402795 0.13402795 0.13402795 0.6849519\n",
      "  0.14267565 0.13402795 0.55092394]\n",
      " [0.28970812 0.28970812 0.07969524 0.07969524 0.84440831 0.2773501\n",
      "  0.84440831 0.2773501  0.07969524 0.07969524 0.07969524 0.56705821\n",
      "  0.2773501  0.07969524 0.        ]\n",
      " [0.         0.         0.         0.         0.         0.\n",
      "  0.         0.         0.         0.         0.         0.\n",
      "  0.         0.         0.        ]]\n",
      "[[0.54227624 0.54227624 0.13402795 0.13402795 0.82762755 0.14267565\n",
      "  0.82762755 0.14267565 0.13402795 0.13402795 0.13402795 0.6849519\n",
      "  0.14267565 0.13402795 0.55092394]\n",
      " [0.28970812 0.28970812 0.07969524 0.07969524 0.84440831 0.2773501\n",
      "  0.84440831 0.2773501  0.07969524 0.07969524 0.07969524 0.56705821\n",
      "  0.2773501  0.07969524 0.48736297]\n",
      " [0.         0.         0.         0.         0.         0.\n",
      "  0.         0.         0.         0.         0.         0.\n",
      "  0.         0.         0.        ]]\n",
      "[[0.54227624 0.54227624 0.13402795 0.13402795 0.82762755 0.14267565\n",
      "  0.82762755 0.14267565 0.13402795 0.13402795 0.13402795 0.6849519\n",
      "  0.14267565 0.13402795 0.55092394]\n",
      " [0.28970812 0.28970812 0.07969524 0.07969524 0.84440831 0.2773501\n",
      "  0.84440831 0.2773501  0.07969524 0.07969524 0.07969524 0.56705821\n",
      "  0.2773501  0.07969524 0.48736297]\n",
      " [0.48298605 0.         0.         0.         0.         0.\n",
      "  0.         0.         0.         0.         0.         0.\n",
      "  0.         0.         0.        ]]\n",
      "[[0.54227624 0.54227624 0.13402795 0.13402795 0.82762755 0.14267565\n",
      "  0.82762755 0.14267565 0.13402795 0.13402795 0.13402795 0.6849519\n",
      "  0.14267565 0.13402795 0.55092394]\n",
      " [0.28970812 0.28970812 0.07969524 0.07969524 0.84440831 0.2773501\n",
      "  0.84440831 0.2773501  0.07969524 0.07969524 0.07969524 0.56705821\n",
      "  0.2773501  0.07969524 0.48736297]\n",
      " [0.48298605 0.48298605 0.         0.         0.         0.\n",
      "  0.         0.         0.         0.         0.         0.\n",
      "  0.         0.         0.        ]]\n",
      "[[0.54227624 0.54227624 0.13402795 0.13402795 0.82762755 0.14267565\n",
      "  0.82762755 0.14267565 0.13402795 0.13402795 0.13402795 0.6849519\n",
      "  0.14267565 0.13402795 0.55092394]\n",
      " [0.28970812 0.28970812 0.07969524 0.07969524 0.84440831 0.2773501\n",
      "  0.84440831 0.2773501  0.07969524 0.07969524 0.07969524 0.56705821\n",
      "  0.2773501  0.07969524 0.48736297]\n",
      " [0.48298605 0.48298605 0.30151134 0.         0.         0.\n",
      "  0.         0.         0.         0.         0.         0.\n",
      "  0.         0.         0.        ]]\n",
      "[[0.54227624 0.54227624 0.13402795 0.13402795 0.82762755 0.14267565\n",
      "  0.82762755 0.14267565 0.13402795 0.13402795 0.13402795 0.6849519\n",
      "  0.14267565 0.13402795 0.55092394]\n",
      " [0.28970812 0.28970812 0.07969524 0.07969524 0.84440831 0.2773501\n",
      "  0.84440831 0.2773501  0.07969524 0.07969524 0.07969524 0.56705821\n",
      "  0.2773501  0.07969524 0.48736297]\n",
      " [0.48298605 0.48298605 0.30151134 0.30151134 0.         0.\n",
      "  0.         0.         0.         0.         0.         0.\n",
      "  0.         0.         0.        ]]\n",
      "[[0.54227624 0.54227624 0.13402795 0.13402795 0.82762755 0.14267565\n",
      "  0.82762755 0.14267565 0.13402795 0.13402795 0.13402795 0.6849519\n",
      "  0.14267565 0.13402795 0.55092394]\n",
      " [0.28970812 0.28970812 0.07969524 0.07969524 0.84440831 0.2773501\n",
      "  0.84440831 0.2773501  0.07969524 0.07969524 0.07969524 0.56705821\n",
      "  0.2773501  0.07969524 0.48736297]\n",
      " [0.48298605 0.48298605 0.30151134 0.30151134 0.62960397 0.\n",
      "  0.         0.         0.         0.         0.         0.\n",
      "  0.         0.         0.        ]]\n",
      "[[0.54227624 0.54227624 0.13402795 0.13402795 0.82762755 0.14267565\n",
      "  0.82762755 0.14267565 0.13402795 0.13402795 0.13402795 0.6849519\n",
      "  0.14267565 0.13402795 0.55092394]\n",
      " [0.28970812 0.28970812 0.07969524 0.07969524 0.84440831 0.2773501\n",
      "  0.84440831 0.2773501  0.07969524 0.07969524 0.07969524 0.56705821\n",
      "  0.2773501  0.07969524 0.48736297]\n",
      " [0.48298605 0.48298605 0.30151134 0.30151134 0.62960397 0.07330896\n",
      "  0.         0.         0.         0.         0.         0.\n",
      "  0.         0.         0.        ]]\n",
      "[[0.54227624 0.54227624 0.13402795 0.13402795 0.82762755 0.14267565\n",
      "  0.82762755 0.14267565 0.13402795 0.13402795 0.13402795 0.6849519\n",
      "  0.14267565 0.13402795 0.55092394]\n",
      " [0.28970812 0.28970812 0.07969524 0.07969524 0.84440831 0.2773501\n",
      "  0.84440831 0.2773501  0.07969524 0.07969524 0.07969524 0.56705821\n",
      "  0.2773501  0.07969524 0.48736297]\n",
      " [0.48298605 0.48298605 0.30151134 0.30151134 0.62960397 0.07330896\n",
      "  0.62960397 0.         0.         0.         0.         0.\n",
      "  0.         0.         0.        ]]\n",
      "[[0.54227624 0.54227624 0.13402795 0.13402795 0.82762755 0.14267565\n",
      "  0.82762755 0.14267565 0.13402795 0.13402795 0.13402795 0.6849519\n",
      "  0.14267565 0.13402795 0.55092394]\n",
      " [0.28970812 0.28970812 0.07969524 0.07969524 0.84440831 0.2773501\n",
      "  0.84440831 0.2773501  0.07969524 0.07969524 0.07969524 0.56705821\n",
      "  0.2773501  0.07969524 0.48736297]\n",
      " [0.48298605 0.48298605 0.30151134 0.30151134 0.62960397 0.07330896\n",
      "  0.62960397 0.07330896 0.         0.         0.         0.\n",
      "  0.         0.         0.        ]]\n",
      "[[0.54227624 0.54227624 0.13402795 0.13402795 0.82762755 0.14267565\n",
      "  0.82762755 0.14267565 0.13402795 0.13402795 0.13402795 0.6849519\n",
      "  0.14267565 0.13402795 0.55092394]\n",
      " [0.28970812 0.28970812 0.07969524 0.07969524 0.84440831 0.2773501\n",
      "  0.84440831 0.2773501  0.07969524 0.07969524 0.07969524 0.56705821\n",
      "  0.2773501  0.07969524 0.48736297]\n",
      " [0.48298605 0.48298605 0.30151134 0.30151134 0.62960397 0.07330896\n",
      "  0.62960397 0.07330896 0.30151134 0.         0.         0.\n",
      "  0.         0.         0.        ]]\n",
      "[[0.54227624 0.54227624 0.13402795 0.13402795 0.82762755 0.14267565\n",
      "  0.82762755 0.14267565 0.13402795 0.13402795 0.13402795 0.6849519\n",
      "  0.14267565 0.13402795 0.55092394]\n",
      " [0.28970812 0.28970812 0.07969524 0.07969524 0.84440831 0.2773501\n",
      "  0.84440831 0.2773501  0.07969524 0.07969524 0.07969524 0.56705821\n",
      "  0.2773501  0.07969524 0.48736297]\n",
      " [0.48298605 0.48298605 0.30151134 0.30151134 0.62960397 0.07330896\n",
      "  0.62960397 0.07330896 0.30151134 0.30151134 0.         0.\n",
      "  0.         0.         0.        ]]\n",
      "[[0.54227624 0.54227624 0.13402795 0.13402795 0.82762755 0.14267565\n",
      "  0.82762755 0.14267565 0.13402795 0.13402795 0.13402795 0.6849519\n",
      "  0.14267565 0.13402795 0.55092394]\n",
      " [0.28970812 0.28970812 0.07969524 0.07969524 0.84440831 0.2773501\n",
      "  0.84440831 0.2773501  0.07969524 0.07969524 0.07969524 0.56705821\n",
      "  0.2773501  0.07969524 0.48736297]\n",
      " [0.48298605 0.48298605 0.30151134 0.30151134 0.62960397 0.07330896\n",
      "  0.62960397 0.07330896 0.30151134 0.30151134 0.30151134 0.\n",
      "  0.         0.         0.        ]]\n",
      "[[0.54227624 0.54227624 0.13402795 0.13402795 0.82762755 0.14267565\n",
      "  0.82762755 0.14267565 0.13402795 0.13402795 0.13402795 0.6849519\n",
      "  0.14267565 0.13402795 0.55092394]\n",
      " [0.28970812 0.28970812 0.07969524 0.07969524 0.84440831 0.2773501\n",
      "  0.84440831 0.2773501  0.07969524 0.07969524 0.07969524 0.56705821\n",
      "  0.2773501  0.07969524 0.48736297]\n",
      " [0.48298605 0.48298605 0.30151134 0.30151134 0.62960397 0.07330896\n",
      "  0.62960397 0.07330896 0.30151134 0.30151134 0.30151134 0.55629501\n",
      "  0.         0.         0.        ]]\n",
      "[[0.54227624 0.54227624 0.13402795 0.13402795 0.82762755 0.14267565\n",
      "  0.82762755 0.14267565 0.13402795 0.13402795 0.13402795 0.6849519\n",
      "  0.14267565 0.13402795 0.55092394]\n",
      " [0.28970812 0.28970812 0.07969524 0.07969524 0.84440831 0.2773501\n",
      "  0.84440831 0.2773501  0.07969524 0.07969524 0.07969524 0.56705821\n",
      "  0.2773501  0.07969524 0.48736297]\n",
      " [0.48298605 0.48298605 0.30151134 0.30151134 0.62960397 0.07330896\n",
      "  0.62960397 0.07330896 0.30151134 0.30151134 0.30151134 0.55629501\n",
      "  0.07330896 0.         0.        ]]\n",
      "[[0.54227624 0.54227624 0.13402795 0.13402795 0.82762755 0.14267565\n",
      "  0.82762755 0.14267565 0.13402795 0.13402795 0.13402795 0.6849519\n",
      "  0.14267565 0.13402795 0.55092394]\n",
      " [0.28970812 0.28970812 0.07969524 0.07969524 0.84440831 0.2773501\n",
      "  0.84440831 0.2773501  0.07969524 0.07969524 0.07969524 0.56705821\n",
      "  0.2773501  0.07969524 0.48736297]\n",
      " [0.48298605 0.48298605 0.30151134 0.30151134 0.62960397 0.07330896\n",
      "  0.62960397 0.07330896 0.30151134 0.30151134 0.30151134 0.55629501\n",
      "  0.07330896 0.30151134 0.        ]]\n",
      "[[0.54227624 0.54227624 0.13402795 0.13402795 0.82762755 0.14267565\n",
      "  0.82762755 0.14267565 0.13402795 0.13402795 0.13402795 0.6849519\n",
      "  0.14267565 0.13402795 0.55092394]\n",
      " [0.28970812 0.28970812 0.07969524 0.07969524 0.84440831 0.2773501\n",
      "  0.84440831 0.2773501  0.07969524 0.07969524 0.07969524 0.56705821\n",
      "  0.2773501  0.07969524 0.48736297]\n",
      " [0.48298605 0.48298605 0.30151134 0.30151134 0.62960397 0.07330896\n",
      "  0.62960397 0.07330896 0.30151134 0.30151134 0.30151134 0.55629501\n",
      "  0.07330896 0.30151134 0.25478367]]\n"
     ]
    }
   ],
   "source": [
    "dot_products = np.zeros((num_rows, num_columns))\n",
    "for i in range(num_rows):\n",
    "    for j in range(num_columns):\n",
    "        dot_products[i][j] = similarities[i] @ unit_vectors[:,j]\n",
    "        print(dot_products)"
   ]
  },
  {
   "cell_type": "code",
   "execution_count": 69,
   "metadata": {},
   "outputs": [],
   "source": [
    "matrix_product = similarities @ unit_vectors\n",
    "assert np.allclose(matrix_product, dot_products)"
   ]
  },
  {
   "cell_type": "code",
   "execution_count": null,
   "metadata": {},
   "outputs": [],
   "source": []
  }
 ],
 "metadata": {
  "kernelspec": {
   "display_name": "Python 3",
   "language": "python",
   "name": "python3"
  },
  "language_info": {
   "codemirror_mode": {
    "name": "ipython",
    "version": 3
   },
   "file_extension": ".py",
   "mimetype": "text/x-python",
   "name": "python",
   "nbconvert_exporter": "python",
   "pygments_lexer": "ipython3",
   "version": "3.12.4"
  }
 },
 "nbformat": 4,
 "nbformat_minor": 2
}
